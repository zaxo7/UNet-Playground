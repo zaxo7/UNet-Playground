{
 "cells": [
  {
   "cell_type": "code",
   "execution_count": 2,
   "metadata": {},
   "outputs": [],
   "source": [
    "import cv2 as cv\n",
    "import numpy as np\n",
    "import glob\n",
    "import matplotlib.pyplot as plt"
   ]
  },
  {
   "cell_type": "code",
   "execution_count": null,
   "metadata": {},
   "outputs": [],
   "source": []
  },
  {
   "cell_type": "code",
   "execution_count": 4,
   "metadata": {},
   "outputs": [],
   "source": [
    "img_files = sorted(glob.glob('data2/train/mask/*.jpg'))\n",
    "\n",
    "for file in img_files:\n",
    "    image = cv.imread(file)\n",
    "    image = np.invert(image)\n",
    "    cv.imwrite(file, image)\n",
    "    "
   ]
  },
  {
   "cell_type": "code",
   "execution_count": 7,
   "metadata": {},
   "outputs": [],
   "source": [
    "img_files = sorted(glob.glob('data2/test/mask/*.jpg'))\n",
    "\n",
    "for file in img_files:\n",
    "    image = cv.imread(file)\n",
    "    image = np.invert(image)\n",
    "    cv.imwrite(file, image)\n",
    "    "
   ]
  },
  {
   "cell_type": "code",
   "execution_count": 6,
   "metadata": {},
   "outputs": [],
   "source": [
    "img_files = sorted(glob.glob('data2/train/WBC_mask/*.jpg'))\n",
    "\n",
    "for file in img_files:\n",
    "    image = cv.imread(file)\n",
    "    image = np.invert(image)\n",
    "    cv.imwrite(file, image)\n",
    "    "
   ]
  },
  {
   "cell_type": "code",
   "execution_count": 8,
   "metadata": {},
   "outputs": [],
   "source": [
    "img_files = sorted(glob.glob('data2/test/WBC_mask/*.jpg'))\n",
    "\n",
    "for file in img_files:\n",
    "    image = cv.imread(file)\n",
    "    image = np.invert(image)\n",
    "    cv.imwrite(file, image)\n",
    "    "
   ]
  }
 ],
 "metadata": {
  "interpreter": {
   "hash": "c475343c90b37f20c02fd3a18d45f7c3e275848f34e4c07d7554fbf081374c3b"
  },
  "kernelspec": {
   "display_name": "Python 3.8.10 ('tensorflow')",
   "language": "python",
   "name": "python3"
  },
  "language_info": {
   "codemirror_mode": {
    "name": "ipython",
    "version": 3
   },
   "file_extension": ".py",
   "mimetype": "text/x-python",
   "name": "python",
   "nbconvert_exporter": "python",
   "pygments_lexer": "ipython3",
   "version": "3.8.10"
  },
  "orig_nbformat": 4
 },
 "nbformat": 4,
 "nbformat_minor": 2
}
