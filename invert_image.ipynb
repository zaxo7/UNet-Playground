{
 "cells": [
  {
   "cell_type": "code",
   "execution_count": 19,
   "metadata": {},
   "outputs": [],
   "source": [
    "import cv2 as cv\n",
    "import numpy as np\n",
    "import glob\n",
    "import matplotlib.pyplot as plt"
   ]
  },
  {
   "cell_type": "code",
   "execution_count": null,
   "metadata": {},
   "outputs": [],
   "source": []
  },
  {
   "cell_type": "code",
   "execution_count": 4,
   "metadata": {},
   "outputs": [],
   "source": [
    "img_files = sorted(glob.glob('data2/train/mask/*.jpg'))\n",
    "\n",
    "for file in img_files:\n",
    "    image = cv.imread(file)\n",
    "    image = np.invert(image)\n",
    "    cv.imwrite(file, image)\n",
    "    "
   ]
  },
  {
   "cell_type": "code",
   "execution_count": 7,
   "metadata": {},
   "outputs": [],
   "source": [
    "img_files = sorted(glob.glob('data2/test/mask/*.jpg'))\n",
    "\n",
    "for file in img_files:\n",
    "    image = cv.imread(file)\n",
    "    image = np.invert(image)\n",
    "    cv.imwrite(file, image)\n",
    "    "
   ]
  },
  {
   "cell_type": "code",
   "execution_count": 6,
   "metadata": {},
   "outputs": [],
   "source": [
    "img_files = sorted(glob.glob('data2/train/WBC_mask/*.jpg'))\n",
    "\n",
    "for file in img_files:\n",
    "    image = cv.imread(file)\n",
    "    image = np.invert(image)\n",
    "    cv.imwrite(file, image)\n",
    "    "
   ]
  },
  {
   "cell_type": "code",
   "execution_count": 8,
   "metadata": {},
   "outputs": [],
   "source": [
    "img_files = sorted(glob.glob('data2/test/WBC_mask/*.jpg'))\n",
    "\n",
    "for file in img_files:\n",
    "    image = cv.imread(file)\n",
    "    image = np.invert(image)\n",
    "    cv.imwrite(file, image)\n",
    "    "
   ]
  },
  {
   "cell_type": "code",
   "execution_count": null,
   "metadata": {},
   "outputs": [
    {
     "name": "stdout",
     "output_type": "stream",
     "text": [
      "['data_platlets/mask/Im003_1_P_M.jpg', 'data_platlets/mask/Im004_1_P.jpg', 'data_platlets/mask/Im006_1_P.jpg', 'data_platlets/mask/Im007_1_P.jpg', 'data_platlets/mask/Im008_1_P.jpg', 'data_platlets/mask/Im009_1_P.jpg', 'data_platlets/mask/Im010_1_P.jpg', 'data_platlets/mask/Im011_1_P.jpg', 'data_platlets/mask/Im012_1_P.jpg', 'data_platlets/mask/Im013_1_P.jpg', 'data_platlets/mask/Im014_1_P.jpg', 'data_platlets/mask/Im015_1_P.jpg', 'data_platlets/mask/Im016_1_P.jpg', 'data_platlets/mask/Im017_1_P.jpg', 'data_platlets/mask/Im018_1_P.jpg', 'data_platlets/mask/Im019_1_P.jpg', 'data_platlets/mask/Im020_1_P.jpg', 'data_platlets/mask/Im021_1_P.jpg', 'data_platlets/mask/Im022_1_P.jpg', 'data_platlets/mask/Im023_1_P.jpg', 'data_platlets/mask/Im024_1_P.jpg', 'data_platlets/mask/Im025_1_P.jpg', 'data_platlets/mask/Im026_1_P.jpg', 'data_platlets/mask/Im027_1_P_M (1).jpg', 'data_platlets/mask/Im028_1_P.jpg', 'data_platlets/mask/Im029_1_P.jpg', 'data_platlets/mask/Im030_1_P.jpg', 'data_platlets/mask/Im031_1_P.jpg', 'data_platlets/mask/Im032_1_P.jpg', 'data_platlets/mask/Im033_1_P.jpg', 'data_platlets/mask/Im034_0_P.jpg', 'data_platlets/mask/Im035_0_P.jpg', 'data_platlets/mask/Im036_0_P.jpg', 'data_platlets/mask/Im037_0_P.jpg', 'data_platlets/mask/Im038_0_P.jpg', 'data_platlets/mask/Im039_0_P.jpg', 'data_platlets/mask/Im040_0_P.jpg', 'data_platlets/mask/Im041_0_P.jpg', 'data_platlets/mask/Im042_0_P.jpg', 'data_platlets/mask/Im043_0_P.jpg', 'data_platlets/mask/Im044_0_P.jpg', 'data_platlets/mask/Im045_0_P.jpg', 'data_platlets/mask/Im046_0_P.jpg', 'data_platlets/mask/Im047_0_P.jpg', 'data_platlets/mask/Im048_1_P.jpg', 'data_platlets/mask/Im049_1_P.jpg', 'data_platlets/mask/Im050_1_P.jpg', 'data_platlets/mask/Im051_1_P.jpg', 'data_platlets/mask/Im052_1_P.jpg', 'data_platlets/mask/Im053_1_P.jpg', 'data_platlets/mask/Im054_1_P.jpg', 'data_platlets/mask/Im055_1_P.jpg', 'data_platlets/mask/Im056_1_P.jpg', 'data_platlets/mask/Im057_1_P.jpg', 'data_platlets/mask/Im058_1_P.jpg', 'data_platlets/mask/Im059_1_P.jpg', 'data_platlets/mask/Im060_1_P.jpg', 'data_platlets/mask/Im061_1_P.jpg', 'data_platlets/mask/Im062_1_P.jpg', 'data_platlets/mask/Im063_1_P.jpg', 'data_platlets/mask/Im064_0_P.jpg', 'data_platlets/mask/Im065_0_P.jpg', 'data_platlets/mask/Im066_0_P.jpg', 'data_platlets/mask/Im067_0_P.jpg', 'data_platlets/mask/Im068_0_P.jpg', 'data_platlets/mask/Im069_0_P.jpg', 'data_platlets/mask/Im070_0_P.jpg', 'data_platlets/mask/Im071_0_P.jpg', 'data_platlets/mask/Im072_0_P.jpg', 'data_platlets/mask/Im073_0_P.jpg', 'data_platlets/mask/Im074_0_P.jpg', 'data_platlets/mask/Im075_0_P.jpg', 'data_platlets/mask/Im076_0_P.jpg', 'data_platlets/mask/Im077_0_P.jpg', 'data_platlets/mask/Im078_0_P.jpg', 'data_platlets/mask/Im080_0_P.jpg', 'data_platlets/mask/Im081_0_P.jpg', 'data_platlets/mask/Im082_0_P.jpg', 'data_platlets/mask/Im084_0_P.jpg', 'data_platlets/mask/Im085_0_P.jpg', 'data_platlets/mask/Im087_0_P.jpg', 'data_platlets/mask/Im088_0_P.jpg', 'data_platlets/mask/Im089_0_P.jpg', 'data_platlets/mask/Im090_0_P.jpg', 'data_platlets/mask/Im091_0_P.jpg', 'data_platlets/mask/Im092_0_P.jpg', 'data_platlets/mask/Im093_0_P.jpg', 'data_platlets/mask/Im094_0_P.jpg', 'data_platlets/mask/Im095_0_P.jpg', 'data_platlets/mask/Im096_0_P.jpg', 'data_platlets/mask/Im097_0_P.jpg', 'data_platlets/mask/Im098_0_P.jpg', 'data_platlets/mask/Im099_0_P.jpg', 'data_platlets/mask/Im100_0_P.jpg', 'data_platlets/mask/Im101_0_P.jpg', 'data_platlets/mask/Im102_0_P.jpg', 'data_platlets/mask/Im103_0_P.jpg', 'data_platlets/mask/Im104_0_P.jpg', 'data_platlets/mask/Im105_0_P.jpg', 'data_platlets/mask/Im106_0_P.jpg', 'data_platlets/mask/Im107_0_P.jpg', 'data_platlets/mask/Im108_0_P.jpg']\n"
     ]
    }
   ],
   "source": [
    "img_files = sorted(glob.glob('data_platlets/mask/*.jpg'))\n",
    "print(img_files)\n",
    "\n",
    "for file in img_files:\n",
    "    image = cv.imread(file)\n",
    "    image = np.invert(image)\n",
    "    cv.imwrite(file, image)"
   ]
  }
 ],
 "metadata": {
  "interpreter": {
   "hash": "c475343c90b37f20c02fd3a18d45f7c3e275848f34e4c07d7554fbf081374c3b"
  },
  "kernelspec": {
   "display_name": "Python 3 (ipykernel)",
   "language": "python",
   "name": "python3"
  },
  "language_info": {
   "codemirror_mode": {
    "name": "ipython",
    "version": 3
   },
   "file_extension": ".py",
   "mimetype": "text/x-python",
   "name": "python",
   "nbconvert_exporter": "python",
   "pygments_lexer": "ipython3",
   "version": "3.8.10"
  }
 },
 "nbformat": 4,
 "nbformat_minor": 4
}
