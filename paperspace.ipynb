{
 "cells": [
  {
   "cell_type": "code",
   "execution_count": null,
   "id": "336c91ac-fcab-42bc-b001-313593ca7488",
   "metadata": {
    "execution": {
     "iopub.execute_input": "2022-05-18T11:43:01.493982Z",
     "iopub.status.busy": "2022-05-18T11:43:01.493590Z"
    }
   },
   "outputs": [],
   "source": [
    "!git add data2\n"
   ]
  },
  {
   "cell_type": "code",
   "execution_count": 1,
   "id": "302d0c11-9490-4e12-9ed8-1228c631c28c",
   "metadata": {
    "execution": {
     "iopub.execute_input": "2022-05-20T14:55:43.579197Z",
     "iopub.status.busy": "2022-05-20T14:55:43.578849Z",
     "iopub.status.idle": "2022-05-20T14:56:03.143043Z",
     "shell.execute_reply": "2022-05-20T14:56:03.142201Z",
     "shell.execute_reply.started": "2022-05-20T14:55:43.579112Z"
    }
   },
   "outputs": [
    {
     "name": "stdout",
     "output_type": "stream",
     "text": [
      "\n",
      "*** Please tell me who you are.\n",
      "\n",
      "Run\n",
      "\n",
      "  git config --global user.email \"you@example.com\"\n",
      "  git config --global user.name \"Your Name\"\n",
      "\n",
      "to set your account's default identity.\n",
      "Omit --global to set the identity only in this repository.\n",
      "\n",
      "fatal: unable to auto-detect email address (got 'root@nob1eezihs.(none)')\n"
     ]
    }
   ],
   "source": [
    "!git config --global user.email \"zaxo.7@hotmail.com\"\n",
    "!git config --global user.name \"Aghiles Gharbi PaperSpace\"\n",
    "\n",
    "!git commit -am \"edited debug file\""
   ]
  },
  {
   "cell_type": "code",
   "execution_count": null,
   "id": "be0b582d-f098-4f63-a329-cb1e66bba6ab",
   "metadata": {},
   "outputs": [],
   "source": [
    "#hard reset\n",
    "!git fetch --all\n",
    "!git reset --hard origin/main"
   ]
  },
  {
   "cell_type": "code",
   "execution_count": 62,
   "id": "96e14910-9ccf-4d5c-8c3e-959a57493191",
   "metadata": {
    "execution": {
     "iopub.execute_input": "2022-05-18T11:42:25.145072Z",
     "iopub.status.busy": "2022-05-18T11:42:25.144785Z",
     "iopub.status.idle": "2022-05-18T11:42:26.102623Z",
     "shell.execute_reply": "2022-05-18T11:42:26.100596Z",
     "shell.execute_reply.started": "2022-05-18T11:42:25.145041Z"
    }
   },
   "outputs": [
    {
     "name": "stdout",
     "output_type": "stream",
     "text": [
      "6640\n"
     ]
    }
   ],
   "source": [
    "!ls data/train/edge/tiles | wc -l"
   ]
  }
 ],
 "metadata": {
  "kernelspec": {
   "display_name": "Python 3 (ipykernel)",
   "language": "python",
   "name": "python3"
  },
  "language_info": {
   "codemirror_mode": {
    "name": "ipython",
    "version": 3
   },
   "file_extension": ".py",
   "mimetype": "text/x-python",
   "name": "python",
   "nbconvert_exporter": "python",
   "pygments_lexer": "ipython3",
   "version": "3.8.10"
  }
 },
 "nbformat": 4,
 "nbformat_minor": 5
}
