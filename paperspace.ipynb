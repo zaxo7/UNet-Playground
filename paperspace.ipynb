{
 "cells": [
  {
   "cell_type": "code",
   "execution_count": 27,
   "id": "336c91ac-fcab-42bc-b001-313593ca7488",
   "metadata": {
    "execution": {
     "iopub.execute_input": "2022-05-22T21:15:13.381480Z",
     "iopub.status.busy": "2022-05-22T21:15:13.381123Z",
     "iopub.status.idle": "2022-05-22T21:15:59.968172Z",
     "shell.execute_reply": "2022-05-22T21:15:59.967383Z",
     "shell.execute_reply.started": "2022-05-22T21:15:13.381438Z"
    }
   },
   "outputs": [
    {
     "name": "stdout",
     "output_type": "stream",
     "text": [
      "Refresh index: 100% (185047/185047), done.\n",
      "On branch main\n",
      "Your branch is up to date with 'origin/main'.\n",
      "\n",
      "Changes not staged for commit:\n",
      "  (use \"git add <file>...\" to update what will be committed)\n",
      "  (use \"git restore <file>...\" to discard changes in working directory)\n",
      "\t\u001b[31mmodified:   paperspace.ipynb\u001b[m\n",
      "\n",
      "Untracked files:\n",
      "  (use \"git add <file>...\" to include in what will be committed)\n",
      "\t\u001b[31m.Trash-0/\u001b[m\n",
      "\t\u001b[31m.ipynb_checkpoints/\u001b[m\n",
      "\t\u001b[31mcreate_Tiles.ipynb\u001b[m\n",
      "\t\u001b[31mmodels/tversky_1001653221756.4848092_adv_all.h5\u001b[m\n",
      "\t\u001b[31mmodels/tversky_1001653221756.4848092_adv_best.h5\u001b[m\n",
      "\t\u001b[31mmodels/tversky_1001653223773.2522535_adv_all.h5\u001b[m\n",
      "\t\u001b[31mmodels/tversky_1001653223773.2522535_adv_best.h5\u001b[m\n",
      "\t\u001b[31mmodels/tversky_1001653225085.8961077_adv_all.h5\u001b[m\n",
      "\t\u001b[31mmodels/tversky_1001653225085.8961077_adv_best.h5\u001b[m\n",
      "\t\u001b[31mmodels/tversky_1001653225558.3948312_adv_all.h5\u001b[m\n",
      "\t\u001b[31mmodels/tversky_1001653225558.3948312_adv_best.h5\u001b[m\n",
      "\t\u001b[31mmodels/tversky_1001653226218.953755_adv_all.h5\u001b[m\n",
      "\t\u001b[31mmodels/tversky_1001653226218.953755_adv_best.h5\u001b[m\n",
      "\t\u001b[31mmodels/tversky_1001653226736.2201552_adv_all.h5\u001b[m\n",
      "\t\u001b[31mmodels/tversky_1001653226736.2201552_adv_best.h5\u001b[m\n",
      "\t\u001b[31mmodels/tversky_1001653227912.6761775_adv_all.h5\u001b[m\n",
      "\t\u001b[31mmodels/tversky_1001653227912.6761775_adv_best.h5\u001b[m\n",
      "\t\u001b[31mmodels/tversky_1001653231207.7928174_adv_all.h5\u001b[m\n",
      "\t\u001b[31mmodels/tversky_1001653231207.7928174_adv_best.h5\u001b[m\n",
      "\t\u001b[31mmodels/tversky_100_adv_all.h5\u001b[m\n",
      "\t\u001b[31mmodels/tversky_100_adv_best.h5\u001b[m\n",
      "\t\u001b[31mprofiling.ipynb\u001b[m\n",
      "\t\u001b[31mscripts/.ipynb_checkpoints/\u001b[m\n",
      "\t\u001b[31mtmp_model/\u001b[m\n",
      "\n",
      "\n",
      "It took 6.40 seconds to enumerate untracked files. 'status -uno'\n",
      "may speed it up, but you have to be careful not to forget to add\n",
      "new files yourself (see 'git help status').\n",
      "no changes added to commit (use \"git add\" and/or \"git commit -a\")\n"
     ]
    }
   ],
   "source": [
    "!git add"
   ]
  },
  {
   "cell_type": "code",
   "execution_count": 1,
   "id": "302d0c11-9490-4e12-9ed8-1228c631c28c",
   "metadata": {
    "execution": {
     "iopub.execute_input": "2022-05-22T11:17:38.522251Z",
     "iopub.status.busy": "2022-05-22T11:17:38.521833Z",
     "iopub.status.idle": "2022-05-22T11:18:13.890565Z",
     "shell.execute_reply": "2022-05-22T11:18:13.889174Z",
     "shell.execute_reply.started": "2022-05-22T11:17:38.522143Z"
    }
   },
   "outputs": [
    {
     "name": "stdout",
     "output_type": "stream",
     "text": [
      "[main de23b0e48] setup transfer learning\n",
      " 2 files changed, 93 insertions(+), 65 deletions(-)\n",
      "Enumerating objects: 7, done.\n",
      "Counting objects: 100% (7/7), done.\n",
      "Delta compression using up to 8 threads\n",
      "Compressing objects: 100% (4/4), done.\n",
      "Writing objects: 100% (4/4), 4.04 KiB | 65.00 KiB/s, done.\n",
      "Total 4 (delta 3), reused 0 (delta 0)\n",
      "remote: Resolving deltas: 100% (3/3), completed with 3 local objects.\u001b[K\n",
      "To https://github.com/zaxo7/UNet-Playground.git\n",
      "   e7de7622a..de23b0e48  main -> main\n"
     ]
    }
   ],
   "source": [
    "!git config --global user.email \"zaxo.7@hotmail.com\"\n",
    "!git config --global user.name \"Aghiles Gharbi PaperSpace\"\n",
    "\n",
    "!git commit -am \"updated dataset on paperspace\"\n",
    "\n",
    "!git push"
   ]
  },
  {
   "cell_type": "code",
   "execution_count": 5,
   "id": "bd4b6f88-4bb7-4e06-897c-d47163bddefe",
   "metadata": {
    "execution": {
     "iopub.execute_input": "2022-05-22T19:55:22.160032Z",
     "iopub.status.busy": "2022-05-22T19:55:22.159600Z",
     "iopub.status.idle": "2022-05-22T19:55:22.674181Z",
     "shell.execute_reply": "2022-05-22T19:55:22.673045Z",
     "shell.execute_reply.started": "2022-05-22T19:55:22.159985Z"
    }
   },
   "outputs": [],
   "source": [
    "!rm /notebooks/.git/index.lock"
   ]
  },
  {
   "cell_type": "code",
   "execution_count": null,
   "id": "be0b582d-f098-4f63-a329-cb1e66bba6ab",
   "metadata": {},
   "outputs": [],
   "source": [
    "#hard reset\n",
    "!git fetch --all\n",
    "!git reset --hard origin/main"
   ]
  },
  {
   "cell_type": "code",
   "execution_count": 8,
   "id": "96e14910-9ccf-4d5c-8c3e-959a57493191",
   "metadata": {
    "execution": {
     "iopub.execute_input": "2022-05-22T19:56:28.832650Z",
     "iopub.status.busy": "2022-05-22T19:56:28.832237Z",
     "iopub.status.idle": "2022-05-22T19:56:30.579518Z",
     "shell.execute_reply": "2022-05-22T19:56:30.578645Z",
     "shell.execute_reply.started": "2022-05-22T19:56:28.832603Z"
    }
   },
   "outputs": [
    {
     "name": "stdout",
     "output_type": "stream",
     "text": [
      "34120\n"
     ]
    }
   ],
   "source": [
    "!ls data2/train/mask/tiles | wc -l"
   ]
  }
 ],
 "metadata": {
  "kernelspec": {
   "display_name": "Python 3 (ipykernel)",
   "language": "python",
   "name": "python3"
  },
  "language_info": {
   "codemirror_mode": {
    "name": "ipython",
    "version": 3
   },
   "file_extension": ".py",
   "mimetype": "text/x-python",
   "name": "python",
   "nbconvert_exporter": "python",
   "pygments_lexer": "ipython3",
   "version": "3.8.10"
  }
 },
 "nbformat": 4,
 "nbformat_minor": 5
}
