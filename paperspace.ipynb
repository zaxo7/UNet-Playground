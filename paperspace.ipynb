{
 "cells": [
  {
   "cell_type": "code",
   "execution_count": 27,
   "id": "336c91ac-fcab-42bc-b001-313593ca7488",
   "metadata": {
    "execution": {
     "iopub.execute_input": "2022-05-22T21:15:13.381480Z",
     "iopub.status.busy": "2022-05-22T21:15:13.381123Z",
     "iopub.status.idle": "2022-05-22T21:15:59.968172Z",
     "shell.execute_reply": "2022-05-22T21:15:59.967383Z",
     "shell.execute_reply.started": "2022-05-22T21:15:13.381438Z"
    }
   },
   "outputs": [
    {
     "name": "stdout",
     "output_type": "stream",
     "text": [
      "Refresh index: 100% (185047/185047), done.\n",
      "On branch main\n",
      "Your branch is up to date with 'origin/main'.\n",
      "\n",
      "Changes not staged for commit:\n",
      "  (use \"git add <file>...\" to update what will be committed)\n",
      "  (use \"git restore <file>...\" to discard changes in working directory)\n",
      "\t\u001b[31mmodified:   paperspace.ipynb\u001b[m\n",
      "\n",
      "Untracked files:\n",
      "  (use \"git add <file>...\" to include in what will be committed)\n",
      "\t\u001b[31m.Trash-0/\u001b[m\n",
      "\t\u001b[31m.ipynb_checkpoints/\u001b[m\n",
      "\t\u001b[31mcreate_Tiles.ipynb\u001b[m\n",
      "\t\u001b[31mmodels/tversky_1001653221756.4848092_adv_all.h5\u001b[m\n",
      "\t\u001b[31mmodels/tversky_1001653221756.4848092_adv_best.h5\u001b[m\n",
      "\t\u001b[31mmodels/tversky_1001653223773.2522535_adv_all.h5\u001b[m\n",
      "\t\u001b[31mmodels/tversky_1001653223773.2522535_adv_best.h5\u001b[m\n",
      "\t\u001b[31mmodels/tversky_1001653225085.8961077_adv_all.h5\u001b[m\n",
      "\t\u001b[31mmodels/tversky_1001653225085.8961077_adv_best.h5\u001b[m\n",
      "\t\u001b[31mmodels/tversky_1001653225558.3948312_adv_all.h5\u001b[m\n",
      "\t\u001b[31mmodels/tversky_1001653225558.3948312_adv_best.h5\u001b[m\n",
      "\t\u001b[31mmodels/tversky_1001653226218.953755_adv_all.h5\u001b[m\n",
      "\t\u001b[31mmodels/tversky_1001653226218.953755_adv_best.h5\u001b[m\n",
      "\t\u001b[31mmodels/tversky_1001653226736.2201552_adv_all.h5\u001b[m\n",
      "\t\u001b[31mmodels/tversky_1001653226736.2201552_adv_best.h5\u001b[m\n",
      "\t\u001b[31mmodels/tversky_1001653227912.6761775_adv_all.h5\u001b[m\n",
      "\t\u001b[31mmodels/tversky_1001653227912.6761775_adv_best.h5\u001b[m\n",
      "\t\u001b[31mmodels/tversky_1001653231207.7928174_adv_all.h5\u001b[m\n",
      "\t\u001b[31mmodels/tversky_1001653231207.7928174_adv_best.h5\u001b[m\n",
      "\t\u001b[31mmodels/tversky_100_adv_all.h5\u001b[m\n",
      "\t\u001b[31mmodels/tversky_100_adv_best.h5\u001b[m\n",
      "\t\u001b[31mprofiling.ipynb\u001b[m\n",
      "\t\u001b[31mscripts/.ipynb_checkpoints/\u001b[m\n",
      "\t\u001b[31mtmp_model/\u001b[m\n",
      "\n",
      "\n",
      "It took 6.40 seconds to enumerate untracked files. 'status -uno'\n",
      "may speed it up, but you have to be careful not to forget to add\n",
      "new files yourself (see 'git help status').\n",
      "no changes added to commit (use \"git add\" and/or \"git commit -a\")\n"
     ]
    }
   ],
   "source": [
    "!git add"
   ]
  },
  {
   "cell_type": "code",
   "execution_count": 20,
   "id": "302d0c11-9490-4e12-9ed8-1228c631c28c",
   "metadata": {
    "execution": {
     "iopub.execute_input": "2022-05-23T14:05:27.094220Z",
     "iopub.status.busy": "2022-05-23T14:05:27.093927Z",
     "iopub.status.idle": "2022-05-23T14:06:10.672794Z",
     "shell.execute_reply": "2022-05-23T14:06:10.671891Z",
     "shell.execute_reply.started": "2022-05-23T14:05:27.094190Z"
    }
   },
   "outputs": [
    {
     "name": "stdout",
     "output_type": "stream",
     "text": [
      "[main acb85fe3a] updated the notebooks\n",
      "Already up to date.\n",
      "Enumerating objects: 17, done.\n",
      "Counting objects: 100% (16/16), done.\n",
      "Delta compression using up to 8 threads\n",
      "Compressing objects: 100% (9/9), done.\n",
      "Writing objects: 100% (9/9), 1.42 KiB | 1.42 MiB/s, done.\n",
      "Total 9 (delta 7), reused 0 (delta 0)\n",
      "remote: Resolving deltas: 100% (7/7), completed with 6 local objects.\u001b[K\n",
      "To https://github.com/zaxo7/UNet-Playground.git\n",
      "   5dc142add..acb85fe3a  main -> main\n"
     ]
    }
   ],
   "source": [
    "!git config --global user.email \"zaxo.7@hotmail.com\"\n",
    "!git config --global user.name \"Aghiles Gharbi PaperSpace\"\n",
    "\n",
    "!git commit -am \"updated the notebooks\"\n",
    "!git pull\n",
    "!git push"
   ]
  },
  {
   "cell_type": "code",
   "execution_count": 19,
   "id": "df784672-d2fa-46e7-80ed-6c897ca6c061",
   "metadata": {
    "execution": {
     "iopub.execute_input": "2022-05-23T14:05:14.660671Z",
     "iopub.status.busy": "2022-05-23T14:05:14.660251Z",
     "iopub.status.idle": "2022-05-23T14:05:16.019214Z",
     "shell.execute_reply": "2022-05-23T14:05:16.018299Z",
     "shell.execute_reply.started": "2022-05-23T14:05:14.660628Z"
    }
   },
   "outputs": [
    {
     "name": "stdout",
     "output_type": "stream",
     "text": [
      "error: pathspec 'create_Tiles.ipynb' did not match any file(s) known to git\n",
      "error: pathspec 'profiling.ipynb' did not match any file(s) known to git\n"
     ]
    }
   ],
   "source": [
    "!git checkout --theirs *.ipynb"
   ]
  },
  {
   "cell_type": "code",
   "execution_count": 2,
   "id": "808be94f-64a6-41ae-8c99-0d54443b1194",
   "metadata": {
    "execution": {
     "iopub.execute_input": "2022-05-23T12:42:39.090962Z",
     "iopub.status.busy": "2022-05-23T12:42:39.090152Z",
     "iopub.status.idle": "2022-05-23T12:43:18.318205Z",
     "shell.execute_reply": "2022-05-23T12:43:18.317312Z",
     "shell.execute_reply.started": "2022-05-23T12:42:39.090915Z"
    }
   },
   "outputs": [
    {
     "name": "stdout",
     "output_type": "stream",
     "text": [
      "On branch main\n",
      "Your branch is up to date with 'origin/main'.\n",
      "\n",
      "Untracked files:\n",
      "  (use \"git add <file>...\" to include in what will be committed)\n",
      "\t\u001b[31m.Trash-0/\u001b[m\n",
      "\t\u001b[31m.ipynb_checkpoints/\u001b[m\n",
      "\t\u001b[31mcreate_Tiles.ipynb\u001b[m\n",
      "\t\u001b[31mmodels/tversky_1001653221756.4848092_adv_all.h5\u001b[m\n",
      "\t\u001b[31mmodels/tversky_1001653221756.4848092_adv_best.h5\u001b[m\n",
      "\t\u001b[31mmodels/tversky_1001653223773.2522535_adv_all.h5\u001b[m\n",
      "\t\u001b[31mmodels/tversky_1001653223773.2522535_adv_best.h5\u001b[m\n",
      "\t\u001b[31mmodels/tversky_1001653225085.8961077_adv_all.h5\u001b[m\n",
      "\t\u001b[31mmodels/tversky_1001653225085.8961077_adv_best.h5\u001b[m\n",
      "\t\u001b[31mmodels/tversky_1001653225558.3948312_adv_all.h5\u001b[m\n",
      "\t\u001b[31mmodels/tversky_1001653225558.3948312_adv_best.h5\u001b[m\n",
      "\t\u001b[31mmodels/tversky_1001653226218.953755_adv_all.h5\u001b[m\n",
      "\t\u001b[31mmodels/tversky_1001653226218.953755_adv_best.h5\u001b[m\n",
      "\t\u001b[31mmodels/tversky_1001653226736.2201552_adv_all.h5\u001b[m\n",
      "\t\u001b[31mmodels/tversky_1001653226736.2201552_adv_best.h5\u001b[m\n",
      "\t\u001b[31mmodels/tversky_1001653227912.6761775_adv_all.h5\u001b[m\n",
      "\t\u001b[31mmodels/tversky_1001653227912.6761775_adv_best.h5\u001b[m\n",
      "\t\u001b[31mmodels/tversky_1001653231207.7928174_adv_all.h5\u001b[m\n",
      "\t\u001b[31mmodels/tversky_1001653231207.7928174_adv_best.h5\u001b[m\n",
      "\t\u001b[31mmodels/tversky_1001653254652.3129344_adv_all.h5\u001b[m\n",
      "\t\u001b[31mmodels/tversky_1001653254652.3129344_adv_best.h5\u001b[m\n",
      "\t\u001b[31mmodels/tversky_100_adv_all.h5\u001b[m\n",
      "\t\u001b[31mmodels/tversky_100_adv_best.h5\u001b[m\n",
      "\t\u001b[31mmodels/tversky_100_data2_data2_50_1_0_edge_freezed_1653299353.6767304_adv_all.h5\u001b[m\n",
      "\t\u001b[31mmodels/tversky_100_data2_data2_50_1_0_edge_freezed_1653299353.6767304_adv_best.h5\u001b[m\n",
      "\t\u001b[31mmodels/tversky_100_data2_data_07_03_adv_all.h5\u001b[m\n",
      "\t\u001b[31mmodels/tversky_100_data2_data_07_03_adv_best.h5\u001b[m\n",
      "\t\u001b[31mmodels/tversky_100_data2_data_50_1_0_nothing_freezed_1653297144.5662918_adv_all.h5\u001b[m\n",
      "\t\u001b[31mmodels/tversky_100_data2_data_50_1_0_nothing_freezed_1653297144.5662918_adv_best.h5\u001b[m\n",
      "\t\u001b[31mmodels/tversky_100_data2_data_50_adv_all.h5\u001b[m\n",
      "\t\u001b[31mmodels/tversky_100_data2_data_50_adv_best.h5\u001b[m\n",
      "\t\u001b[31mmodels/tversky_100_data2_data_freeze_edge_adv_all.h5\u001b[m\n",
      "\t\u001b[31mmodels/tversky_100_data2_data_freeze_edge_adv_best.h5\u001b[m\n",
      "\t\u001b[31mprofiling.ipynb\u001b[m\n",
      "\t\u001b[31mscripts/.ipynb_checkpoints/\u001b[m\n",
      "\t\u001b[31mtmp_model/\u001b[m\n",
      "\n",
      "\n",
      "It took 5.57 seconds to enumerate untracked files. 'status -uno'\n",
      "may speed it up, but you have to be careful not to forget to add\n",
      "new files yourself (see 'git help status').\n",
      "nothing added to commit but untracked files present (use \"git add\" to track)\n"
     ]
    }
   ],
   "source": [
    "!git config --global user.email \"zaxo.7@hotmail.com\"\n",
    "!git config --global user.name \"Aghiles Gharbi PaperSpace\"\n",
    "!git commit -am \"merge datagenerator\""
   ]
  },
  {
   "cell_type": "code",
   "execution_count": 7,
   "id": "822ffbdd-e276-4faf-b941-72bb6d49749c",
   "metadata": {
    "execution": {
     "iopub.execute_input": "2022-05-23T12:48:57.010761Z",
     "iopub.status.busy": "2022-05-23T12:48:57.010469Z",
     "iopub.status.idle": "2022-05-23T12:48:58.054549Z",
     "shell.execute_reply": "2022-05-23T12:48:58.053208Z",
     "shell.execute_reply.started": "2022-05-23T12:48:57.010731Z"
    }
   },
   "outputs": [],
   "source": []
  },
  {
   "cell_type": "code",
   "execution_count": 11,
   "id": "9d1a3bc5-5fd3-445d-85f4-c96dce1e397f",
   "metadata": {
    "execution": {
     "iopub.execute_input": "2022-05-23T12:59:59.057581Z",
     "iopub.status.busy": "2022-05-23T12:59:59.056681Z",
     "iopub.status.idle": "2022-05-23T13:00:44.412849Z",
     "shell.execute_reply": "2022-05-23T13:00:44.411124Z",
     "shell.execute_reply.started": "2022-05-23T12:59:59.057541Z"
    }
   },
   "outputs": [
    {
     "name": "stdout",
     "output_type": "stream",
     "text": [
      "remote: Enumerating objects: 18, done.\u001b[K\n",
      "remote: Counting objects: 100% (17/17), done.\u001b[K\n",
      "remote: Compressing objects: 100% (3/3), done.\u001b[K\n",
      "remote: Total 10 (delta 7), reused 10 (delta 7), pack-reused 0\u001b[K\n",
      "Unpacking objects: 100% (10/10), 514.61 KiB | 257.00 KiB/s, done.\n",
      "From https://github.com/zaxo7/UNet-Playground\n",
      "   8ccf3573e..6044fa84d  main       -> origin/main\n",
      "Updating 8ccf3573e..6044fa84d\n",
      "Fast-forward\n",
      " scripts/data.py | 4 \u001b[32m+++\u001b[m\u001b[31m-\u001b[m\n",
      " 1 file changed, 3 insertions(+), 1 deletion(-)\n"
     ]
    }
   ],
   "source": [
    "!git pull"
   ]
  },
  {
   "cell_type": "code",
   "execution_count": 5,
   "id": "bd4b6f88-4bb7-4e06-897c-d47163bddefe",
   "metadata": {
    "execution": {
     "iopub.execute_input": "2022-05-22T19:55:22.160032Z",
     "iopub.status.busy": "2022-05-22T19:55:22.159600Z",
     "iopub.status.idle": "2022-05-22T19:55:22.674181Z",
     "shell.execute_reply": "2022-05-22T19:55:22.673045Z",
     "shell.execute_reply.started": "2022-05-22T19:55:22.159985Z"
    }
   },
   "outputs": [],
   "source": [
    "!rm /notebooks/.git/index.lock"
   ]
  },
  {
   "cell_type": "code",
   "execution_count": null,
   "id": "be0b582d-f098-4f63-a329-cb1e66bba6ab",
   "metadata": {},
   "outputs": [],
   "source": [
    "#hard reset\n",
    "!git fetch --all\n",
    "!git reset --hard origin/main"
   ]
  },
  {
   "cell_type": "code",
   "execution_count": 8,
   "id": "96e14910-9ccf-4d5c-8c3e-959a57493191",
   "metadata": {
    "execution": {
     "iopub.execute_input": "2022-05-22T19:56:28.832650Z",
     "iopub.status.busy": "2022-05-22T19:56:28.832237Z",
     "iopub.status.idle": "2022-05-22T19:56:30.579518Z",
     "shell.execute_reply": "2022-05-22T19:56:30.578645Z",
     "shell.execute_reply.started": "2022-05-22T19:56:28.832603Z"
    }
   },
   "outputs": [
    {
     "name": "stdout",
     "output_type": "stream",
     "text": [
      "34120\n"
     ]
    }
   ],
   "source": [
    "!ls data2/train/mask/tiles | wc -l"
   ]
  }
 ],
 "metadata": {
  "kernelspec": {
   "display_name": "Python 3 (ipykernel)",
   "language": "python",
   "name": "python3"
  },
  "language_info": {
   "codemirror_mode": {
    "name": "ipython",
    "version": 3
   },
   "file_extension": ".py",
   "mimetype": "text/x-python",
   "name": "python",
   "nbconvert_exporter": "python",
   "pygments_lexer": "ipython3",
   "version": "3.8.10"
  }
 },
 "nbformat": 4,
 "nbformat_minor": 5
}
