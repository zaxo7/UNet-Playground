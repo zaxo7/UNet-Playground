{
 "cells": [
  {
   "cell_type": "code",
   "execution_count": 10,
   "id": "336c91ac-fcab-42bc-b001-313593ca7488",
   "metadata": {
    "execution": {
     "iopub.execute_input": "2022-05-22T19:57:05.679624Z",
     "iopub.status.busy": "2022-05-22T19:57:05.678671Z",
     "iopub.status.idle": "2022-05-22T19:59:37.942321Z",
     "shell.execute_reply": "2022-05-22T19:59:37.940548Z",
     "shell.execute_reply.started": "2022-05-22T19:57:05.679576Z"
    }
   },
   "outputs": [],
   "source": [
    "!git add data2/test/mask/tiles"
   ]
  },
  {
   "cell_type": "code",
   "execution_count": 1,
   "id": "302d0c11-9490-4e12-9ed8-1228c631c28c",
   "metadata": {
    "execution": {
     "iopub.execute_input": "2022-05-22T11:17:38.522251Z",
     "iopub.status.busy": "2022-05-22T11:17:38.521833Z",
     "iopub.status.idle": "2022-05-22T11:18:13.890565Z",
     "shell.execute_reply": "2022-05-22T11:18:13.889174Z",
     "shell.execute_reply.started": "2022-05-22T11:17:38.522143Z"
    }
   },
   "outputs": [
    {
     "name": "stdout",
     "output_type": "stream",
     "text": [
      "[main de23b0e48] setup transfer learning\n",
      " 2 files changed, 93 insertions(+), 65 deletions(-)\n",
      "Enumerating objects: 7, done.\n",
      "Counting objects: 100% (7/7), done.\n",
      "Delta compression using up to 8 threads\n",
      "Compressing objects: 100% (4/4), done.\n",
      "Writing objects: 100% (4/4), 4.04 KiB | 65.00 KiB/s, done.\n",
      "Total 4 (delta 3), reused 0 (delta 0)\n",
      "remote: Resolving deltas: 100% (3/3), completed with 3 local objects.\u001b[K\n",
      "To https://github.com/zaxo7/UNet-Playground.git\n",
      "   e7de7622a..de23b0e48  main -> main\n"
     ]
    }
   ],
   "source": [
    "!git config --global user.email \"zaxo.7@hotmail.com\"\n",
    "!git config --global user.name \"Aghiles Gharbi PaperSpace\"\n",
    "\n",
    "!git commit -am \"updated dataset on paperspace\"\n",
    "\n",
    "!git push"
   ]
  },
  {
   "cell_type": "code",
   "execution_count": 5,
   "id": "bd4b6f88-4bb7-4e06-897c-d47163bddefe",
   "metadata": {
    "execution": {
     "iopub.execute_input": "2022-05-22T19:55:22.160032Z",
     "iopub.status.busy": "2022-05-22T19:55:22.159600Z",
     "iopub.status.idle": "2022-05-22T19:55:22.674181Z",
     "shell.execute_reply": "2022-05-22T19:55:22.673045Z",
     "shell.execute_reply.started": "2022-05-22T19:55:22.159985Z"
    }
   },
   "outputs": [],
   "source": [
    "!rm /notebooks/.git/index.lock"
   ]
  },
  {
   "cell_type": "code",
   "execution_count": null,
   "id": "be0b582d-f098-4f63-a329-cb1e66bba6ab",
   "metadata": {},
   "outputs": [],
   "source": [
    "#hard reset\n",
    "!git fetch --all\n",
    "!git reset --hard origin/main"
   ]
  },
  {
   "cell_type": "code",
   "execution_count": 8,
   "id": "96e14910-9ccf-4d5c-8c3e-959a57493191",
   "metadata": {
    "execution": {
     "iopub.execute_input": "2022-05-22T19:56:28.832650Z",
     "iopub.status.busy": "2022-05-22T19:56:28.832237Z",
     "iopub.status.idle": "2022-05-22T19:56:30.579518Z",
     "shell.execute_reply": "2022-05-22T19:56:30.578645Z",
     "shell.execute_reply.started": "2022-05-22T19:56:28.832603Z"
    }
   },
   "outputs": [
    {
     "name": "stdout",
     "output_type": "stream",
     "text": [
      "34120\n"
     ]
    }
   ],
   "source": [
    "!ls data2/train/mask/tiles | wc -l"
   ]
  }
 ],
 "metadata": {
  "kernelspec": {
   "display_name": "Python 3 (ipykernel)",
   "language": "python",
   "name": "python3"
  },
  "language_info": {
   "codemirror_mode": {
    "name": "ipython",
    "version": 3
   },
   "file_extension": ".py",
   "mimetype": "text/x-python",
   "name": "python",
   "nbconvert_exporter": "python",
   "pygments_lexer": "ipython3",
   "version": "3.8.10"
  }
 },
 "nbformat": 4,
 "nbformat_minor": 5
}
