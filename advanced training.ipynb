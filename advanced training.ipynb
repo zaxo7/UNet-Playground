{
 "cells": [
  {
   "cell_type": "markdown",
   "metadata": {},
   "source": [
    "- Check for Colab Env\n",
    "> if we are in colab env we need to get the data + scripts from github or somewhere"
   ]
  },
  {
   "cell_type": "code",
   "execution_count": 1,
   "metadata": {
    "execution": {
     "iopub.execute_input": "2022-06-05T08:49:05.532865Z",
     "iopub.status.busy": "2022-06-05T08:49:05.532566Z",
     "iopub.status.idle": "2022-06-05T08:49:33.832520Z",
     "shell.execute_reply": "2022-06-05T08:49:33.831221Z",
     "shell.execute_reply.started": "2022-06-05T08:49:05.532797Z"
    }
   },
   "outputs": [
    {
     "name": "stdout",
     "output_type": "stream",
     "text": [
      "Hit:1 http://archive.ubuntu.com/ubuntu focal InRelease\n",
      "Get:2 http://archive.ubuntu.com/ubuntu focal-updates InRelease [114 kB]\n",
      "Get:3 http://archive.ubuntu.com/ubuntu focal-backports InRelease [108 kB]      \u001b[0m\u001b[33m\n",
      "Get:4 http://security.ubuntu.com/ubuntu focal-security InRelease [114 kB]      \u001b[0m\u001b[33m\n",
      "Get:5 http://archive.ubuntu.com/ubuntu focal-updates/restricted amd64 Packages [1297 kB]\n",
      "Get:6 http://archive.ubuntu.com/ubuntu focal-updates/universe amd64 Packages [1163 kB]\n",
      "Get:7 http://archive.ubuntu.com/ubuntu focal-updates/multiverse amd64 Packages [30.2 kB]\n",
      "Get:8 http://archive.ubuntu.com/ubuntu focal-updates/main amd64 Packages [2294 kB]\n",
      "Get:9 http://archive.ubuntu.com/ubuntu focal-backports/main amd64 Packages [53.8 kB]\n",
      "Get:10 http://archive.ubuntu.com/ubuntu focal-backports/universe amd64 Packages [27.1 kB]\n",
      "Get:11 http://security.ubuntu.com/ubuntu focal-security/main amd64 Packages [1863 kB]\n",
      "Get:12 http://security.ubuntu.com/ubuntu focal-security/restricted amd64 Packages [1218 kB]\n",
      "Get:13 http://security.ubuntu.com/ubuntu focal-security/multiverse amd64 Packages [27.5 kB]\n",
      "Get:14 http://security.ubuntu.com/ubuntu focal-security/universe amd64 Packages [876 kB]\n",
      "Fetched 9186 kB in 1s (6977 kB/s)  \u001b[0m\u001b[33m               \u001b[0m\u001b[33m\u001b[33m\u001b[33m\n",
      "Reading package lists... Done\n",
      "Building dependency tree       \n",
      "Reading state information... Done\n",
      "71 packages can be upgraded. Run 'apt list --upgradable' to see them.\n",
      "Reading package lists... Done\n",
      "Building dependency tree       \n",
      "Reading state information... Done\n",
      "The following additional packages will be installed:\n",
      "  libdrm-amdgpu1 libdrm-common libdrm-intel1 libdrm-nouveau2 libdrm-radeon1\n",
      "  libdrm2 libelf1 libgl1-mesa-dri libglapi-mesa libglvnd0 libglx-mesa0 libglx0\n",
      "  libllvm12 libpciaccess0 libsensors-config libsensors5 libvulkan1\n",
      "  libwayland-client0 libx11-6 libx11-data libx11-xcb1 libxau6 libxcb-dri2-0\n",
      "  libxcb-dri3-0 libxcb-glx0 libxcb-present0 libxcb-randr0 libxcb-shm0\n",
      "  libxcb-sync1 libxcb-xfixes0 libxcb1 libxdmcp6 libxext6 libxfixes3\n",
      "  libxshmfence1 libxxf86vm1 mesa-vulkan-drivers\n",
      "Suggested packages:\n",
      "  pciutils lm-sensors\n",
      "The following NEW packages will be installed:\n",
      "  libdrm-amdgpu1 libdrm-common libdrm-intel1 libdrm-nouveau2 libdrm-radeon1\n",
      "  libdrm2 libelf1 libgl1 libgl1-mesa-dri libglapi-mesa libglvnd0 libglx-mesa0\n",
      "  libglx0 libllvm12 libpciaccess0 libsensors-config libsensors5 libvulkan1\n",
      "  libwayland-client0 libx11-6 libx11-data libx11-xcb1 libxau6 libxcb-dri2-0\n",
      "  libxcb-dri3-0 libxcb-glx0 libxcb-present0 libxcb-randr0 libxcb-shm0\n",
      "  libxcb-sync1 libxcb-xfixes0 libxcb1 libxdmcp6 libxext6 libxfixes3\n",
      "  libxshmfence1 libxxf86vm1 mesa-vulkan-drivers\n",
      "0 upgraded, 38 newly installed, 0 to remove and 71 not upgraded.\n",
      "Need to get 37.2 MB of archives.\n",
      "After this operation, 528 MB of additional disk space will be used.\n",
      "Get:1 http://archive.ubuntu.com/ubuntu focal/main amd64 libelf1 amd64 0.176-1.1build1 [44.0 kB]\n",
      "Get:2 http://archive.ubuntu.com/ubuntu focal-updates/main amd64 libdrm-common all 2.4.107-8ubuntu1~20.04.2 [5396 B]\n",
      "Get:3 http://archive.ubuntu.com/ubuntu focal-updates/main amd64 libdrm2 amd64 2.4.107-8ubuntu1~20.04.2 [34.1 kB]\n",
      "Get:4 http://archive.ubuntu.com/ubuntu focal/main amd64 libxau6 amd64 1:1.0.9-0ubuntu1 [7488 B]\n",
      "Get:5 http://archive.ubuntu.com/ubuntu focal/main amd64 libxdmcp6 amd64 1:1.1.3-0ubuntu1 [10.6 kB]\n",
      "Get:6 http://archive.ubuntu.com/ubuntu focal/main amd64 libxcb1 amd64 1.14-2 [44.7 kB]\n",
      "Get:7 http://archive.ubuntu.com/ubuntu focal-updates/main amd64 libx11-data all 2:1.6.9-2ubuntu1.2 [113 kB]\n",
      "Get:8 http://archive.ubuntu.com/ubuntu focal-updates/main amd64 libx11-6 amd64 2:1.6.9-2ubuntu1.2 [575 kB]\n",
      "Get:9 http://archive.ubuntu.com/ubuntu focal/main amd64 libxext6 amd64 2:1.3.4-0ubuntu1 [29.1 kB]\n",
      "Get:10 http://archive.ubuntu.com/ubuntu focal-updates/main amd64 libdrm-amdgpu1 amd64 2.4.107-8ubuntu1~20.04.2 [18.6 kB]\n",
      "Get:11 http://archive.ubuntu.com/ubuntu focal/main amd64 libpciaccess0 amd64 0.16-0ubuntu1 [17.9 kB]\n",
      "Get:12 http://archive.ubuntu.com/ubuntu focal-updates/main amd64 libdrm-intel1 amd64 2.4.107-8ubuntu1~20.04.2 [60.3 kB]\n",
      "Get:13 http://archive.ubuntu.com/ubuntu focal-updates/main amd64 libdrm-nouveau2 amd64 2.4.107-8ubuntu1~20.04.2 [16.6 kB]\n",
      "Get:14 http://archive.ubuntu.com/ubuntu focal-updates/main amd64 libdrm-radeon1 amd64 2.4.107-8ubuntu1~20.04.2 [19.7 kB]\n",
      "Get:15 http://archive.ubuntu.com/ubuntu focal-updates/main amd64 libglapi-mesa amd64 21.2.6-0ubuntu0.1~20.04.2 [27.4 kB]\n",
      "Get:16 http://archive.ubuntu.com/ubuntu focal-updates/main amd64 libllvm12 amd64 1:12.0.0-3ubuntu1~20.04.5 [18.8 MB]\n",
      "Get:17 http://archive.ubuntu.com/ubuntu focal-updates/main amd64 libsensors-config all 1:3.6.0-2ubuntu1.1 [6052 B]\n",
      "Get:18 http://archive.ubuntu.com/ubuntu focal-updates/main amd64 libsensors5 amd64 1:3.6.0-2ubuntu1.1 [27.2 kB]\n",
      "Get:19 http://archive.ubuntu.com/ubuntu focal/main amd64 libvulkan1 amd64 1.2.131.2-1 [93.3 kB]\n",
      "Get:20 http://archive.ubuntu.com/ubuntu focal-updates/main amd64 libgl1-mesa-dri amd64 21.2.6-0ubuntu0.1~20.04.2 [11.0 MB]\n",
      "Get:21 http://archive.ubuntu.com/ubuntu focal-updates/main amd64 libx11-xcb1 amd64 2:1.6.9-2ubuntu1.2 [9372 B]\n",
      "Get:22 http://archive.ubuntu.com/ubuntu focal/main amd64 libxcb-dri2-0 amd64 1.14-2 [6920 B]\n",
      "Get:23 http://archive.ubuntu.com/ubuntu focal/main amd64 libxcb-dri3-0 amd64 1.14-2 [6552 B]\n",
      "Get:24 http://archive.ubuntu.com/ubuntu focal/main amd64 libxcb-glx0 amd64 1.14-2 [22.1 kB]\n",
      "Get:25 http://archive.ubuntu.com/ubuntu focal/main amd64 libxcb-present0 amd64 1.14-2 [5560 B]\n",
      "Get:26 http://archive.ubuntu.com/ubuntu focal/main amd64 libxcb-shm0 amd64 1.14-2 [5584 B]\n",
      "Get:27 http://archive.ubuntu.com/ubuntu focal/main amd64 libxcb-sync1 amd64 1.14-2 [8884 B]\n",
      "Get:28 http://archive.ubuntu.com/ubuntu focal/main amd64 libxcb-xfixes0 amd64 1.14-2 [9296 B]\n",
      "Get:29 http://archive.ubuntu.com/ubuntu focal/main amd64 libxfixes3 amd64 1:5.0.3-2 [10.9 kB]\n",
      "Get:30 http://archive.ubuntu.com/ubuntu focal/main amd64 libxshmfence1 amd64 1.3-1 [5028 B]\n",
      "Get:31 http://archive.ubuntu.com/ubuntu focal/main amd64 libxxf86vm1 amd64 1:1.1.4-1build1 [10.2 kB]\n",
      "Get:32 http://archive.ubuntu.com/ubuntu focal-updates/main amd64 libglx-mesa0 amd64 21.2.6-0ubuntu0.1~20.04.2 [137 kB]\n",
      "Get:33 http://archive.ubuntu.com/ubuntu focal/main amd64 libwayland-client0 amd64 1.18.0-1 [23.9 kB]\n",
      "Get:34 http://archive.ubuntu.com/ubuntu focal/main amd64 libxcb-randr0 amd64 1.14-2 [16.3 kB]\n",
      "Get:35 http://archive.ubuntu.com/ubuntu focal-updates/main amd64 mesa-vulkan-drivers amd64 21.2.6-0ubuntu0.1~20.04.2 [5788 kB]\n",
      "Get:36 http://archive.ubuntu.com/ubuntu focal-updates/main amd64 libglvnd0 amd64 1.3.2-1~ubuntu0.20.04.2 [48.1 kB]\n",
      "Get:37 http://archive.ubuntu.com/ubuntu focal-updates/main amd64 libglx0 amd64 1.3.2-1~ubuntu0.20.04.2 [32.5 kB]\n",
      "Get:38 http://archive.ubuntu.com/ubuntu focal-updates/main amd64 libgl1 amd64 1.3.2-1~ubuntu0.20.04.2 [85.8 kB]\n",
      "Fetched 37.2 MB in 3s (13.6 MB/s)m\u001b[33m\n",
      "debconf: unable to initialize frontend: Dialog\n",
      "debconf: (No usable dialog-like program is installed, so the dialog based frontend cannot be used. at /usr/share/perl5/Debconf/FrontEnd/Dialog.pm line 76, <> line 38.)\n",
      "debconf: falling back to frontend: Readline\n",
      "Extracting templates from packages: 100%\n",
      "\n",
      "\u001b7\u001b[0;23r\u001b8\u001b[1ASelecting previously unselected package libelf1:amd64.\n",
      "(Reading database ... 41944 files and directories currently installed.)\n",
      "Preparing to unpack .../00-libelf1_0.176-1.1build1_amd64.deb ...\n",
      "\u001b7\u001b[24;0f\u001b[42m\u001b[30mProgress: [  0%]\u001b[49m\u001b[39m [..........................................................] \u001b8Unpacking libelf1:amd64 (0.176-1.1build1) ...\n",
      "\u001b7\u001b[24;0f\u001b[42m\u001b[30mProgress: [  1%]\u001b[49m\u001b[39m [..........................................................] \u001b8Selecting previously unselected package libdrm-common.\n",
      "Preparing to unpack .../01-libdrm-common_2.4.107-8ubuntu1~20.04.2_all.deb ...\n",
      "Unpacking libdrm-common (2.4.107-8ubuntu1~20.04.2) ...\n",
      "\u001b7\u001b[24;0f\u001b[42m\u001b[30mProgress: [  3%]\u001b[49m\u001b[39m [#.........................................................] \u001b8Selecting previously unselected package libdrm2:amd64.\n",
      "Preparing to unpack .../02-libdrm2_2.4.107-8ubuntu1~20.04.2_amd64.deb ...\n",
      "\u001b7\u001b[24;0f\u001b[42m\u001b[30mProgress: [  3%]\u001b[49m\u001b[39m [#.........................................................] \u001b8Unpacking libdrm2:amd64 (2.4.107-8ubuntu1~20.04.2) ...\n",
      "Selecting previously unselected package libxau6:amd64.\n",
      "Preparing to unpack .../03-libxau6_1%3a1.0.9-0ubuntu1_amd64.deb ...\n",
      "\u001b7\u001b[24;0f\u001b[42m\u001b[30mProgress: [  5%]\u001b[49m\u001b[39m [##........................................................] \u001b8Unpacking libxau6:amd64 (1:1.0.9-0ubuntu1) ...\n",
      "\u001b7\u001b[24;0f\u001b[42m\u001b[30mProgress: [  5%]\u001b[49m\u001b[39m [###.......................................................] \u001b8Selecting previously unselected package libxdmcp6:amd64.\n",
      "Preparing to unpack .../04-libxdmcp6_1%3a1.1.3-0ubuntu1_amd64.deb ...\n",
      "Unpacking libxdmcp6:amd64 (1:1.1.3-0ubuntu1) ...\n",
      "\u001b7\u001b[24;0f\u001b[42m\u001b[30mProgress: [  7%]\u001b[49m\u001b[39m [###.......................................................] \u001b8Selecting previously unselected package libxcb1:amd64.\n",
      "Preparing to unpack .../05-libxcb1_1.14-2_amd64.deb ...\n",
      "\u001b7\u001b[24;0f\u001b[42m\u001b[30mProgress: [  7%]\u001b[49m\u001b[39m [####......................................................] \u001b8Unpacking libxcb1:amd64 (1.14-2) ...\n",
      "Selecting previously unselected package libx11-data.\n",
      "Preparing to unpack .../06-libx11-data_2%3a1.6.9-2ubuntu1.2_all.deb ...\n",
      "\u001b7\u001b[24;0f\u001b[42m\u001b[30mProgress: [  8%]\u001b[49m\u001b[39m [####......................................................] \u001b8Unpacking libx11-data (2:1.6.9-2ubuntu1.2) ...\n",
      "\u001b7\u001b[24;0f\u001b[42m\u001b[30mProgress: [  9%]\u001b[49m\u001b[39m [#####.....................................................] \u001b8Selecting previously unselected package libx11-6:amd64.\n",
      "Preparing to unpack .../07-libx11-6_2%3a1.6.9-2ubuntu1.2_amd64.deb ...\n",
      "Unpacking libx11-6:amd64 (2:1.6.9-2ubuntu1.2) ...\n",
      "\u001b7\u001b[24;0f\u001b[42m\u001b[30mProgress: [ 10%]\u001b[49m\u001b[39m [######....................................................] \u001b8Selecting previously unselected package libxext6:amd64.\n",
      "Preparing to unpack .../08-libxext6_2%3a1.3.4-0ubuntu1_amd64.deb ...\n",
      "\u001b7\u001b[24;0f\u001b[42m\u001b[30mProgress: [ 11%]\u001b[49m\u001b[39m [######....................................................] \u001b8Unpacking libxext6:amd64 (2:1.3.4-0ubuntu1) ...\n",
      "Selecting previously unselected package libdrm-amdgpu1:amd64.\n",
      "Preparing to unpack .../09-libdrm-amdgpu1_2.4.107-8ubuntu1~20.04.2_amd64.deb ...\n",
      "\u001b7\u001b[24;0f\u001b[42m\u001b[30mProgress: [ 12%]\u001b[49m\u001b[39m [#######...................................................] \u001b8Unpacking libdrm-amdgpu1:amd64 (2.4.107-8ubuntu1~20.04.2) ...\n",
      "\u001b7\u001b[24;0f\u001b[42m\u001b[30mProgress: [ 13%]\u001b[49m\u001b[39m [#######...................................................] \u001b8Selecting previously unselected package libpciaccess0:amd64.\n",
      "Preparing to unpack .../10-libpciaccess0_0.16-0ubuntu1_amd64.deb ...\n",
      "Unpacking libpciaccess0:amd64 (0.16-0ubuntu1) ...\n",
      "\u001b7\u001b[24;0f\u001b[42m\u001b[30mProgress: [ 14%]\u001b[49m\u001b[39m [########..................................................] \u001b8Selecting previously unselected package libdrm-intel1:amd64.\n",
      "Preparing to unpack .../11-libdrm-intel1_2.4.107-8ubuntu1~20.04.2_amd64.deb ...\n",
      "\u001b7\u001b[24;0f\u001b[42m\u001b[30mProgress: [ 15%]\u001b[49m\u001b[39m [########..................................................] \u001b8Unpacking libdrm-intel1:amd64 (2.4.107-8ubuntu1~20.04.2) ...\n",
      "Selecting previously unselected package libdrm-nouveau2:amd64.\n",
      "Preparing to unpack .../12-libdrm-nouveau2_2.4.107-8ubuntu1~20.04.2_amd64.deb ...\n",
      "\u001b7\u001b[24;0f\u001b[42m\u001b[30mProgress: [ 16%]\u001b[49m\u001b[39m [#########.................................................] \u001b8Unpacking libdrm-nouveau2:amd64 (2.4.107-8ubuntu1~20.04.2) ...\n",
      "Selecting previously unselected package libdrm-radeon1:amd64.\n",
      "Preparing to unpack .../13-libdrm-radeon1_2.4.107-8ubuntu1~20.04.2_amd64.deb ...\n",
      "\u001b7\u001b[24;0f\u001b[42m\u001b[30mProgress: [ 18%]\u001b[49m\u001b[39m [##########................................................] \u001b8Unpacking libdrm-radeon1:amd64 (2.4.107-8ubuntu1~20.04.2) ...\n",
      "\u001b7\u001b[24;0f\u001b[42m\u001b[30mProgress: [ 18%]\u001b[49m\u001b[39m [##########................................................] \u001b8Selecting previously unselected package libglapi-mesa:amd64.\n",
      "Preparing to unpack .../14-libglapi-mesa_21.2.6-0ubuntu0.1~20.04.2_amd64.deb ...\n",
      "Unpacking libglapi-mesa:amd64 (21.2.6-0ubuntu0.1~20.04.2) ...\n",
      "\u001b7\u001b[24;0f\u001b[42m\u001b[30mProgress: [ 20%]\u001b[49m\u001b[39m [###########...............................................] \u001b8Selecting previously unselected package libllvm12:amd64.\n",
      "Preparing to unpack .../15-libllvm12_1%3a12.0.0-3ubuntu1~20.04.5_amd64.deb ...\n",
      "\u001b7\u001b[24;0f\u001b[42m\u001b[30mProgress: [ 20%]\u001b[49m\u001b[39m [###########...............................................] \u001b8Unpacking libllvm12:amd64 (1:12.0.0-3ubuntu1~20.04.5) ...\n",
      "Selecting previously unselected package libsensors-config.\n",
      "Preparing to unpack .../16-libsensors-config_1%3a3.6.0-2ubuntu1.1_all.deb ...\n",
      "\u001b7\u001b[24;0f\u001b[42m\u001b[30mProgress: [ 22%]\u001b[49m\u001b[39m [############..............................................] \u001b8Unpacking libsensors-config (1:3.6.0-2ubuntu1.1) ...\n",
      "\u001b7\u001b[24;0f\u001b[42m\u001b[30mProgress: [ 22%]\u001b[49m\u001b[39m [############..............................................] \u001b8Selecting previously unselected package libsensors5:amd64.\n",
      "Preparing to unpack .../17-libsensors5_1%3a3.6.0-2ubuntu1.1_amd64.deb ...\n",
      "Unpacking libsensors5:amd64 (1:3.6.0-2ubuntu1.1) ...\n",
      "\u001b7\u001b[24;0f\u001b[42m\u001b[30mProgress: [ 24%]\u001b[49m\u001b[39m [#############.............................................] \u001b8Selecting previously unselected package libvulkan1:amd64.\n",
      "Preparing to unpack .../18-libvulkan1_1.2.131.2-1_amd64.deb ...\n",
      "\u001b7\u001b[24;0f\u001b[42m\u001b[30mProgress: [ 24%]\u001b[49m\u001b[39m [##############............................................] \u001b8Unpacking libvulkan1:amd64 (1.2.131.2-1) ...\n",
      "Selecting previously unselected package libgl1-mesa-dri:amd64.\n",
      "Preparing to unpack .../19-libgl1-mesa-dri_21.2.6-0ubuntu0.1~20.04.2_amd64.deb ...\n",
      "\u001b7\u001b[24;0f\u001b[42m\u001b[30mProgress: [ 25%]\u001b[49m\u001b[39m [##############............................................] \u001b8Unpacking libgl1-mesa-dri:amd64 (21.2.6-0ubuntu0.1~20.04.2) ...\n",
      "\u001b7\u001b[24;0f\u001b[42m\u001b[30mProgress: [ 26%]\u001b[49m\u001b[39m [###############...........................................] \u001b8Selecting previously unselected package libx11-xcb1:amd64.\n",
      "Preparing to unpack .../20-libx11-xcb1_2%3a1.6.9-2ubuntu1.2_amd64.deb ...\n",
      "Unpacking libx11-xcb1:amd64 (2:1.6.9-2ubuntu1.2) ...\n",
      "\u001b7\u001b[24;0f\u001b[42m\u001b[30mProgress: [ 27%]\u001b[49m\u001b[39m [###############...........................................] \u001b8Selecting previously unselected package libxcb-dri2-0:amd64.\n",
      "Preparing to unpack .../21-libxcb-dri2-0_1.14-2_amd64.deb ...\n",
      "\u001b7\u001b[24;0f\u001b[42m\u001b[30mProgress: [ 28%]\u001b[49m\u001b[39m [################..........................................] \u001b8Unpacking libxcb-dri2-0:amd64 (1.14-2) ...\n",
      "Selecting previously unselected package libxcb-dri3-0:amd64.\n",
      "Preparing to unpack .../22-libxcb-dri3-0_1.14-2_amd64.deb ...\n",
      "\u001b7\u001b[24;0f\u001b[42m\u001b[30mProgress: [ 29%]\u001b[49m\u001b[39m [#################.........................................] \u001b8Unpacking libxcb-dri3-0:amd64 (1.14-2) ...\n",
      "\u001b7\u001b[24;0f\u001b[42m\u001b[30mProgress: [ 30%]\u001b[49m\u001b[39m [#################.........................................] \u001b8Selecting previously unselected package libxcb-glx0:amd64.\n",
      "Preparing to unpack .../23-libxcb-glx0_1.14-2_amd64.deb ...\n",
      "Unpacking libxcb-glx0:amd64 (1.14-2) ...\n",
      "\u001b7\u001b[24;0f\u001b[42m\u001b[30mProgress: [ 31%]\u001b[49m\u001b[39m [##################........................................] \u001b8Selecting previously unselected package libxcb-present0:amd64.\n",
      "Preparing to unpack .../24-libxcb-present0_1.14-2_amd64.deb ...\n",
      "\u001b7\u001b[24;0f\u001b[42m\u001b[30mProgress: [ 32%]\u001b[49m\u001b[39m [##################........................................] \u001b8Unpacking libxcb-present0:amd64 (1.14-2) ...\n",
      "Selecting previously unselected package libxcb-shm0:amd64.\n",
      "Preparing to unpack .../25-libxcb-shm0_1.14-2_amd64.deb ...\n",
      "\u001b7\u001b[24;0f\u001b[42m\u001b[30mProgress: [ 33%]\u001b[49m\u001b[39m [###################.......................................] \u001b8Unpacking libxcb-shm0:amd64 (1.14-2) ...\n",
      "Selecting previously unselected package libxcb-sync1:amd64.\n",
      "Preparing to unpack .../26-libxcb-sync1_1.14-2_amd64.deb ...\n",
      "\u001b7\u001b[24;0f\u001b[42m\u001b[30mProgress: [ 35%]\u001b[49m\u001b[39m [####################......................................] \u001b8Unpacking libxcb-sync1:amd64 (1.14-2) ...\n",
      "\u001b7\u001b[24;0f\u001b[42m\u001b[30mProgress: [ 35%]\u001b[49m\u001b[39m [####################......................................] \u001b8Selecting previously unselected package libxcb-xfixes0:amd64.\n",
      "Preparing to unpack .../27-libxcb-xfixes0_1.14-2_amd64.deb ...\n",
      "Unpacking libxcb-xfixes0:amd64 (1.14-2) ...\n",
      "\u001b7\u001b[24;0f\u001b[42m\u001b[30mProgress: [ 37%]\u001b[49m\u001b[39m [#####################.....................................] \u001b8Selecting previously unselected package libxfixes3:amd64.\n",
      "Preparing to unpack .../28-libxfixes3_1%3a5.0.3-2_amd64.deb ...\n",
      "\u001b7\u001b[24;0f\u001b[42m\u001b[30mProgress: [ 37%]\u001b[49m\u001b[39m [#####################.....................................] \u001b8Unpacking libxfixes3:amd64 (1:5.0.3-2) ...\n",
      "Selecting previously unselected package libxshmfence1:amd64.\n",
      "Preparing to unpack .../29-libxshmfence1_1.3-1_amd64.deb ...\n",
      "\u001b7\u001b[24;0f\u001b[42m\u001b[30mProgress: [ 39%]\u001b[49m\u001b[39m [######################....................................] \u001b8Unpacking libxshmfence1:amd64 (1.3-1) ...\n",
      "\u001b7\u001b[24;0f\u001b[42m\u001b[30mProgress: [ 39%]\u001b[49m\u001b[39m [######################....................................] \u001b8Selecting previously unselected package libxxf86vm1:amd64.\n",
      "Preparing to unpack .../30-libxxf86vm1_1%3a1.1.4-1build1_amd64.deb ...\n",
      "Unpacking libxxf86vm1:amd64 (1:1.1.4-1build1) ...\n",
      "\u001b7\u001b[24;0f\u001b[42m\u001b[30mProgress: [ 41%]\u001b[49m\u001b[39m [#######################...................................] \u001b8Selecting previously unselected package libglx-mesa0:amd64.\n",
      "Preparing to unpack .../31-libglx-mesa0_21.2.6-0ubuntu0.1~20.04.2_amd64.deb ...\n",
      "\u001b7\u001b[24;0f\u001b[42m\u001b[30mProgress: [ 41%]\u001b[49m\u001b[39m [#######################...................................] \u001b8Unpacking libglx-mesa0:amd64 (21.2.6-0ubuntu0.1~20.04.2) ...\n",
      "Selecting previously unselected package libwayland-client0:amd64.\n",
      "Preparing to unpack .../32-libwayland-client0_1.18.0-1_amd64.deb ...\n",
      "\u001b7\u001b[24;0f\u001b[42m\u001b[30mProgress: [ 42%]\u001b[49m\u001b[39m [########################..................................] \u001b8Unpacking libwayland-client0:amd64 (1.18.0-1) ...\n",
      "\u001b7\u001b[24;0f\u001b[42m\u001b[30mProgress: [ 43%]\u001b[49m\u001b[39m [#########################.................................] \u001b8Selecting previously unselected package libxcb-randr0:amd64.\n",
      "Preparing to unpack .../33-libxcb-randr0_1.14-2_amd64.deb ...\n",
      "Unpacking libxcb-randr0:amd64 (1.14-2) ...\n",
      "\u001b7\u001b[24;0f\u001b[42m\u001b[30mProgress: [ 44%]\u001b[49m\u001b[39m [#########################.................................] \u001b8Selecting previously unselected package mesa-vulkan-drivers:amd64.\n",
      "Preparing to unpack .../34-mesa-vulkan-drivers_21.2.6-0ubuntu0.1~20.04.2_amd64.deb ...\n",
      "\u001b7\u001b[24;0f\u001b[42m\u001b[30mProgress: [ 45%]\u001b[49m\u001b[39m [##########################................................] \u001b8Unpacking mesa-vulkan-drivers:amd64 (21.2.6-0ubuntu0.1~20.04.2) ...\n",
      "Selecting previously unselected package libglvnd0:amd64.\n",
      "Preparing to unpack .../35-libglvnd0_1.3.2-1~ubuntu0.20.04.2_amd64.deb ...\n",
      "\u001b7\u001b[24;0f\u001b[42m\u001b[30mProgress: [ 46%]\u001b[49m\u001b[39m [##########################................................] \u001b8Unpacking libglvnd0:amd64 (1.3.2-1~ubuntu0.20.04.2) ...\n",
      "\u001b7\u001b[24;0f\u001b[42m\u001b[30mProgress: [ 47%]\u001b[49m\u001b[39m [###########################...............................] \u001b8Selecting previously unselected package libglx0:amd64.\n",
      "Preparing to unpack .../36-libglx0_1.3.2-1~ubuntu0.20.04.2_amd64.deb ...\n",
      "Unpacking libglx0:amd64 (1.3.2-1~ubuntu0.20.04.2) ...\n",
      "\u001b7\u001b[24;0f\u001b[42m\u001b[30mProgress: [ 48%]\u001b[49m\u001b[39m [############################..............................] \u001b8Selecting previously unselected package libgl1:amd64.\n",
      "Preparing to unpack .../37-libgl1_1.3.2-1~ubuntu0.20.04.2_amd64.deb ...\n",
      "\u001b7\u001b[24;0f\u001b[42m\u001b[30mProgress: [ 49%]\u001b[49m\u001b[39m [############################..............................] \u001b8Unpacking libgl1:amd64 (1.3.2-1~ubuntu0.20.04.2) ...\n",
      "Setting up libx11-xcb1:amd64 (2:1.6.9-2ubuntu1.2) ...\n",
      "\u001b7\u001b[24;0f\u001b[42m\u001b[30mProgress: [ 50%]\u001b[49m\u001b[39m [#############################.............................] \u001b8Setting up libpciaccess0:amd64 (0.16-0ubuntu1) ...\n",
      "\u001b7\u001b[24;0f\u001b[42m\u001b[30mProgress: [ 52%]\u001b[49m\u001b[39m [#############################.............................] \u001b8\u001b7\u001b[24;0f\u001b[42m\u001b[30mProgress: [ 52%]\u001b[49m\u001b[39m [##############################............................] \u001b8Setting up libxau6:amd64 (1:1.0.9-0ubuntu1) ...\n",
      "\u001b7\u001b[24;0f\u001b[42m\u001b[30mProgress: [ 54%]\u001b[49m\u001b[39m [###############################...........................] \u001b8Setting up libxdmcp6:amd64 (1:1.1.3-0ubuntu1) ...\n",
      "Setting up libxcb1:amd64 (1.14-2) ...\n",
      "\u001b7\u001b[24;0f\u001b[42m\u001b[30mProgress: [ 54%]\u001b[49m\u001b[39m [###############################...........................] \u001b8\u001b7\u001b[24;0f\u001b[42m\u001b[30mProgress: [ 56%]\u001b[49m\u001b[39m [################################..........................] \u001b8\u001b7\u001b[24;0f\u001b[42m\u001b[30mProgress: [ 56%]\u001b[49m\u001b[39m [################################..........................] \u001b8Setting up libxcb-xfixes0:amd64 (1.14-2) ...\n",
      "\u001b7\u001b[24;0f\u001b[42m\u001b[30mProgress: [ 58%]\u001b[49m\u001b[39m [#################################.........................] \u001b8Setting up libglvnd0:amd64 (1.3.2-1~ubuntu0.20.04.2) ...\n",
      "\u001b7\u001b[24;0f\u001b[42m\u001b[30mProgress: [ 58%]\u001b[49m\u001b[39m [#################################.........................] \u001b8Setting up libxcb-glx0:amd64 (1.14-2) ...\n",
      "\u001b7\u001b[24;0f\u001b[42m\u001b[30mProgress: [ 59%]\u001b[49m\u001b[39m [##################################........................] \u001b8\u001b7\u001b[24;0f\u001b[42m\u001b[30mProgress: [ 60%]\u001b[49m\u001b[39m [##################################........................] \u001b8Setting up libsensors-config (1:3.6.0-2ubuntu1.1) ...\n",
      "\u001b7\u001b[24;0f\u001b[42m\u001b[30mProgress: [ 61%]\u001b[49m\u001b[39m [###################################.......................] \u001b8Setting up libxcb-shm0:amd64 (1.14-2) ...\n",
      "\u001b7\u001b[24;0f\u001b[42m\u001b[30mProgress: [ 62%]\u001b[49m\u001b[39m [####################################......................] \u001b8Setting up libxcb-present0:amd64 (1.14-2) ...\n",
      "\u001b7\u001b[24;0f\u001b[42m\u001b[30mProgress: [ 63%]\u001b[49m\u001b[39m [####################################......................] \u001b8\u001b7\u001b[24;0f\u001b[42m\u001b[30mProgress: [ 64%]\u001b[49m\u001b[39m [#####################################.....................] \u001b8Setting up libx11-data (2:1.6.9-2ubuntu1.2) ...\n",
      "\u001b7\u001b[24;0f\u001b[42m\u001b[30mProgress: [ 65%]\u001b[49m\u001b[39m [#####################################.....................] \u001b8Setting up libxcb-sync1:amd64 (1.14-2) ...\n",
      "\u001b7\u001b[24;0f\u001b[42m\u001b[30mProgress: [ 66%]\u001b[49m\u001b[39m [######################################....................] \u001b8Setting up libllvm12:amd64 (1:12.0.0-3ubuntu1~20.04.5) ...\n",
      "\u001b7\u001b[24;0f\u001b[42m\u001b[30mProgress: [ 67%]\u001b[49m\u001b[39m [#######################################...................] \u001b8Setting up libsensors5:amd64 (1:3.6.0-2ubuntu1.1) ...\n",
      "\u001b7\u001b[24;0f\u001b[42m\u001b[30mProgress: [ 69%]\u001b[49m\u001b[39m [#######################################...................] \u001b8\u001b7\u001b[24;0f\u001b[42m\u001b[30mProgress: [ 69%]\u001b[49m\u001b[39m [########################################..................] \u001b8Setting up libglapi-mesa:amd64 (21.2.6-0ubuntu0.1~20.04.2) ...\n",
      "\u001b7\u001b[24;0f\u001b[42m\u001b[30mProgress: [ 71%]\u001b[49m\u001b[39m [########################################..................] \u001b8Setting up libvulkan1:amd64 (1.2.131.2-1) ...\n",
      "\u001b7\u001b[24;0f\u001b[42m\u001b[30mProgress: [ 71%]\u001b[49m\u001b[39m [#########################################.................] \u001b8Setting up libxcb-dri2-0:amd64 (1.14-2) ...\n",
      "\u001b7\u001b[24;0f\u001b[42m\u001b[30mProgress: [ 73%]\u001b[49m\u001b[39m [##########################################................] \u001b8\u001b7\u001b[24;0f\u001b[42m\u001b[30mProgress: [ 73%]\u001b[49m\u001b[39m [##########################################................] \u001b8Setting up libxshmfence1:amd64 (1.3-1) ...\n",
      "\u001b7\u001b[24;0f\u001b[42m\u001b[30mProgress: [ 75%]\u001b[49m\u001b[39m [###########################################...............] \u001b8Setting up libxcb-randr0:amd64 (1.14-2) ...\n",
      "\u001b7\u001b[24;0f\u001b[42m\u001b[30mProgress: [ 75%]\u001b[49m\u001b[39m [###########################################...............] \u001b8Setting up libx11-6:amd64 (2:1.6.9-2ubuntu1.2) ...\n",
      "\u001b7\u001b[24;0f\u001b[42m\u001b[30mProgress: [ 76%]\u001b[49m\u001b[39m [############################################..............] \u001b8\u001b7\u001b[24;0f\u001b[42m\u001b[30mProgress: [ 77%]\u001b[49m\u001b[39m [############################################..............] \u001b8Setting up libdrm-common (2.4.107-8ubuntu1~20.04.2) ...\n",
      "\u001b7\u001b[24;0f\u001b[42m\u001b[30mProgress: [ 78%]\u001b[49m\u001b[39m [#############################################.............] \u001b8Setting up libelf1:amd64 (0.176-1.1build1) ...\n",
      "\u001b7\u001b[24;0f\u001b[42m\u001b[30mProgress: [ 79%]\u001b[49m\u001b[39m [#############################################.............] \u001b8Setting up libwayland-client0:amd64 (1.18.0-1) ...\n",
      "\u001b7\u001b[24;0f\u001b[42m\u001b[30mProgress: [ 80%]\u001b[49m\u001b[39m [##############################################............] \u001b8\u001b7\u001b[24;0f\u001b[42m\u001b[30mProgress: [ 81%]\u001b[49m\u001b[39m [###############################################...........] \u001b8Setting up libxcb-dri3-0:amd64 (1.14-2) ...\n",
      "\u001b7\u001b[24;0f\u001b[42m\u001b[30mProgress: [ 82%]\u001b[49m\u001b[39m [###############################################...........] \u001b8Setting up libxext6:amd64 (2:1.3.4-0ubuntu1) ...\n",
      "\u001b7\u001b[24;0f\u001b[42m\u001b[30mProgress: [ 83%]\u001b[49m\u001b[39m [################################################..........] \u001b8Setting up libxxf86vm1:amd64 (1:1.1.4-1build1) ...\n",
      "\u001b7\u001b[24;0f\u001b[42m\u001b[30mProgress: [ 84%]\u001b[49m\u001b[39m [################################################..........] \u001b8Setting up libxfixes3:amd64 (1:5.0.3-2) ...\n",
      "\u001b7\u001b[24;0f\u001b[42m\u001b[30mProgress: [ 86%]\u001b[49m\u001b[39m [#################################################.........] \u001b8\u001b7\u001b[24;0f\u001b[42m\u001b[30mProgress: [ 86%]\u001b[49m\u001b[39m [##################################################........] \u001b8Setting up libdrm2:amd64 (2.4.107-8ubuntu1~20.04.2) ...\n",
      "\u001b7\u001b[24;0f\u001b[42m\u001b[30mProgress: [ 88%]\u001b[49m\u001b[39m [##################################################........] \u001b8Setting up libdrm-amdgpu1:amd64 (2.4.107-8ubuntu1~20.04.2) ...\n",
      "\u001b7\u001b[24;0f\u001b[42m\u001b[30mProgress: [ 88%]\u001b[49m\u001b[39m [###################################################.......] \u001b8Setting up mesa-vulkan-drivers:amd64 (21.2.6-0ubuntu0.1~20.04.2) ...\n",
      "\u001b7\u001b[24;0f\u001b[42m\u001b[30mProgress: [ 90%]\u001b[49m\u001b[39m [###################################################.......] \u001b8\u001b7\u001b[24;0f\u001b[42m\u001b[30mProgress: [ 90%]\u001b[49m\u001b[39m [####################################################......] \u001b8Setting up libdrm-nouveau2:amd64 (2.4.107-8ubuntu1~20.04.2) ...\n",
      "\u001b7\u001b[24;0f\u001b[42m\u001b[30mProgress: [ 92%]\u001b[49m\u001b[39m [#####################################################.....] \u001b8Setting up libdrm-radeon1:amd64 (2.4.107-8ubuntu1~20.04.2) ...\n",
      "\u001b7\u001b[24;0f\u001b[42m\u001b[30mProgress: [ 92%]\u001b[49m\u001b[39m [#####################################################.....] \u001b8Setting up libdrm-intel1:amd64 (2.4.107-8ubuntu1~20.04.2) ...\n",
      "\u001b7\u001b[24;0f\u001b[42m\u001b[30mProgress: [ 93%]\u001b[49m\u001b[39m [######################################################....] \u001b8\u001b7\u001b[24;0f\u001b[42m\u001b[30mProgress: [ 94%]\u001b[49m\u001b[39m [######################################################....] \u001b8Setting up libgl1-mesa-dri:amd64 (21.2.6-0ubuntu0.1~20.04.2) ...\n",
      "\u001b7\u001b[24;0f\u001b[42m\u001b[30mProgress: [ 95%]\u001b[49m\u001b[39m [#######################################################...] \u001b8Setting up libglx-mesa0:amd64 (21.2.6-0ubuntu0.1~20.04.2) ...\n",
      "\u001b7\u001b[24;0f\u001b[42m\u001b[30mProgress: [ 96%]\u001b[49m\u001b[39m [#######################################################...] \u001b8Setting up libglx0:amd64 (1.3.2-1~ubuntu0.20.04.2) ...\n",
      "\u001b7\u001b[24;0f\u001b[42m\u001b[30mProgress: [ 97%]\u001b[49m\u001b[39m [########################################################..] \u001b8\u001b7\u001b[24;0f\u001b[42m\u001b[30mProgress: [ 98%]\u001b[49m\u001b[39m [########################################################..] \u001b8Setting up libgl1:amd64 (1.3.2-1~ubuntu0.20.04.2) ...\n",
      "\u001b7\u001b[24;0f\u001b[42m\u001b[30mProgress: [ 99%]\u001b[49m\u001b[39m [#########################################################.] \u001b8Processing triggers for libc-bin (2.31-0ubuntu9.2) ...\n",
      "\n",
      "\u001b7\u001b[0;24r\u001b8\u001b[1A\u001b[JCollecting opencv-python\n",
      "  Downloading opencv_python-4.5.5.64-cp36-abi3-manylinux_2_17_x86_64.manylinux2014_x86_64.whl (60.5 MB)\n",
      "\u001b[2K     \u001b[90m━━━━━━━━━━━━━━━━━━━━━━━━━━━━━━━━━━━━━━━━\u001b[0m \u001b[32m60.5/60.5 MB\u001b[0m \u001b[31m12.4 MB/s\u001b[0m eta \u001b[36m0:00:00\u001b[0m00:01\u001b[0m00:01\u001b[0m\n",
      "\u001b[?25hRequirement already satisfied: numpy>=1.17.3 in /usr/local/lib/python3.8/dist-packages (from opencv-python) (1.19.4)\n",
      "Installing collected packages: opencv-python\n",
      "Successfully installed opencv-python-4.5.5.64\n",
      "\u001b[33mWARNING: Running pip as the 'root' user can result in broken permissions and conflicting behaviour with the system package manager. It is recommended to use a virtual environment instead: https://pip.pypa.io/warnings/venv\u001b[0m\u001b[33m\n",
      "\u001b[0m\u001b[33mWARNING: You are using pip version 22.0.3; however, version 22.1.2 is available.\n",
      "You should consider upgrading via the '/usr/bin/python -m pip install --upgrade pip' command.\u001b[0m\u001b[33m\n",
      "\u001b[0mAlready up to date.\n"
     ]
    }
   ],
   "source": [
    "import os\n",
    "if \"COLAB_GPU\" in os.environ:\n",
    "    _useMultiProcessing = False\n",
    "    os.system(\"git clone https://github.com/zaxo7/UNet-Playground.git\")\n",
    "    os.chdir(\"/content/UNet-Playground/\")\n",
    "else:\n",
    "    _useMultiProcessing = True\n",
    "    \n",
    "if \"PAPERSPACE_FQDN\" in os.environ:\n",
    "    !apt update\n",
    "    !apt install libgl1 -y\n",
    "    !pip install opencv-python \n",
    "    !git pull\n",
    "\n"
   ]
  },
  {
   "cell_type": "markdown",
   "metadata": {},
   "source": [
    "- enable module autoreload and fix an import bug"
   ]
  },
  {
   "cell_type": "code",
   "execution_count": 2,
   "metadata": {
    "execution": {
     "iopub.execute_input": "2022-06-05T08:49:33.834263Z",
     "iopub.status.busy": "2022-06-05T08:49:33.834047Z",
     "iopub.status.idle": "2022-06-05T08:49:33.854206Z",
     "shell.execute_reply": "2022-06-05T08:49:33.853540Z",
     "shell.execute_reply.started": "2022-06-05T08:49:33.834263Z"
    }
   },
   "outputs": [],
   "source": [
    "%load_ext autoreload\n",
    "%autoreload 2\n",
    "\n",
    "import sys,os\n",
    "sys.path.append(os.getcwd() + '/scripts')"
   ]
  },
  {
   "cell_type": "markdown",
   "metadata": {},
   "source": [
    "- import the scripts and data"
   ]
  },
  {
   "cell_type": "code",
   "execution_count": 4,
   "metadata": {
    "execution": {
     "iopub.execute_input": "2022-06-05T08:49:38.584387Z",
     "iopub.status.busy": "2022-06-05T08:49:38.583620Z",
     "iopub.status.idle": "2022-06-05T08:49:38.626554Z",
     "shell.execute_reply": "2022-06-05T08:49:38.625685Z",
     "shell.execute_reply.started": "2022-06-05T08:49:38.583814Z"
    }
   },
   "outputs": [],
   "source": [
    "from scripts import data, model\n",
    "import glob\n",
    "import matplotlib.pyplot as plt\n",
    "import tensorflow as tf\n",
    "import numpy as np\n",
    "import cv2\n",
    "import pandas as pd\n",
    "import time\n",
    "from scripts.DataGenerator import DataGenerator"
   ]
  },
  {
   "cell_type": "code",
   "execution_count": 3,
   "metadata": {
    "execution": {
     "iopub.execute_input": "2022-05-23T13:34:08.419387Z",
     "iopub.status.busy": "2022-05-23T13:34:08.419110Z",
     "iopub.status.idle": "2022-05-23T13:34:08.691432Z",
     "shell.execute_reply": "2022-05-23T13:34:08.690526Z",
     "shell.execute_reply.started": "2022-05-23T13:34:08.419359Z"
    }
   },
   "outputs": [],
   "source": []
  },
  {
   "cell_type": "markdown",
   "metadata": {},
   "source": [
    "- model parameters"
   ]
  },
  {
   "cell_type": "code",
   "execution_count": 21,
   "metadata": {
    "execution": {
     "iopub.execute_input": "2022-06-04T23:45:15.774859Z",
     "iopub.status.busy": "2022-06-04T23:45:15.774082Z",
     "iopub.status.idle": "2022-06-04T23:45:15.817691Z",
     "shell.execute_reply": "2022-06-04T23:45:15.816844Z",
     "shell.execute_reply.started": "2022-06-04T23:45:15.774830Z"
    }
   },
   "outputs": [],
   "source": [
    "_batch_size = 8\n",
    "_epochs = 200\n",
    "_workers = 8\n",
    "_model_name = f'RBC_BinaryCrossentropy_data2_data2_60'\n",
    "images_per_epoch = 1000\n",
    "train_steps = images_per_epoch//_batch_size\n",
    "#validation_steps = len(test_img_tile_files)//_batch_size\n",
    "\n",
    "Train = True"
   ]
  },
  {
   "cell_type": "code",
   "execution_count": 22,
   "metadata": {
    "execution": {
     "iopub.execute_input": "2022-06-04T23:45:15.819986Z",
     "iopub.status.busy": "2022-06-04T23:45:15.818744Z",
     "iopub.status.idle": "2022-06-04T23:45:16.812716Z",
     "shell.execute_reply": "2022-06-04T23:45:16.811612Z",
     "shell.execute_reply.started": "2022-06-04T23:45:15.819943Z"
    }
   },
   "outputs": [
    {
     "name": "stdout",
     "output_type": "stream",
     "text": [
      "skipping empty images with keep probability of 0.05\n",
      "before skip we have 6640 images\n"
     ]
    },
    {
     "name": "stderr",
     "output_type": "stream",
     "text": [
      "100%|██████████| 6640/6640 [00:00<00:00, 35112.27it/s]\n"
     ]
    },
    {
     "name": "stdout",
     "output_type": "stream",
     "text": [
      "after skip we have 4832 images\n",
      "skipping empty images with keep probability of 0.05\n",
      "before skip we have 1834 images\n"
     ]
    },
    {
     "name": "stderr",
     "output_type": "stream",
     "text": [
      "100%|██████████| 1834/1834 [00:00<00:00, 15192.40it/s]"
     ]
    },
    {
     "name": "stdout",
     "output_type": "stream",
     "text": [
      "after skip we have 1312 images\n"
     ]
    },
    {
     "name": "stderr",
     "output_type": "stream",
     "text": [
      "\n"
     ]
    }
   ],
   "source": [
    "database = \"data\"\n",
    "\n",
    "\n",
    "train_img_tile_files = sorted(glob.glob(f'{database}/train/tiles/*.jpg'))\n",
    "train_mask_tile_label_files = sorted(glob.glob(f'{database}/train/mask/tiles/*.jpg'))\n",
    "train_edge_tile_label_files = sorted(glob.glob(f'{database}/train/edge/tiles/*.jpg'))\n",
    "\n",
    "database = \"data\"\n",
    "\n",
    "test_img_tile_files = sorted(glob.glob(f'{database}/test/tiles/*.jpg'))\n",
    "test_mask_tile_label_files = sorted(glob.glob(f'{database}/test/mask/tiles/*.jpg'))\n",
    "test_edge_tile_label_files = sorted(glob.glob(f'{database}/test/edge/tiles/*.jpg'))\n",
    "\n",
    "train_gen = DataGenerator(train_img_tile_files, train_mask_tile_label_files, train_edge_tile_label_files, _batch_size, skip_empty = True, noise_prob = 0)\n",
    "\n",
    "test_gen = DataGenerator(test_img_tile_files, test_mask_tile_label_files, test_edge_tile_label_files, _batch_size, skip_empty = True, augment=False)\n",
    "\n"
   ]
  },
  {
   "cell_type": "markdown",
   "metadata": {},
   "source": [
    "- load weights and compile it"
   ]
  },
  {
   "cell_type": "code",
   "execution_count": 23,
   "metadata": {
    "execution": {
     "iopub.execute_input": "2022-06-04T23:45:16.814574Z",
     "iopub.status.busy": "2022-06-04T23:45:16.814304Z",
     "iopub.status.idle": "2022-06-04T23:45:21.659916Z",
     "shell.execute_reply": "2022-06-04T23:45:21.659118Z",
     "shell.execute_reply.started": "2022-06-04T23:45:16.814548Z"
    }
   },
   "outputs": [
    {
     "name": "stdout",
     "output_type": "stream",
     "text": [
      "loading model RBC_BinaryCrossentropy_data2_data2_60\n",
      "66\n",
      "                Layer Name          Output Shape  Layer Trainable\n",
      "0                  input_4   (None, 188, 188, 3)             True\n",
      "1                conv2d_45  (None, 186, 186, 96)             True\n",
      "2   batch_normalization_54  (None, 186, 186, 96)             True\n",
      "3            activation_54  (None, 186, 186, 96)             True\n",
      "4                conv2d_46  (None, 186, 186, 32)             True\n",
      "5   batch_normalization_55  (None, 186, 186, 32)             True\n",
      "6            activation_55  (None, 186, 186, 32)             True\n",
      "7                conv2d_47  (None, 184, 184, 32)             True\n",
      "8   batch_normalization_56  (None, 184, 184, 32)             True\n",
      "9            activation_56  (None, 184, 184, 32)             True\n",
      "10         max_pooling2d_9    (None, 92, 92, 32)             True\n",
      "11               conv2d_48    (None, 90, 90, 64)             True\n",
      "12  batch_normalization_57    (None, 90, 90, 64)             True\n",
      "13           activation_57    (None, 90, 90, 64)             True\n",
      "14               conv2d_49    (None, 88, 88, 64)             True\n",
      "15  batch_normalization_58    (None, 88, 88, 64)             True\n",
      "16           activation_58    (None, 88, 88, 64)             True\n",
      "17        max_pooling2d_10    (None, 44, 44, 64)             True\n",
      "18               conv2d_50   (None, 42, 42, 128)             True\n",
      "19  batch_normalization_59   (None, 42, 42, 128)             True\n",
      "20           activation_59   (None, 42, 42, 128)             True\n",
      "21               conv2d_51   (None, 40, 40, 128)             True\n",
      "22  batch_normalization_60   (None, 40, 40, 128)             True\n",
      "23           activation_60   (None, 40, 40, 128)             True\n",
      "24        max_pooling2d_11   (None, 20, 20, 128)             True\n",
      "25               conv2d_52   (None, 18, 18, 256)             True\n",
      "26  batch_normalization_61   (None, 18, 18, 256)             True\n",
      "27           activation_61   (None, 18, 18, 256)             True\n",
      "28               conv2d_53   (None, 16, 16, 256)             True\n",
      "29  batch_normalization_62   (None, 16, 16, 256)             True\n",
      "30           activation_62   (None, 16, 16, 256)             True\n",
      "31      conv2d_transpose_9   (None, 32, 32, 128)             True\n",
      "32  batch_normalization_63   (None, 32, 32, 128)             True\n",
      "33            cropping2d_9   (None, 32, 32, 128)             True\n",
      "34           activation_63   (None, 32, 32, 128)             True\n",
      "35           concatenate_9   (None, 32, 32, 256)             True\n",
      "36               conv2d_54   (None, 30, 30, 128)             True\n",
      "37  batch_normalization_64   (None, 30, 30, 128)             True\n",
      "38           activation_64   (None, 30, 30, 128)             True\n",
      "39               conv2d_55   (None, 28, 28, 128)             True\n",
      "40  batch_normalization_65   (None, 28, 28, 128)             True\n",
      "41           activation_65   (None, 28, 28, 128)             True\n",
      "42     conv2d_transpose_10    (None, 56, 56, 64)             True\n",
      "43  batch_normalization_66    (None, 56, 56, 64)             True\n",
      "44           cropping2d_10    (None, 56, 56, 64)             True\n",
      "45           activation_66    (None, 56, 56, 64)             True\n",
      "46          concatenate_10   (None, 56, 56, 128)             True\n",
      "47               conv2d_56    (None, 54, 54, 64)             True\n",
      "48  batch_normalization_67    (None, 54, 54, 64)             True\n",
      "49           activation_67    (None, 54, 54, 64)             True\n",
      "50               conv2d_57    (None, 52, 52, 64)             True\n",
      "51  batch_normalization_68    (None, 52, 52, 64)             True\n",
      "52           activation_68    (None, 52, 52, 64)             True\n",
      "53     conv2d_transpose_11  (None, 104, 104, 32)             True\n",
      "54  batch_normalization_69  (None, 104, 104, 32)             True\n",
      "55           cropping2d_11  (None, 104, 104, 32)             True\n",
      "56           activation_69  (None, 104, 104, 32)             True\n",
      "57          concatenate_11  (None, 104, 104, 64)             True\n",
      "58               conv2d_58  (None, 102, 102, 32)             True\n",
      "59  batch_normalization_70  (None, 102, 102, 32)             True\n",
      "60           activation_70  (None, 102, 102, 32)             True\n",
      "61               conv2d_59  (None, 100, 100, 32)             True\n",
      "62  batch_normalization_71  (None, 100, 100, 32)             True\n",
      "63           activation_71  (None, 100, 100, 32)             True\n",
      "64                    mask   (None, 100, 100, 1)             True\n",
      "65                    edge   (None, 100, 100, 1)             True\n"
     ]
    }
   ],
   "source": [
    "print(f\"loading model {_model_name}\")\n",
    "#unet.load_weights(f\"models/{_model_name}_best.h5\")\n",
    "\n",
    "#unet.save('./tmp_model',save_format='tf')\n",
    "\n",
    "objects = {\n",
    "    \"tversky_loss\":model.tversky_loss,\n",
    "    \"mean_iou\": model.mean_iou,\n",
    "    \"dsc\":model.dsc,\n",
    "    \"tversky\":model.tversky,\n",
    "    \"tversky_b\":model.tversky_b,\n",
    "    \"acc\": tf.keras.metrics.Accuracy,\n",
    "    \"tversky_loss_b\": model.tversky_loss_b\n",
    "}\n",
    "\n",
    "\n",
    "\n",
    "unet = tf.keras.models.load_model(f'./models/{_model_name}', custom_objects=objects)\n",
    "\n",
    "print(len(unet.layers))\n",
    "\n",
    "layers = []\n",
    "#freeze the layers\n",
    "#freeze the all the layers\n",
    "#layers = range(0, 66)\n",
    "#freeze the edge layer\n",
    "#layers = [-1]\n",
    "for ind in layers:\n",
    "    #print(f\"freezing layer {unet.layers[ind].name}\")\n",
    "    unet.layers[ind].trainable = False\n",
    "\n",
    "unet.compile(optimizer=\"adam\",\n",
    "             loss=model.tversky_loss,\n",
    "             loss_weights={\"mask\": 0.3, \"edge\": 0.7},\n",
    "             metrics={'mask': [model.mean_iou, model.dsc, model.tversky, model.tversky_b, 'acc'], \n",
    "                      'edge': [model.mean_iou, model.dsc, model.tversky, model.tversky_b, 'acc']})\n",
    "\n",
    "\n",
    "\n",
    "\n",
    "layers = [(layer.name, layer.output.shape, layer.trainable) for layer in unet.layers]\n",
    "df = pd.DataFrame(layers, columns=['Layer Name', 'Output Shape', 'Layer Trainable'])\n",
    "\n",
    "print(df.to_string())\n",
    "\n",
    "#unet.summary()"
   ]
  },
  {
   "cell_type": "markdown",
   "metadata": {},
   "source": [
    "- evaluate the model before train"
   ]
  },
  {
   "cell_type": "code",
   "execution_count": 7,
   "metadata": {
    "execution": {
     "iopub.execute_input": "2022-06-04T22:14:35.605686Z",
     "iopub.status.busy": "2022-06-04T22:14:35.604449Z",
     "iopub.status.idle": "2022-06-04T22:14:56.812000Z",
     "shell.execute_reply": "2022-06-04T22:14:56.810188Z",
     "shell.execute_reply.started": "2022-06-04T22:14:35.605604Z"
    }
   },
   "outputs": [
    {
     "name": "stdout",
     "output_type": "stream",
     "text": [
      "WARNING:tensorflow:From /usr/local/lib/python3.8/dist-packages/tensorflow/python/util/deprecation.py:620: calling map_fn_v2 (from tensorflow.python.ops.map_fn) with dtype is deprecated and will be removed in a future version.\n",
      "Instructions for updating:\n",
      "Use fn_output_signature instead\n"
     ]
    },
    {
     "name": "stderr",
     "output_type": "stream",
     "text": [
      "2022-06-04 22:14:39.362895: I tensorflow/stream_executor/cuda/cuda_dnn.cc:377] Loaded cuDNN version 8302\n"
     ]
    },
    {
     "name": "stdout",
     "output_type": "stream",
     "text": [
      "229/229 [==============================] - 21s 70ms/step - loss: 0.1982 - mask_loss: 0.1982 - edge_loss: 0.7633 - mask_mean_iou: 0.5314 - mask_dsc: 0.7989 - mask_tversky: 0.8018 - mask_tversky_b: 0.9588 - mask_acc: 0.9740 - edge_mean_iou: 0.0576 - edge_dsc: 0.1677 - edge_tversky: 0.2367 - edge_tversky_b: 0.3794 - edge_acc: 0.7129\n"
     ]
    }
   ],
   "source": [
    "old_database = database\n",
    "database = \"data\"\n",
    "\n",
    "test_img_tile_files = sorted(glob.glob(f'{database}/test/tiles/*.jpg'))\n",
    "test_mask_tile_label_files = sorted(glob.glob(f'{database}/test/mask/tiles/*.jpg'))\n",
    "test_edge_tile_label_files = sorted(glob.glob(f'{database}/test/edge/tiles/*.jpg'))\n",
    "\n",
    "old_test_gen = test_gen\n",
    "test_gen = DataGenerator(test_img_tile_files, test_mask_tile_label_files, test_edge_tile_label_files, _batch_size, skip_empty = False, augment=False)\n",
    "\n",
    "unet.evaluate(test_gen)\n",
    "\n",
    "database = old_database\n",
    "test_gen = old_test_gen"
   ]
  },
  {
   "cell_type": "markdown",
   "metadata": {},
   "source": [
    "- Train the model"
   ]
  },
  {
   "cell_type": "code",
   "execution_count": null,
   "metadata": {
    "execution": {
     "iopub.execute_input": "2022-06-04T23:45:21.662958Z",
     "iopub.status.busy": "2022-06-04T23:45:21.662489Z"
    }
   },
   "outputs": [
    {
     "name": "stdout",
     "output_type": "stream",
     "text": [
      "Epoch 1/200\n",
      "125/125 [==============================] - ETA: 0s - loss: 0.3440 - mask_loss: 0.1254 - edge_loss: 0.4377 - mask_mean_iou: 0.6880 - mask_dsc: 0.8618 - mask_tversky: 0.8746 - mask_tversky_b: 0.8750 - mask_acc: 0.9430 - edge_mean_iou: 0.2911 - edge_dsc: 0.4896 - edge_tversky: 0.5623 - edge_tversky_b: 0.5626 - edge_acc: 0.9228\n",
      "Epoch 00001: val_loss improved from inf to 0.29064, saving model to models/RBC_BinaryCrossentropy_data2_data2_60_data_data_200_03_07__1654386321.7190397_adv_best.h5\n",
      "125/125 [==============================] - 33s 229ms/step - loss: 0.3440 - mask_loss: 0.1254 - edge_loss: 0.4377 - mask_mean_iou: 0.6880 - mask_dsc: 0.8618 - mask_tversky: 0.8746 - mask_tversky_b: 0.8750 - mask_acc: 0.9430 - edge_mean_iou: 0.2911 - edge_dsc: 0.4896 - edge_tversky: 0.5623 - edge_tversky_b: 0.5626 - edge_acc: 0.9228 - val_loss: 0.2906 - val_mask_loss: 0.0685 - val_edge_loss: 0.3858 - val_mask_mean_iou: 0.7567 - val_mask_dsc: 0.9182 - val_mask_tversky: 0.9315 - val_mask_tversky_b: 0.9611 - val_mask_acc: 0.9579 - val_edge_mean_iou: 0.3221 - val_edge_dsc: 0.5560 - val_edge_tversky: 0.6142 - val_edge_tversky_b: 0.6154 - val_edge_acc: 0.9136\n",
      "Epoch 2/200\n",
      "125/125 [==============================] - ETA: 0s - loss: 0.2701 - mask_loss: 0.0434 - edge_loss: 0.3673 - mask_mean_iou: 0.7196 - mask_dsc: 0.9460 - mask_tversky: 0.9566 - mask_tversky_b: 0.9568 - mask_acc: 0.9591 - edge_mean_iou: 0.3137 - edge_dsc: 0.5539 - edge_tversky: 0.6327 - edge_tversky_b: 0.6330 - edge_acc: 0.9273\n",
      "Epoch 00002: val_loss improved from 0.29064 to 0.28941, saving model to models/RBC_BinaryCrossentropy_data2_data2_60_data_data_200_03_07__1654386321.7190397_adv_best.h5\n",
      "125/125 [==============================] - 28s 217ms/step - loss: 0.2701 - mask_loss: 0.0434 - edge_loss: 0.3673 - mask_mean_iou: 0.7196 - mask_dsc: 0.9460 - mask_tversky: 0.9566 - mask_tversky_b: 0.9568 - mask_acc: 0.9591 - edge_mean_iou: 0.3137 - edge_dsc: 0.5539 - edge_tversky: 0.6327 - edge_tversky_b: 0.6330 - edge_acc: 0.9273 - val_loss: 0.2894 - val_mask_loss: 0.0367 - val_edge_loss: 0.3977 - val_mask_mean_iou: 0.7595 - val_mask_dsc: 0.9534 - val_mask_tversky: 0.9633 - val_mask_tversky_b: 0.9634 - val_mask_acc: 0.9592 - val_edge_mean_iou: 0.3192 - val_edge_dsc: 0.5395 - val_edge_tversky: 0.6023 - val_edge_tversky_b: 0.6025 - val_edge_acc: 0.9104\n",
      "Epoch 3/200\n",
      "125/125 [==============================] - ETA: 0s - loss: 0.2764 - mask_loss: 0.0470 - edge_loss: 0.3747 - mask_mean_iou: 0.7197 - mask_dsc: 0.9434 - mask_tversky: 0.9530 - mask_tversky_b: 0.9531 - mask_acc: 0.9578 - edge_mean_iou: 0.3085 - edge_dsc: 0.5448 - edge_tversky: 0.6253 - edge_tversky_b: 0.6255 - edge_acc: 0.9225\n",
      "Epoch 00003: val_loss improved from 0.28941 to 0.28387, saving model to models/RBC_BinaryCrossentropy_data2_data2_60_data_data_200_03_07__1654386321.7190397_adv_best.h5\n",
      "125/125 [==============================] - 28s 217ms/step - loss: 0.2764 - mask_loss: 0.0470 - edge_loss: 0.3747 - mask_mean_iou: 0.7197 - mask_dsc: 0.9434 - mask_tversky: 0.9530 - mask_tversky_b: 0.9531 - mask_acc: 0.9578 - edge_mean_iou: 0.3085 - edge_dsc: 0.5448 - edge_tversky: 0.6253 - edge_tversky_b: 0.6255 - edge_acc: 0.9225 - val_loss: 0.2839 - val_mask_loss: 0.0374 - val_edge_loss: 0.3895 - val_mask_mean_iou: 0.7639 - val_mask_dsc: 0.9562 - val_mask_tversky: 0.9626 - val_mask_tversky_b: 0.9628 - val_mask_acc: 0.9618 - val_edge_mean_iou: 0.3270 - val_edge_dsc: 0.5474 - val_edge_tversky: 0.6105 - val_edge_tversky_b: 0.6106 - val_edge_acc: 0.9120\n",
      "Epoch 4/200\n",
      "125/125 [==============================] - ETA: 0s - loss: 0.2700 - mask_loss: 0.0416 - edge_loss: 0.3679 - mask_mean_iou: 0.7190 - mask_dsc: 0.9470 - mask_tversky: 0.9584 - mask_tversky_b: 0.9586 - mask_acc: 0.9598 - edge_mean_iou: 0.3123 - edge_dsc: 0.5521 - edge_tversky: 0.6321 - edge_tversky_b: 0.6325 - edge_acc: 0.9274\n",
      "Epoch 00004: val_loss improved from 0.28387 to 0.28076, saving model to models/RBC_BinaryCrossentropy_data2_data2_60_data_data_200_03_07__1654386321.7190397_adv_best.h5\n",
      "125/125 [==============================] - 27s 211ms/step - loss: 0.2700 - mask_loss: 0.0416 - edge_loss: 0.3679 - mask_mean_iou: 0.7190 - mask_dsc: 0.9470 - mask_tversky: 0.9584 - mask_tversky_b: 0.9586 - mask_acc: 0.9598 - edge_mean_iou: 0.3123 - edge_dsc: 0.5521 - edge_tversky: 0.6321 - edge_tversky_b: 0.6325 - edge_acc: 0.9274 - val_loss: 0.2808 - val_mask_loss: 0.0372 - val_edge_loss: 0.3852 - val_mask_mean_iou: 0.7600 - val_mask_dsc: 0.9541 - val_mask_tversky: 0.9628 - val_mask_tversky_b: 0.9629 - val_mask_acc: 0.9598 - val_edge_mean_iou: 0.3165 - val_edge_dsc: 0.5335 - val_edge_tversky: 0.6148 - val_edge_tversky_b: 0.6151 - val_edge_acc: 0.8993\n",
      "Epoch 5/200\n",
      "125/125 [==============================] - ETA: 0s - loss: 0.2706 - mask_loss: 0.0415 - edge_loss: 0.3688 - mask_mean_iou: 0.7246 - mask_dsc: 0.9486 - mask_tversky: 0.9585 - mask_tversky_b: 0.9587 - mask_acc: 0.9608 - edge_mean_iou: 0.3147 - edge_dsc: 0.5522 - edge_tversky: 0.6312 - edge_tversky_b: 0.6315 - edge_acc: 0.9284\n",
      "Epoch 00005: val_loss did not improve from 0.28076\n",
      "125/125 [==============================] - 27s 207ms/step - loss: 0.2706 - mask_loss: 0.0415 - edge_loss: 0.3688 - mask_mean_iou: 0.7246 - mask_dsc: 0.9486 - mask_tversky: 0.9585 - mask_tversky_b: 0.9587 - mask_acc: 0.9608 - edge_mean_iou: 0.3147 - edge_dsc: 0.5522 - edge_tversky: 0.6312 - edge_tversky_b: 0.6315 - edge_acc: 0.9284 - val_loss: 0.2880 - val_mask_loss: 0.0368 - val_edge_loss: 0.3956 - val_mask_mean_iou: 0.7626 - val_mask_dsc: 0.9551 - val_mask_tversky: 0.9632 - val_mask_tversky_b: 0.9634 - val_mask_acc: 0.9604 - val_edge_mean_iou: 0.3079 - val_edge_dsc: 0.5219 - val_edge_tversky: 0.6044 - val_edge_tversky_b: 0.6046 - val_edge_acc: 0.8953\n",
      "Epoch 6/200\n",
      "125/125 [==============================] - ETA: 0s - loss: 0.2754 - mask_loss: 0.0421 - edge_loss: 0.3754 - mask_mean_iou: 0.7278 - mask_dsc: 0.9473 - mask_tversky: 0.9579 - mask_tversky_b: 0.9580 - mask_acc: 0.9594 - edge_mean_iou: 0.3081 - edge_dsc: 0.5428 - edge_tversky: 0.6246 - edge_tversky_b: 0.6249 - edge_acc: 0.9237\n",
      "Epoch 00006: val_loss did not improve from 0.28076\n",
      "125/125 [==============================] - 28s 219ms/step - loss: 0.2754 - mask_loss: 0.0421 - edge_loss: 0.3754 - mask_mean_iou: 0.7278 - mask_dsc: 0.9473 - mask_tversky: 0.9579 - mask_tversky_b: 0.9580 - mask_acc: 0.9594 - edge_mean_iou: 0.3081 - edge_dsc: 0.5428 - edge_tversky: 0.6246 - edge_tversky_b: 0.6249 - edge_acc: 0.9237 - val_loss: 0.2907 - val_mask_loss: 0.0457 - val_edge_loss: 0.3957 - val_mask_mean_iou: 0.7534 - val_mask_dsc: 0.9479 - val_mask_tversky: 0.9543 - val_mask_tversky_b: 0.9544 - val_mask_acc: 0.9551 - val_edge_mean_iou: 0.3232 - val_edge_dsc: 0.5436 - val_edge_tversky: 0.6043 - val_edge_tversky_b: 0.6045 - val_edge_acc: 0.9126\n",
      "Epoch 7/200\n",
      "125/125 [==============================] - ETA: 0s - loss: 0.2682 - mask_loss: 0.0389 - edge_loss: 0.3664 - mask_mean_iou: 0.7335 - mask_dsc: 0.9497 - mask_tversky: 0.9611 - mask_tversky_b: 0.9612 - mask_acc: 0.9614 - edge_mean_iou: 0.3170 - edge_dsc: 0.5508 - edge_tversky: 0.6336 - edge_tversky_b: 0.6338 - edge_acc: 0.9235\n",
      "Epoch 00007: val_loss did not improve from 0.28076\n",
      "125/125 [==============================] - 27s 209ms/step - loss: 0.2682 - mask_loss: 0.0389 - edge_loss: 0.3664 - mask_mean_iou: 0.7335 - mask_dsc: 0.9497 - mask_tversky: 0.9611 - mask_tversky_b: 0.9612 - mask_acc: 0.9614 - edge_mean_iou: 0.3170 - edge_dsc: 0.5508 - edge_tversky: 0.6336 - edge_tversky_b: 0.6338 - edge_acc: 0.9235 - val_loss: 0.2883 - val_mask_loss: 0.0400 - val_edge_loss: 0.3947 - val_mask_mean_iou: 0.7585 - val_mask_dsc: 0.9529 - val_mask_tversky: 0.9600 - val_mask_tversky_b: 0.9601 - val_mask_acc: 0.9590 - val_edge_mean_iou: 0.3245 - val_edge_dsc: 0.5435 - val_edge_tversky: 0.6053 - val_edge_tversky_b: 0.6055 - val_edge_acc: 0.9122\n",
      "Epoch 8/200\n",
      "125/125 [==============================] - ETA: 0s - loss: 0.2698 - mask_loss: 0.0407 - edge_loss: 0.3679 - mask_mean_iou: 0.7310 - mask_dsc: 0.9483 - mask_tversky: 0.9593 - mask_tversky_b: 0.9593 - mask_acc: 0.9607 - edge_mean_iou: 0.3164 - edge_dsc: 0.5508 - edge_tversky: 0.6321 - edge_tversky_b: 0.6323 - edge_acc: 0.9244\n",
      "Epoch 00008: val_loss did not improve from 0.28076\n",
      "125/125 [==============================] - 27s 207ms/step - loss: 0.2698 - mask_loss: 0.0407 - edge_loss: 0.3679 - mask_mean_iou: 0.7310 - mask_dsc: 0.9483 - mask_tversky: 0.9593 - mask_tversky_b: 0.9593 - mask_acc: 0.9607 - edge_mean_iou: 0.3164 - edge_dsc: 0.5508 - edge_tversky: 0.6321 - edge_tversky_b: 0.6323 - edge_acc: 0.9244 - val_loss: 0.2915 - val_mask_loss: 0.0379 - val_edge_loss: 0.4002 - val_mask_mean_iou: 0.7557 - val_mask_dsc: 0.9514 - val_mask_tversky: 0.9621 - val_mask_tversky_b: 0.9622 - val_mask_acc: 0.9571 - val_edge_mean_iou: 0.3180 - val_edge_dsc: 0.5378 - val_edge_tversky: 0.5998 - val_edge_tversky_b: 0.6000 - val_edge_acc: 0.9106\n",
      "Epoch 9/200\n",
      "125/125 [==============================] - ETA: 0s - loss: 0.2656 - mask_loss: 0.0390 - edge_loss: 0.3627 - mask_mean_iou: 0.7342 - mask_dsc: 0.9511 - mask_tversky: 0.9610 - mask_tversky_b: 0.9611 - mask_acc: 0.9622 - edge_mean_iou: 0.3209 - edge_dsc: 0.5570 - edge_tversky: 0.6373 - edge_tversky_b: 0.6375 - edge_acc: 0.9264\n",
      "Epoch 00009: val_loss did not improve from 0.28076\n",
      "125/125 [==============================] - 27s 210ms/step - loss: 0.2656 - mask_loss: 0.0390 - edge_loss: 0.3627 - mask_mean_iou: 0.7342 - mask_dsc: 0.9511 - mask_tversky: 0.9610 - mask_tversky_b: 0.9611 - mask_acc: 0.9622 - edge_mean_iou: 0.3209 - edge_dsc: 0.5570 - edge_tversky: 0.6373 - edge_tversky_b: 0.6375 - edge_acc: 0.9264 - val_loss: 0.2916 - val_mask_loss: 0.0384 - val_edge_loss: 0.4001 - val_mask_mean_iou: 0.7604 - val_mask_dsc: 0.9534 - val_mask_tversky: 0.9616 - val_mask_tversky_b: 0.9617 - val_mask_acc: 0.9594 - val_edge_mean_iou: 0.3261 - val_edge_dsc: 0.5462 - val_edge_tversky: 0.5999 - val_edge_tversky_b: 0.6001 - val_edge_acc: 0.9162\n",
      "Epoch 10/200\n",
      "125/125 [==============================] - ETA: 0s - loss: 0.2660 - mask_loss: 0.0368 - edge_loss: 0.3642 - mask_mean_iou: 0.7430 - mask_dsc: 0.9531 - mask_tversky: 0.9632 - mask_tversky_b: 0.9633 - mask_acc: 0.9630 - edge_mean_iou: 0.3216 - edge_dsc: 0.5548 - edge_tversky: 0.6358 - edge_tversky_b: 0.6361 - edge_acc: 0.9224\n",
      "Epoch 00010: val_loss did not improve from 0.28076\n",
      "125/125 [==============================] - 28s 213ms/step - loss: 0.2660 - mask_loss: 0.0368 - edge_loss: 0.3642 - mask_mean_iou: 0.7430 - mask_dsc: 0.9531 - mask_tversky: 0.9632 - mask_tversky_b: 0.9633 - mask_acc: 0.9630 - edge_mean_iou: 0.3216 - edge_dsc: 0.5548 - edge_tversky: 0.6358 - edge_tversky_b: 0.6361 - edge_acc: 0.9224 - val_loss: 0.2882 - val_mask_loss: 0.0381 - val_edge_loss: 0.3954 - val_mask_mean_iou: 0.7564 - val_mask_dsc: 0.9513 - val_mask_tversky: 0.9619 - val_mask_tversky_b: 0.9620 - val_mask_acc: 0.9571 - val_edge_mean_iou: 0.3163 - val_edge_dsc: 0.5340 - val_edge_tversky: 0.6046 - val_edge_tversky_b: 0.6048 - val_edge_acc: 0.9055\n",
      "Epoch 11/200\n",
      "125/125 [==============================] - ETA: 0s - loss: 0.2726 - mask_loss: 0.0441 - edge_loss: 0.3704 - mask_mean_iou: 0.7115 - mask_dsc: 0.9438 - mask_tversky: 0.9559 - mask_tversky_b: 0.9560 - mask_acc: 0.9579 - edge_mean_iou: 0.3083 - edge_dsc: 0.5474 - edge_tversky: 0.6296 - edge_tversky_b: 0.6296 - edge_acc: 0.9263\n",
      "Epoch 00011: val_loss did not improve from 0.28076\n",
      "125/125 [==============================] - 27s 209ms/step - loss: 0.2726 - mask_loss: 0.0441 - edge_loss: 0.3704 - mask_mean_iou: 0.7115 - mask_dsc: 0.9438 - mask_tversky: 0.9559 - mask_tversky_b: 0.9560 - mask_acc: 0.9579 - edge_mean_iou: 0.3083 - edge_dsc: 0.5474 - edge_tversky: 0.6296 - edge_tversky_b: 0.6296 - edge_acc: 0.9263 - val_loss: 0.2809 - val_mask_loss: 0.0375 - val_edge_loss: 0.3852 - val_mask_mean_iou: 0.7660 - val_mask_dsc: 0.9567 - val_mask_tversky: 0.9625 - val_mask_tversky_b: 0.9626 - val_mask_acc: 0.9627 - val_edge_mean_iou: 0.3238 - val_edge_dsc: 0.5418 - val_edge_tversky: 0.6148 - val_edge_tversky_b: 0.6150 - val_edge_acc: 0.9061\n",
      "Epoch 12/200\n",
      "125/125 [==============================] - ETA: 0s - loss: 0.2705 - mask_loss: 0.0406 - edge_loss: 0.3691 - mask_mean_iou: 0.7234 - mask_dsc: 0.9490 - mask_tversky: 0.9594 - mask_tversky_b: 0.9595 - mask_acc: 0.9620 - edge_mean_iou: 0.3140 - edge_dsc: 0.5506 - edge_tversky: 0.6309 - edge_tversky_b: 0.6312 - edge_acc: 0.9248\n",
      "Epoch 00012: val_loss did not improve from 0.28076\n",
      "125/125 [==============================] - 27s 207ms/step - loss: 0.2705 - mask_loss: 0.0406 - edge_loss: 0.3691 - mask_mean_iou: 0.7234 - mask_dsc: 0.9490 - mask_tversky: 0.9594 - mask_tversky_b: 0.9595 - mask_acc: 0.9620 - edge_mean_iou: 0.3140 - edge_dsc: 0.5506 - edge_tversky: 0.6309 - edge_tversky_b: 0.6312 - edge_acc: 0.9248 - val_loss: 0.2857 - val_mask_loss: 0.0357 - val_edge_loss: 0.3929 - val_mask_mean_iou: 0.7653 - val_mask_dsc: 0.9573 - val_mask_tversky: 0.9643 - val_mask_tversky_b: 0.9644 - val_mask_acc: 0.9628 - val_edge_mean_iou: 0.3308 - val_edge_dsc: 0.5504 - val_edge_tversky: 0.6071 - val_edge_tversky_b: 0.6073 - val_edge_acc: 0.9158\n",
      "Epoch 13/200\n",
      "125/125 [==============================] - ETA: 0s - loss: 0.2637 - mask_loss: 0.0385 - edge_loss: 0.3602 - mask_mean_iou: 0.7261 - mask_dsc: 0.9504 - mask_tversky: 0.9615 - mask_tversky_b: 0.9616 - mask_acc: 0.9620 - edge_mean_iou: 0.3205 - edge_dsc: 0.5582 - edge_tversky: 0.6398 - edge_tversky_b: 0.6400 - edge_acc: 0.9273\n",
      "Epoch 00013: val_loss did not improve from 0.28076\n",
      "125/125 [==============================] - 27s 210ms/step - loss: 0.2637 - mask_loss: 0.0385 - edge_loss: 0.3602 - mask_mean_iou: 0.7261 - mask_dsc: 0.9504 - mask_tversky: 0.9615 - mask_tversky_b: 0.9616 - mask_acc: 0.9620 - edge_mean_iou: 0.3205 - edge_dsc: 0.5582 - edge_tversky: 0.6398 - edge_tversky_b: 0.6400 - edge_acc: 0.9273 - val_loss: 0.2816 - val_mask_loss: 0.0357 - val_edge_loss: 0.3870 - val_mask_mean_iou: 0.7682 - val_mask_dsc: 0.9586 - val_mask_tversky: 0.9643 - val_mask_tversky_b: 0.9644 - val_mask_acc: 0.9636 - val_edge_mean_iou: 0.3285 - val_edge_dsc: 0.5497 - val_edge_tversky: 0.6130 - val_edge_tversky_b: 0.6132 - val_edge_acc: 0.9127\n",
      "Epoch 14/200\n",
      "125/125 [==============================] - ETA: 0s - loss: 0.2624 - mask_loss: 0.0363 - edge_loss: 0.3593 - mask_mean_iou: 0.7293 - mask_dsc: 0.9530 - mask_tversky: 0.9637 - mask_tversky_b: 0.9638 - mask_acc: 0.9638 - edge_mean_iou: 0.3198 - edge_dsc: 0.5594 - edge_tversky: 0.6407 - edge_tversky_b: 0.6409 - edge_acc: 0.9265\n",
      "Epoch 00014: val_loss did not improve from 0.28076\n",
      "125/125 [==============================] - 27s 212ms/step - loss: 0.2624 - mask_loss: 0.0363 - edge_loss: 0.3593 - mask_mean_iou: 0.7293 - mask_dsc: 0.9530 - mask_tversky: 0.9637 - mask_tversky_b: 0.9638 - mask_acc: 0.9638 - edge_mean_iou: 0.3198 - edge_dsc: 0.5594 - edge_tversky: 0.6407 - edge_tversky_b: 0.6409 - edge_acc: 0.9265 - val_loss: 0.2839 - val_mask_loss: 0.0363 - val_edge_loss: 0.3901 - val_mask_mean_iou: 0.7579 - val_mask_dsc: 0.9526 - val_mask_tversky: 0.9637 - val_mask_tversky_b: 0.9638 - val_mask_acc: 0.9577 - val_edge_mean_iou: 0.3187 - val_edge_dsc: 0.5368 - val_edge_tversky: 0.6099 - val_edge_tversky_b: 0.6100 - val_edge_acc: 0.9045\n",
      "Epoch 15/200\n",
      "125/125 [==============================] - ETA: 0s - loss: 0.2690 - mask_loss: 0.0428 - edge_loss: 0.3659 - mask_mean_iou: 0.7443 - mask_dsc: 0.9470 - mask_tversky: 0.9572 - mask_tversky_b: 0.9573 - mask_acc: 0.9588 - edge_mean_iou: 0.3243 - edge_dsc: 0.5536 - edge_tversky: 0.6341 - edge_tversky_b: 0.6343 - edge_acc: 0.9238\n",
      "Epoch 00015: val_loss did not improve from 0.28076\n",
      "125/125 [==============================] - 28s 218ms/step - loss: 0.2690 - mask_loss: 0.0428 - edge_loss: 0.3659 - mask_mean_iou: 0.7443 - mask_dsc: 0.9470 - mask_tversky: 0.9572 - mask_tversky_b: 0.9573 - mask_acc: 0.9588 - edge_mean_iou: 0.3243 - edge_dsc: 0.5536 - edge_tversky: 0.6341 - edge_tversky_b: 0.6343 - edge_acc: 0.9238 - val_loss: 0.2841 - val_mask_loss: 0.0357 - val_edge_loss: 0.3906 - val_mask_mean_iou: 0.7659 - val_mask_dsc: 0.9577 - val_mask_tversky: 0.9643 - val_mask_tversky_b: 0.9644 - val_mask_acc: 0.9628 - val_edge_mean_iou: 0.3284 - val_edge_dsc: 0.5497 - val_edge_tversky: 0.6094 - val_edge_tversky_b: 0.6095 - val_edge_acc: 0.9142\n",
      "Epoch 16/200\n",
      "125/125 [==============================] - ETA: 0s - loss: 0.2644 - mask_loss: 0.0375 - edge_loss: 0.3617 - mask_mean_iou: 0.7362 - mask_dsc: 0.9526 - mask_tversky: 0.9625 - mask_tversky_b: 0.9626 - mask_acc: 0.9641 - edge_mean_iou: 0.3219 - edge_dsc: 0.5588 - edge_tversky: 0.6383 - edge_tversky_b: 0.6385 - edge_acc: 0.9267\n",
      "Epoch 00016: val_loss did not improve from 0.28076\n",
      "125/125 [==============================] - 27s 209ms/step - loss: 0.2644 - mask_loss: 0.0375 - edge_loss: 0.3617 - mask_mean_iou: 0.7362 - mask_dsc: 0.9526 - mask_tversky: 0.9625 - mask_tversky_b: 0.9626 - mask_acc: 0.9641 - edge_mean_iou: 0.3219 - edge_dsc: 0.5588 - edge_tversky: 0.6383 - edge_tversky_b: 0.6385 - edge_acc: 0.9267 - val_loss: 0.2862 - val_mask_loss: 0.0389 - val_edge_loss: 0.3921 - val_mask_mean_iou: 0.7619 - val_mask_dsc: 0.9549 - val_mask_tversky: 0.9611 - val_mask_tversky_b: 0.9612 - val_mask_acc: 0.9609 - val_edge_mean_iou: 0.3278 - val_edge_dsc: 0.5454 - val_edge_tversky: 0.6079 - val_edge_tversky_b: 0.6080 - val_edge_acc: 0.9121\n",
      "Epoch 17/200\n",
      "125/125 [==============================] - ETA: 0s - loss: 0.2687 - mask_loss: 0.0417 - edge_loss: 0.3660 - mask_mean_iou: 0.7316 - mask_dsc: 0.9476 - mask_tversky: 0.9583 - mask_tversky_b: 0.9584 - mask_acc: 0.9607 - edge_mean_iou: 0.3200 - edge_dsc: 0.5528 - edge_tversky: 0.6340 - edge_tversky_b: 0.6342 - edge_acc: 0.9262\n",
      "Epoch 00017: val_loss improved from 0.28076 to 0.27957, saving model to models/RBC_BinaryCrossentropy_data2_data2_60_data_data_200_03_07__1654386321.7190397_adv_best.h5\n",
      "125/125 [==============================] - 28s 221ms/step - loss: 0.2687 - mask_loss: 0.0417 - edge_loss: 0.3660 - mask_mean_iou: 0.7316 - mask_dsc: 0.9476 - mask_tversky: 0.9583 - mask_tversky_b: 0.9584 - mask_acc: 0.9607 - edge_mean_iou: 0.3200 - edge_dsc: 0.5528 - edge_tversky: 0.6340 - edge_tversky_b: 0.6342 - edge_acc: 0.9262 - val_loss: 0.2796 - val_mask_loss: 0.0333 - val_edge_loss: 0.3851 - val_mask_mean_iou: 0.7653 - val_mask_dsc: 0.9567 - val_mask_tversky: 0.9667 - val_mask_tversky_b: 0.9668 - val_mask_acc: 0.9619 - val_edge_mean_iou: 0.3312 - val_edge_dsc: 0.5521 - val_edge_tversky: 0.6149 - val_edge_tversky_b: 0.6150 - val_edge_acc: 0.9136\n",
      "Epoch 18/200\n",
      "125/125 [==============================] - ETA: 0s - loss: 0.2627 - mask_loss: 0.0381 - edge_loss: 0.3590 - mask_mean_iou: 0.7370 - mask_dsc: 0.9512 - mask_tversky: 0.9619 - mask_tversky_b: 0.9621 - mask_acc: 0.9629 - edge_mean_iou: 0.3257 - edge_dsc: 0.5597 - edge_tversky: 0.6410 - edge_tversky_b: 0.6412 - edge_acc: 0.9258\n",
      "Epoch 00018: val_loss did not improve from 0.27957\n",
      "125/125 [==============================] - 28s 215ms/step - loss: 0.2627 - mask_loss: 0.0381 - edge_loss: 0.3590 - mask_mean_iou: 0.7370 - mask_dsc: 0.9512 - mask_tversky: 0.9619 - mask_tversky_b: 0.9621 - mask_acc: 0.9629 - edge_mean_iou: 0.3257 - edge_dsc: 0.5597 - edge_tversky: 0.6410 - edge_tversky_b: 0.6412 - edge_acc: 0.9258 - val_loss: 0.2903 - val_mask_loss: 0.0381 - val_edge_loss: 0.3984 - val_mask_mean_iou: 0.7531 - val_mask_dsc: 0.9502 - val_mask_tversky: 0.9619 - val_mask_tversky_b: 0.9619 - val_mask_acc: 0.9560 - val_edge_mean_iou: 0.3147 - val_edge_dsc: 0.5339 - val_edge_tversky: 0.6016 - val_edge_tversky_b: 0.6018 - val_edge_acc: 0.9067\n",
      "Epoch 19/200\n",
      "125/125 [==============================] - ETA: 0s - loss: 0.2634 - mask_loss: 0.0397 - edge_loss: 0.3593 - mask_mean_iou: 0.7324 - mask_dsc: 0.9499 - mask_tversky: 0.9603 - mask_tversky_b: 0.9604 - mask_acc: 0.9623 - edge_mean_iou: 0.3226 - edge_dsc: 0.5589 - edge_tversky: 0.6407 - edge_tversky_b: 0.6408 - edge_acc: 0.9258\n",
      "Epoch 00019: val_loss did not improve from 0.27957\n",
      "125/125 [==============================] - 27s 207ms/step - loss: 0.2634 - mask_loss: 0.0397 - edge_loss: 0.3593 - mask_mean_iou: 0.7324 - mask_dsc: 0.9499 - mask_tversky: 0.9603 - mask_tversky_b: 0.9604 - mask_acc: 0.9623 - edge_mean_iou: 0.3226 - edge_dsc: 0.5589 - edge_tversky: 0.6407 - edge_tversky_b: 0.6408 - edge_acc: 0.9258 - val_loss: 0.2934 - val_mask_loss: 0.0808 - val_edge_loss: 0.3844 - val_mask_mean_iou: 0.7557 - val_mask_dsc: 0.8877 - val_mask_tversky: 0.9192 - val_mask_tversky_b: 0.9209 - val_mask_acc: 0.9020 - val_edge_mean_iou: 0.3325 - val_edge_dsc: 0.5543 - val_edge_tversky: 0.6156 - val_edge_tversky_b: 0.6157 - val_edge_acc: 0.9148\n",
      "Epoch 20/200\n",
      "125/125 [==============================] - ETA: 0s - loss: 0.2676 - mask_loss: 0.0430 - edge_loss: 0.3639 - mask_mean_iou: 0.7170 - mask_dsc: 0.9471 - mask_tversky: 0.9570 - mask_tversky_b: 0.9571 - mask_acc: 0.9609 - edge_mean_iou: 0.3149 - edge_dsc: 0.5565 - edge_tversky: 0.6361 - edge_tversky_b: 0.6362 - edge_acc: 0.9280\n",
      "Epoch 00020: val_loss did not improve from 0.27957\n",
      "125/125 [==============================] - 28s 214ms/step - loss: 0.2676 - mask_loss: 0.0430 - edge_loss: 0.3639 - mask_mean_iou: 0.7170 - mask_dsc: 0.9471 - mask_tversky: 0.9570 - mask_tversky_b: 0.9571 - mask_acc: 0.9609 - edge_mean_iou: 0.3149 - edge_dsc: 0.5565 - edge_tversky: 0.6361 - edge_tversky_b: 0.6362 - edge_acc: 0.9280 - val_loss: 0.2860 - val_mask_loss: 0.0359 - val_edge_loss: 0.3931 - val_mask_mean_iou: 0.7615 - val_mask_dsc: 0.9546 - val_mask_tversky: 0.9641 - val_mask_tversky_b: 0.9642 - val_mask_acc: 0.9601 - val_edge_mean_iou: 0.3285 - val_edge_dsc: 0.5466 - val_edge_tversky: 0.6069 - val_edge_tversky_b: 0.6070 - val_edge_acc: 0.9135\n",
      "Epoch 21/200\n",
      "125/125 [==============================] - ETA: 0s - loss: 0.2677 - mask_loss: 0.0391 - edge_loss: 0.3657 - mask_mean_iou: 0.7456 - mask_dsc: 0.9514 - mask_tversky: 0.9609 - mask_tversky_b: 0.9610 - mask_acc: 0.9630 - edge_mean_iou: 0.3233 - edge_dsc: 0.5533 - edge_tversky: 0.6343 - edge_tversky_b: 0.6346 - edge_acc: 0.9260\n",
      "Epoch 00021: val_loss did not improve from 0.27957\n",
      "125/125 [==============================] - 27s 208ms/step - loss: 0.2677 - mask_loss: 0.0391 - edge_loss: 0.3657 - mask_mean_iou: 0.7456 - mask_dsc: 0.9514 - mask_tversky: 0.9609 - mask_tversky_b: 0.9610 - mask_acc: 0.9630 - edge_mean_iou: 0.3233 - edge_dsc: 0.5533 - edge_tversky: 0.6343 - edge_tversky_b: 0.6346 - edge_acc: 0.9260 - val_loss: 0.2816 - val_mask_loss: 0.0377 - val_edge_loss: 0.3861 - val_mask_mean_iou: 0.7576 - val_mask_dsc: 0.9527 - val_mask_tversky: 0.9623 - val_mask_tversky_b: 0.9624 - val_mask_acc: 0.9581 - val_edge_mean_iou: 0.3229 - val_edge_dsc: 0.5433 - val_edge_tversky: 0.6139 - val_edge_tversky_b: 0.6140 - val_edge_acc: 0.9077\n",
      "Epoch 22/200\n",
      "125/125 [==============================] - ETA: 0s - loss: 0.2684 - mask_loss: 0.0375 - edge_loss: 0.3674 - mask_mean_iou: 0.7361 - mask_dsc: 0.9523 - mask_tversky: 0.9625 - mask_tversky_b: 0.9626 - mask_acc: 0.9632 - edge_mean_iou: 0.3189 - edge_dsc: 0.5533 - edge_tversky: 0.6326 - edge_tversky_b: 0.6328 - edge_acc: 0.9261\n",
      "Epoch 00022: val_loss did not improve from 0.27957\n",
      "125/125 [==============================] - 28s 214ms/step - loss: 0.2684 - mask_loss: 0.0375 - edge_loss: 0.3674 - mask_mean_iou: 0.7361 - mask_dsc: 0.9523 - mask_tversky: 0.9625 - mask_tversky_b: 0.9626 - mask_acc: 0.9632 - edge_mean_iou: 0.3189 - edge_dsc: 0.5533 - edge_tversky: 0.6326 - edge_tversky_b: 0.6328 - edge_acc: 0.9261 - val_loss: 0.3012 - val_mask_loss: 0.0379 - val_edge_loss: 0.4141 - val_mask_mean_iou: 0.7549 - val_mask_dsc: 0.9502 - val_mask_tversky: 0.9621 - val_mask_tversky_b: 0.9622 - val_mask_acc: 0.9560 - val_edge_mean_iou: 0.3114 - val_edge_dsc: 0.5300 - val_edge_tversky: 0.5859 - val_edge_tversky_b: 0.5861 - val_edge_acc: 0.9114\n",
      "Epoch 23/200\n",
      "125/125 [==============================] - ETA: 0s - loss: 0.2670 - mask_loss: 0.0398 - edge_loss: 0.3644 - mask_mean_iou: 0.7188 - mask_dsc: 0.9496 - mask_tversky: 0.9602 - mask_tversky_b: 0.9604 - mask_acc: 0.9622 - edge_mean_iou: 0.3140 - edge_dsc: 0.5533 - edge_tversky: 0.6356 - edge_tversky_b: 0.6358 - edge_acc: 0.9263\n",
      "Epoch 00023: val_loss did not improve from 0.27957\n",
      "125/125 [==============================] - 28s 213ms/step - loss: 0.2670 - mask_loss: 0.0398 - edge_loss: 0.3644 - mask_mean_iou: 0.7188 - mask_dsc: 0.9496 - mask_tversky: 0.9602 - mask_tversky_b: 0.9604 - mask_acc: 0.9622 - edge_mean_iou: 0.3140 - edge_dsc: 0.5533 - edge_tversky: 0.6356 - edge_tversky_b: 0.6358 - edge_acc: 0.9263 - val_loss: 0.2957 - val_mask_loss: 0.0565 - val_edge_loss: 0.3983 - val_mask_mean_iou: 0.7009 - val_mask_dsc: 0.9123 - val_mask_tversky: 0.9435 - val_mask_tversky_b: 0.9438 - val_mask_acc: 0.9183 - val_edge_mean_iou: 0.3061 - val_edge_dsc: 0.5217 - val_edge_tversky: 0.6017 - val_edge_tversky_b: 0.6019 - val_edge_acc: 0.8969\n",
      "Epoch 24/200\n",
      "125/125 [==============================] - ETA: 0s - loss: 0.2652 - mask_loss: 0.0400 - edge_loss: 0.3617 - mask_mean_iou: 0.7318 - mask_dsc: 0.9501 - mask_tversky: 0.9600 - mask_tversky_b: 0.9601 - mask_acc: 0.9620 - edge_mean_iou: 0.3171 - edge_dsc: 0.5561 - edge_tversky: 0.6383 - edge_tversky_b: 0.6384 - edge_acc: 0.9257\n",
      "Epoch 00024: val_loss did not improve from 0.27957\n",
      "125/125 [==============================] - 27s 207ms/step - loss: 0.2652 - mask_loss: 0.0400 - edge_loss: 0.3617 - mask_mean_iou: 0.7318 - mask_dsc: 0.9501 - mask_tversky: 0.9600 - mask_tversky_b: 0.9601 - mask_acc: 0.9620 - edge_mean_iou: 0.3171 - edge_dsc: 0.5561 - edge_tversky: 0.6383 - edge_tversky_b: 0.6384 - edge_acc: 0.9257 - val_loss: 0.2929 - val_mask_loss: 0.0385 - val_edge_loss: 0.4020 - val_mask_mean_iou: 0.7556 - val_mask_dsc: 0.9505 - val_mask_tversky: 0.9615 - val_mask_tversky_b: 0.9616 - val_mask_acc: 0.9563 - val_edge_mean_iou: 0.3170 - val_edge_dsc: 0.5356 - val_edge_tversky: 0.5980 - val_edge_tversky_b: 0.5982 - val_edge_acc: 0.9098\n",
      "Epoch 25/200\n",
      "125/125 [==============================] - ETA: 0s - loss: 0.2685 - mask_loss: 0.0382 - edge_loss: 0.3672 - mask_mean_iou: 0.7350 - mask_dsc: 0.9519 - mask_tversky: 0.9618 - mask_tversky_b: 0.9619 - mask_acc: 0.9628 - edge_mean_iou: 0.3188 - edge_dsc: 0.5511 - edge_tversky: 0.6328 - edge_tversky_b: 0.6330 - edge_acc: 0.9249\n",
      "Epoch 00025: val_loss did not improve from 0.27957\n",
      "125/125 [==============================] - 28s 213ms/step - loss: 0.2685 - mask_loss: 0.0382 - edge_loss: 0.3672 - mask_mean_iou: 0.7350 - mask_dsc: 0.9519 - mask_tversky: 0.9618 - mask_tversky_b: 0.9619 - mask_acc: 0.9628 - edge_mean_iou: 0.3188 - edge_dsc: 0.5511 - edge_tversky: 0.6328 - edge_tversky_b: 0.6330 - edge_acc: 0.9249 - val_loss: 0.2948 - val_mask_loss: 0.0457 - val_edge_loss: 0.4015 - val_mask_mean_iou: 0.7581 - val_mask_dsc: 0.9520 - val_mask_tversky: 0.9543 - val_mask_tversky_b: 0.9544 - val_mask_acc: 0.9588 - val_edge_mean_iou: 0.3212 - val_edge_dsc: 0.5421 - val_edge_tversky: 0.5985 - val_edge_tversky_b: 0.5987 - val_edge_acc: 0.9140\n",
      "Epoch 26/200\n",
      "125/125 [==============================] - ETA: 0s - loss: 0.2657 - mask_loss: 0.0397 - edge_loss: 0.3626 - mask_mean_iou: 0.7241 - mask_dsc: 0.9516 - mask_tversky: 0.9603 - mask_tversky_b: 0.9604 - mask_acc: 0.9633 - edge_mean_iou: 0.3178 - edge_dsc: 0.5587 - edge_tversky: 0.6374 - edge_tversky_b: 0.6375 - edge_acc: 0.9284\n",
      "Epoch 00026: val_loss did not improve from 0.27957\n",
      "125/125 [==============================] - 28s 219ms/step - loss: 0.2657 - mask_loss: 0.0397 - edge_loss: 0.3626 - mask_mean_iou: 0.7241 - mask_dsc: 0.9516 - mask_tversky: 0.9603 - mask_tversky_b: 0.9604 - mask_acc: 0.9633 - edge_mean_iou: 0.3178 - edge_dsc: 0.5587 - edge_tversky: 0.6374 - edge_tversky_b: 0.6375 - edge_acc: 0.9284 - val_loss: 0.2875 - val_mask_loss: 0.0388 - val_edge_loss: 0.3940 - val_mask_mean_iou: 0.7652 - val_mask_dsc: 0.9569 - val_mask_tversky: 0.9612 - val_mask_tversky_b: 0.9613 - val_mask_acc: 0.9626 - val_edge_mean_iou: 0.3249 - val_edge_dsc: 0.5445 - val_edge_tversky: 0.6060 - val_edge_tversky_b: 0.6061 - val_edge_acc: 0.9124\n",
      "Epoch 27/200\n",
      "125/125 [==============================] - ETA: 0s - loss: 0.2650 - mask_loss: 0.0393 - edge_loss: 0.3617 - mask_mean_iou: 0.7490 - mask_dsc: 0.9506 - mask_tversky: 0.9607 - mask_tversky_b: 0.9608 - mask_acc: 0.9607 - edge_mean_iou: 0.3262 - edge_dsc: 0.5572 - edge_tversky: 0.6383 - edge_tversky_b: 0.6385 - edge_acc: 0.9239\n",
      "Epoch 00027: val_loss did not improve from 0.27957\n",
      "125/125 [==============================] - 28s 214ms/step - loss: 0.2650 - mask_loss: 0.0393 - edge_loss: 0.3617 - mask_mean_iou: 0.7490 - mask_dsc: 0.9506 - mask_tversky: 0.9607 - mask_tversky_b: 0.9608 - mask_acc: 0.9607 - edge_mean_iou: 0.3262 - edge_dsc: 0.5572 - edge_tversky: 0.6383 - edge_tversky_b: 0.6385 - edge_acc: 0.9239 - val_loss: 0.2894 - val_mask_loss: 0.0364 - val_edge_loss: 0.3978 - val_mask_mean_iou: 0.7644 - val_mask_dsc: 0.9559 - val_mask_tversky: 0.9636 - val_mask_tversky_b: 0.9637 - val_mask_acc: 0.9617 - val_edge_mean_iou: 0.3234 - val_edge_dsc: 0.5431 - val_edge_tversky: 0.6022 - val_edge_tversky_b: 0.6023 - val_edge_acc: 0.9130\n",
      "Epoch 28/200\n",
      "125/125 [==============================] - ETA: 0s - loss: 0.2620 - mask_loss: 0.0399 - edge_loss: 0.3571 - mask_mean_iou: 0.7422 - mask_dsc: 0.9504 - mask_tversky: 0.9601 - mask_tversky_b: 0.9602 - mask_acc: 0.9614 - edge_mean_iou: 0.3267 - edge_dsc: 0.5615 - edge_tversky: 0.6429 - edge_tversky_b: 0.6430 - edge_acc: 0.9263\n",
      "Epoch 00028: val_loss did not improve from 0.27957\n",
      "125/125 [==============================] - 28s 219ms/step - loss: 0.2620 - mask_loss: 0.0399 - edge_loss: 0.3571 - mask_mean_iou: 0.7422 - mask_dsc: 0.9504 - mask_tversky: 0.9601 - mask_tversky_b: 0.9602 - mask_acc: 0.9614 - edge_mean_iou: 0.3267 - edge_dsc: 0.5615 - edge_tversky: 0.6429 - edge_tversky_b: 0.6430 - edge_acc: 0.9263 - val_loss: 0.2822 - val_mask_loss: 0.0390 - val_edge_loss: 0.3865 - val_mask_mean_iou: 0.7662 - val_mask_dsc: 0.9570 - val_mask_tversky: 0.9610 - val_mask_tversky_b: 0.9611 - val_mask_acc: 0.9627 - val_edge_mean_iou: 0.3311 - val_edge_dsc: 0.5539 - val_edge_tversky: 0.6135 - val_edge_tversky_b: 0.6137 - val_edge_acc: 0.9152\n",
      "Epoch 29/200\n",
      "125/125 [==============================] - ETA: 0s - loss: 0.2632 - mask_loss: 0.0386 - edge_loss: 0.3595 - mask_mean_iou: 0.7443 - mask_dsc: 0.9521 - mask_tversky: 0.9614 - mask_tversky_b: 0.9616 - mask_acc: 0.9633 - edge_mean_iou: 0.3252 - edge_dsc: 0.5583 - edge_tversky: 0.6405 - edge_tversky_b: 0.6407 - edge_acc: 0.9258\n",
      "Epoch 00029: val_loss did not improve from 0.27957\n",
      "125/125 [==============================] - 27s 209ms/step - loss: 0.2632 - mask_loss: 0.0386 - edge_loss: 0.3595 - mask_mean_iou: 0.7443 - mask_dsc: 0.9521 - mask_tversky: 0.9614 - mask_tversky_b: 0.9616 - mask_acc: 0.9633 - edge_mean_iou: 0.3252 - edge_dsc: 0.5583 - edge_tversky: 0.6405 - edge_tversky_b: 0.6407 - edge_acc: 0.9258 - val_loss: 0.3098 - val_mask_loss: 0.0721 - val_edge_loss: 0.4117 - val_mask_mean_iou: 0.6683 - val_mask_dsc: 0.8879 - val_mask_tversky: 0.9279 - val_mask_tversky_b: 0.9279 - val_mask_acc: 0.8933 - val_edge_mean_iou: 0.2969 - val_edge_dsc: 0.5120 - val_edge_tversky: 0.5883 - val_edge_tversky_b: 0.5885 - val_edge_acc: 0.8964\n",
      "Epoch 30/200\n",
      "125/125 [==============================] - ETA: 0s - loss: 0.2631 - mask_loss: 0.0367 - edge_loss: 0.3601 - mask_mean_iou: 0.7275 - mask_dsc: 0.9528 - mask_tversky: 0.9633 - mask_tversky_b: 0.9634 - mask_acc: 0.9634 - edge_mean_iou: 0.3176 - edge_dsc: 0.5584 - edge_tversky: 0.6399 - edge_tversky_b: 0.6401 - edge_acc: 0.9268\n",
      "Epoch 00030: val_loss did not improve from 0.27957\n",
      "125/125 [==============================] - 28s 215ms/step - loss: 0.2631 - mask_loss: 0.0367 - edge_loss: 0.3601 - mask_mean_iou: 0.7275 - mask_dsc: 0.9528 - mask_tversky: 0.9633 - mask_tversky_b: 0.9634 - mask_acc: 0.9634 - edge_mean_iou: 0.3176 - edge_dsc: 0.5584 - edge_tversky: 0.6399 - edge_tversky_b: 0.6401 - edge_acc: 0.9268 - val_loss: 0.2823 - val_mask_loss: 0.0365 - val_edge_loss: 0.3876 - val_mask_mean_iou: 0.7627 - val_mask_dsc: 0.9555 - val_mask_tversky: 0.9635 - val_mask_tversky_b: 0.9635 - val_mask_acc: 0.9610 - val_edge_mean_iou: 0.3271 - val_edge_dsc: 0.5467 - val_edge_tversky: 0.6124 - val_edge_tversky_b: 0.6125 - val_edge_acc: 0.9110\n",
      "Epoch 31/200\n",
      "125/125 [==============================] - ETA: 0s - loss: 0.2624 - mask_loss: 0.0395 - edge_loss: 0.3579 - mask_mean_iou: 0.7453 - mask_dsc: 0.9504 - mask_tversky: 0.9605 - mask_tversky_b: 0.9606 - mask_acc: 0.9609 - edge_mean_iou: 0.3276 - edge_dsc: 0.5598 - edge_tversky: 0.6421 - edge_tversky_b: 0.6423 - edge_acc: 0.9247\n",
      "Epoch 00031: val_loss did not improve from 0.27957\n",
      "125/125 [==============================] - 27s 211ms/step - loss: 0.2624 - mask_loss: 0.0395 - edge_loss: 0.3579 - mask_mean_iou: 0.7453 - mask_dsc: 0.9504 - mask_tversky: 0.9605 - mask_tversky_b: 0.9606 - mask_acc: 0.9609 - edge_mean_iou: 0.3276 - edge_dsc: 0.5598 - edge_tversky: 0.6421 - edge_tversky_b: 0.6423 - edge_acc: 0.9247 - val_loss: 0.2802 - val_mask_loss: 0.0354 - val_edge_loss: 0.3852 - val_mask_mean_iou: 0.7602 - val_mask_dsc: 0.9529 - val_mask_tversky: 0.9646 - val_mask_tversky_b: 0.9647 - val_mask_acc: 0.9586 - val_edge_mean_iou: 0.3296 - val_edge_dsc: 0.5505 - val_edge_tversky: 0.6148 - val_edge_tversky_b: 0.6150 - val_edge_acc: 0.9125\n",
      "Epoch 32/200\n",
      "125/125 [==============================] - ETA: 0s - loss: 0.2665 - mask_loss: 0.0379 - edge_loss: 0.3645 - mask_mean_iou: 0.7353 - mask_dsc: 0.9526 - mask_tversky: 0.9621 - mask_tversky_b: 0.9622 - mask_acc: 0.9628 - edge_mean_iou: 0.3188 - edge_dsc: 0.5543 - edge_tversky: 0.6355 - edge_tversky_b: 0.6356 - edge_acc: 0.9254\n",
      "Epoch 00032: val_loss did not improve from 0.27957\n",
      "125/125 [==============================] - 27s 210ms/step - loss: 0.2665 - mask_loss: 0.0379 - edge_loss: 0.3645 - mask_mean_iou: 0.7353 - mask_dsc: 0.9526 - mask_tversky: 0.9621 - mask_tversky_b: 0.9622 - mask_acc: 0.9628 - edge_mean_iou: 0.3188 - edge_dsc: 0.5543 - edge_tversky: 0.6355 - edge_tversky_b: 0.6356 - edge_acc: 0.9254 - val_loss: 0.2895 - val_mask_loss: 0.0371 - val_edge_loss: 0.3977 - val_mask_mean_iou: 0.7520 - val_mask_dsc: 0.9471 - val_mask_tversky: 0.9629 - val_mask_tversky_b: 0.9630 - val_mask_acc: 0.9537 - val_edge_mean_iou: 0.3179 - val_edge_dsc: 0.5370 - val_edge_tversky: 0.6023 - val_edge_tversky_b: 0.6024 - val_edge_acc: 0.9090\n",
      "Epoch 33/200\n",
      "125/125 [==============================] - ETA: 0s - loss: 0.2667 - mask_loss: 0.0375 - edge_loss: 0.3649 - mask_mean_iou: 0.7418 - mask_dsc: 0.9524 - mask_tversky: 0.9625 - mask_tversky_b: 0.9626 - mask_acc: 0.9627 - edge_mean_iou: 0.3198 - edge_dsc: 0.5544 - edge_tversky: 0.6351 - edge_tversky_b: 0.6352 - edge_acc: 0.9252\n",
      "Epoch 00033: val_loss did not improve from 0.27957\n",
      "125/125 [==============================] - 28s 219ms/step - loss: 0.2667 - mask_loss: 0.0375 - edge_loss: 0.3649 - mask_mean_iou: 0.7418 - mask_dsc: 0.9524 - mask_tversky: 0.9625 - mask_tversky_b: 0.9626 - mask_acc: 0.9627 - edge_mean_iou: 0.3198 - edge_dsc: 0.5544 - edge_tversky: 0.6351 - edge_tversky_b: 0.6352 - edge_acc: 0.9252 - val_loss: 0.2866 - val_mask_loss: 0.0362 - val_edge_loss: 0.3939 - val_mask_mean_iou: 0.7629 - val_mask_dsc: 0.9550 - val_mask_tversky: 0.9638 - val_mask_tversky_b: 0.9638 - val_mask_acc: 0.9607 - val_edge_mean_iou: 0.3237 - val_edge_dsc: 0.5425 - val_edge_tversky: 0.6061 - val_edge_tversky_b: 0.6062 - val_edge_acc: 0.9109\n",
      "Epoch 34/200\n",
      "125/125 [==============================] - ETA: 0s - loss: 0.2706 - mask_loss: 0.0457 - edge_loss: 0.3669 - mask_mean_iou: 0.7161 - mask_dsc: 0.9446 - mask_tversky: 0.9543 - mask_tversky_b: 0.9544 - mask_acc: 0.9576 - edge_mean_iou: 0.3124 - edge_dsc: 0.5523 - edge_tversky: 0.6331 - edge_tversky_b: 0.6331 - edge_acc: 0.9257\n",
      "Epoch 00034: val_loss did not improve from 0.27957\n",
      "125/125 [==============================] - 28s 214ms/step - loss: 0.2706 - mask_loss: 0.0457 - edge_loss: 0.3669 - mask_mean_iou: 0.7161 - mask_dsc: 0.9446 - mask_tversky: 0.9543 - mask_tversky_b: 0.9544 - mask_acc: 0.9576 - edge_mean_iou: 0.3124 - edge_dsc: 0.5523 - edge_tversky: 0.6331 - edge_tversky_b: 0.6331 - edge_acc: 0.9257 - val_loss: 0.2847 - val_mask_loss: 0.0357 - val_edge_loss: 0.3913 - val_mask_mean_iou: 0.7627 - val_mask_dsc: 0.9554 - val_mask_tversky: 0.9643 - val_mask_tversky_b: 0.9644 - val_mask_acc: 0.9607 - val_edge_mean_iou: 0.3264 - val_edge_dsc: 0.5465 - val_edge_tversky: 0.6087 - val_edge_tversky_b: 0.6088 - val_edge_acc: 0.9125\n",
      "Epoch 35/200\n",
      "125/125 [==============================] - ETA: 0s - loss: 0.2665 - mask_loss: 0.0442 - edge_loss: 0.3618 - mask_mean_iou: 0.7384 - mask_dsc: 0.9451 - mask_tversky: 0.9558 - mask_tversky_b: 0.9558 - mask_acc: 0.9595 - edge_mean_iou: 0.3278 - edge_dsc: 0.5567 - edge_tversky: 0.6382 - edge_tversky_b: 0.6383 - edge_acc: 0.9271\n",
      "Epoch 00035: val_loss improved from 0.27957 to 0.27383, saving model to models/RBC_BinaryCrossentropy_data2_data2_60_data_data_200_03_07__1654386321.7190397_adv_best.h5\n",
      "125/125 [==============================] - 28s 218ms/step - loss: 0.2665 - mask_loss: 0.0442 - edge_loss: 0.3618 - mask_mean_iou: 0.7384 - mask_dsc: 0.9451 - mask_tversky: 0.9558 - mask_tversky_b: 0.9558 - mask_acc: 0.9595 - edge_mean_iou: 0.3278 - edge_dsc: 0.5567 - edge_tversky: 0.6382 - edge_tversky_b: 0.6383 - edge_acc: 0.9271 - val_loss: 0.2738 - val_mask_loss: 0.0337 - val_edge_loss: 0.3767 - val_mask_mean_iou: 0.7703 - val_mask_dsc: 0.9598 - val_mask_tversky: 0.9663 - val_mask_tversky_b: 0.9664 - val_mask_acc: 0.9649 - val_edge_mean_iou: 0.3344 - val_edge_dsc: 0.5552 - val_edge_tversky: 0.6233 - val_edge_tversky_b: 0.6234 - val_edge_acc: 0.9119\n",
      "Epoch 36/200\n",
      "109/125 [=========================>....] - ETA: 2s - loss: 0.2677 - mask_loss: 0.0376 - edge_loss: 0.3663 - mask_mean_iou: 0.7414 - mask_dsc: 0.9520 - mask_tversky: 0.9624 - mask_tversky_b: 0.9624 - mask_acc: 0.9622 - edge_mean_iou: 0.3197 - edge_dsc: 0.5512 - edge_tversky: 0.6337 - edge_tversky_b: 0.6338 - edge_acc: 0.9228"
     ]
    }
   ],
   "source": [
    "if Train:\n",
    "    _model_name_new = _model_name + \"_data_data_200_03_07__\" + str(time.time()) + \"_adv\"\n",
    "    try:\n",
    "        os.remove(f\"models/{_model_name}_best.h5\")\n",
    "        os.remove(f\"models/{_model_name}_all.h5\")\n",
    "    except:\n",
    "        pass\n",
    "    \n",
    "    history = unet.fit(train_gen, \n",
    "            epochs=_epochs, \n",
    "            validation_data=test_gen, \n",
    "            steps_per_epoch=train_steps,\n",
    "            max_queue_size=2*_workers,\n",
    "            use_multiprocessing=True,\n",
    "            workers=_workers,\n",
    "            verbose=1,\n",
    "            callbacks=model.get_callbacks(_model_name_new))\n",
    "    \n",
    "    unet.save(f'./models/{_model_name_new}',save_format='tf')"
   ]
  },
  {
   "cell_type": "markdown",
   "metadata": {},
   "source": [
    "- save the training log "
   ]
  },
  {
   "cell_type": "code",
   "execution_count": null,
   "metadata": {},
   "outputs": [],
   "source": [
    "#save the training log into a file\n",
    "import json\n",
    "my_dict = {'a':11,'b':22,'c':33}\n",
    "with open(f\"models/{_model_name}_log.json\", \"a+\") as fp:\n",
    "    json.dump(history.history,fp)\n",
    "\n",
    "# Opening JSON file\n",
    "with open(f\"models/{_model_name}_log.json\") as fp:\n",
    "    # returns JSON object as\n",
    "    # a dictionary\n",
    "    loaded_hist = json.load(fp)\n"
   ]
  },
  {
   "cell_type": "markdown",
   "metadata": {},
   "source": [
    "- evaluate model after training"
   ]
  },
  {
   "cell_type": "code",
   "execution_count": null,
   "metadata": {},
   "outputs": [],
   "source": [
    "old_database = database\n",
    "database = \"data\"\n",
    "\n",
    "test_img_tile_files = sorted(glob.glob(f'{database}/test/tiles/*.jpg'))\n",
    "test_mask_tile_label_files = sorted(glob.glob(f'{database}/test/mask/tiles/*.jpg'))\n",
    "test_edge_tile_label_files = sorted(glob.glob(f'{database}/test/edge/tiles/*.jpg'))\n",
    "\n",
    "old_test_gen = test_gen\n",
    "test_gen = DataGenerator(test_img_tile_files, test_mask_tile_label_files, test_edge_tile_label_files, _batch_size, skip_empty = False, augment=False)\n",
    "\n",
    "unet.evaluate(test_gen)\n",
    "\n",
    "database = old_database\n",
    "test_gen = old_test_gen"
   ]
  },
  {
   "cell_type": "code",
   "execution_count": null,
   "metadata": {},
   "outputs": [],
   "source": [
    "\n",
    "images, (masks, edges) = train_gen.__getitem__(165)\n",
    "\n",
    "#data.plot_ime(images, masks, edges)\n",
    "\n",
    "prediction = unet.predict(images)\n",
    "\n",
    "#prediction = np.squeeze(prediction)\n",
    "\n",
    "data.plot_ime(images, prediction[0], prediction[1])"
   ]
  },
  {
   "cell_type": "code",
   "execution_count": 16,
   "metadata": {
    "execution": {
     "iopub.execute_input": "2022-06-04T23:10:32.194369Z",
     "iopub.status.busy": "2022-06-04T23:10:32.194112Z",
     "iopub.status.idle": "2022-06-04T23:10:32.402104Z",
     "shell.execute_reply": "2022-06-04T23:10:32.400399Z",
     "shell.execute_reply.started": "2022-06-04T23:10:32.194342Z"
    }
   },
   "outputs": [
    {
     "ename": "NameError",
     "evalue": "name 'img' is not defined",
     "output_type": "error",
     "traceback": [
      "\u001b[0;31m---------------------------------------------------------------------------\u001b[0m",
      "\u001b[0;31mNameError\u001b[0m                                 Traceback (most recent call last)",
      "\u001b[0;32m/tmp/ipykernel_107/2617079263.py\u001b[0m in \u001b[0;36m<module>\u001b[0;34m\u001b[0m\n\u001b[1;32m      4\u001b[0m \u001b[0max\u001b[0m \u001b[0;34m=\u001b[0m \u001b[0mfig\u001b[0m\u001b[0;34m.\u001b[0m\u001b[0madd_subplot\u001b[0m\u001b[0;34m(\u001b[0m\u001b[0;36m2\u001b[0m\u001b[0;34m,\u001b[0m \u001b[0;36m4\u001b[0m\u001b[0;34m,\u001b[0m \u001b[0mfig_num\u001b[0m\u001b[0;34m)\u001b[0m\u001b[0;34m\u001b[0m\u001b[0;34m\u001b[0m\u001b[0m\n\u001b[1;32m      5\u001b[0m \u001b[0max\u001b[0m\u001b[0;34m.\u001b[0m\u001b[0mset_title\u001b[0m\u001b[0;34m(\u001b[0m\u001b[0;34m\"original image\"\u001b[0m\u001b[0;34m)\u001b[0m\u001b[0;34m\u001b[0m\u001b[0;34m\u001b[0m\u001b[0m\n\u001b[0;32m----> 6\u001b[0;31m \u001b[0max\u001b[0m\u001b[0;34m.\u001b[0m\u001b[0mimshow\u001b[0m\u001b[0;34m(\u001b[0m\u001b[0mimg\u001b[0m\u001b[0;34m[\u001b[0m\u001b[0;36m0\u001b[0m\u001b[0;34m]\u001b[0m\u001b[0;34m)\u001b[0m\u001b[0;34m\u001b[0m\u001b[0;34m\u001b[0m\u001b[0m\n\u001b[0m\u001b[1;32m      7\u001b[0m \u001b[0mfig_num\u001b[0m \u001b[0;34m=\u001b[0m \u001b[0mfig_num\u001b[0m \u001b[0;34m+\u001b[0m \u001b[0;36m1\u001b[0m\u001b[0;34m\u001b[0m\u001b[0;34m\u001b[0m\u001b[0m\n\u001b[1;32m      8\u001b[0m \u001b[0max\u001b[0m \u001b[0;34m=\u001b[0m \u001b[0mfig\u001b[0m\u001b[0;34m.\u001b[0m\u001b[0madd_subplot\u001b[0m\u001b[0;34m(\u001b[0m\u001b[0;36m2\u001b[0m\u001b[0;34m,\u001b[0m \u001b[0;36m4\u001b[0m\u001b[0;34m,\u001b[0m \u001b[0mfig_num\u001b[0m\u001b[0;34m)\u001b[0m\u001b[0;34m\u001b[0m\u001b[0;34m\u001b[0m\u001b[0m\n",
      "\u001b[0;31mNameError\u001b[0m: name 'img' is not defined"
     ]
    },
    {
     "data": {
      "image/png": "[encoded data removed]",
      "text/plain": [
       "<Figure size 1200x800 with 1 Axes>"
      ]
     },
     "metadata": {
      "needs_background": "light"
     },
     "output_type": "display_data"
    }
   ],
   "source": [
    "fig = plt.figure(figsize=(15, 10), dpi=80)\n",
    "fig.subplots_adjust(hspace=0.3, wspace=0.3)\n",
    "fig_num = 1\n",
    "ax = fig.add_subplot(2, 4, fig_num)\n",
    "ax.set_title(\"original image\")\n",
    "ax.imshow(img[0])\n",
    "fig_num = fig_num + 1\n",
    "ax = fig.add_subplot(2, 4, fig_num)\n",
    "ax.set_title(\"original mask\")\n",
    "ax.imshow(mask)\n",
    "fig_num = fig_num + 1\n",
    "ax = fig.add_subplot(2, 4, fig_num)\n",
    "ax.set_title(\" original edge mask\")\n",
    "ax.imshow(edge)\n",
    "fig_num = fig_num + 1\n",
    "ax = fig.add_subplot(2, 4, fig_num)\n",
    "ax.set_title(\" substraction\")\n",
    "ax.imshow((mask - edge) > 0)\n",
    "\n",
    "\n",
    "fig_num = fig_num + 2\n",
    "ax = fig.add_subplot(2, 4, fig_num)\n",
    "ax.set_title(\"out_mask\")\n",
    "ax.imshow(prediction[0])\n",
    "fig_num = fig_num + 1\n",
    "ax = fig.add_subplot(2, 4, fig_num)\n",
    "ax.set_title(\"out_edge\")\n",
    "ax.imshow(prediction[1])\n",
    "fig_num = fig_num + 1\n",
    "ax = fig.add_subplot(2, 4, fig_num)\n",
    "ax.set_title(\"substraction\")\n",
    "ax.imshow((prediction[0] - prediction[1]) > 0)\n",
    "\n",
    "\n"
   ]
  },
  {
   "cell_type": "markdown",
   "metadata": {},
   "source": [
    "- predict full image"
   ]
  },
  {
   "cell_type": "code",
   "execution_count": null,
   "metadata": {},
   "outputs": [],
   "source": [
    "images, masks, edges = model.predictFullImage(unet,\n",
    "                        data.load_data_na(sorted(glob.glob(f'data/test/*.jpg'))[:20] + glob.glob(f'*.jpg'), RGB=True, clahe=True),\n",
    "                        padding=100,\n",
    "                        input_size=188,\n",
    "                        output_size=100,\n",
    "                        normalize_output = False)"
   ]
  },
  {
   "cell_type": "code",
   "execution_count": null,
   "metadata": {},
   "outputs": [],
   "source": [
    "data.plot_ime(images,\n",
    "              masks,\n",
    "              edges,\n",
    "              figSize=(25,15))"
   ]
  },
  {
   "cell_type": "markdown",
   "metadata": {},
   "source": [
    "## model training data plot"
   ]
  },
  {
   "cell_type": "code",
   "execution_count": null,
   "metadata": {},
   "outputs": [],
   "source": [
    "hist = history.history\n",
    "\n",
    "lines = 4\n",
    "columns = 3\n",
    "\n",
    "fig = plt.figure(figsize=(20, 20), dpi=80)\n",
    "fig.subplots_adjust(hspace=0.3, wspace=0.3)\n",
    "fig_num = 1\n",
    "ax = fig.add_subplot(lines, columns, fig_num)\n",
    "ax.set_title(\"mask accuracy\")\n",
    "ax.plot(hist['mask_acc'], label=\"Training\")\n",
    "ax.plot(hist['val_mask_acc'], label=\"Validation\")\n",
    "ax.legend()\n",
    "fig_num = fig_num + 1\n",
    "ax = fig.add_subplot(lines, columns, fig_num)\n",
    "ax.set_title(\"edge mask accuracy\")\n",
    "ax.plot(hist['edge_acc'], label=\"Training\")\n",
    "ax.plot(hist['val_edge_acc'], label=\"Validation\")\n",
    "ax.legend()\n",
    "fig_num = fig_num + 2\n",
    "ax = fig.add_subplot(lines, columns, fig_num)\n",
    "ax.set_title(\"mask loss\")\n",
    "ax.plot(hist['mask_loss'], label=\"Training\")\n",
    "ax.plot(hist['val_mask_loss'], label=\"Validation\")\n",
    "ax.legend()\n",
    "fig_num = fig_num + 1\n",
    "ax = fig.add_subplot(lines, columns, fig_num)\n",
    "ax.set_title(\"edge loss\")\n",
    "ax.plot(hist['edge_loss'], label=\"Training\")\n",
    "ax.plot(hist['val_edge_loss'], label=\"Validation\")\n",
    "ax.legend()\n",
    "\n",
    "fig_num = fig_num + 1\n",
    "ax = fig.add_subplot(lines, columns, fig_num)\n",
    "ax.set_title(\"global loss\")\n",
    "ax.plot(hist['loss'], label=\"Training\")\n",
    "ax.plot(hist['val_loss'], label=\"Validation\")\n",
    "ax.legend()\n",
    "\n",
    "\n",
    "fig_num = fig_num + 1\n",
    "ax = fig.add_subplot(lines, columns, fig_num)\n",
    "ax.set_title(\"mask metrics\")\n",
    "ax.plot(hist['mask_dsc'], label=\"dsc\")\n",
    "ax.plot(hist['mask_mean_iou'], label=\"mean iou\")\n",
    "ax.plot(hist['mask_tversky'], label=\"tversky\")\n",
    "ax.plot(hist['mask_acc'], label=\"accuracy\")\n",
    "\n",
    "ax.set_title(\"mask metrics\")\n",
    "ax.plot(hist['val_mask_dsc'], label=\"val_dsc\")\n",
    "ax.plot(hist['val_mask_mean_iou'], label=\"val_mean iou\")\n",
    "ax.plot(hist['val_mask_tversky'], label=\"val_tversky\")\n",
    "ax.plot(hist['val_mask_acc'], label=\"val_accuracy\")\n",
    "\n",
    "fig_num = fig_num + 1\n",
    "ax = fig.add_subplot(lines, columns, fig_num)\n",
    "ax.set_title(\"edge metrics\")\n",
    "ax.plot(hist['edge_dsc'], label=\"dsc\")\n",
    "ax.plot(hist['edge_mean_iou'], label=\"mean iou\")\n",
    "ax.plot(hist['edge_tversky'], label=\"tversky\")\n",
    "ax.plot(hist['edge_acc'], label=\"accuracy\")\n",
    "\n",
    "ax.set_title(\"edge metrics\")\n",
    "ax.plot(hist['val_edge_dsc'], label=\"val_dsc\")\n",
    "ax.plot(hist['val_edge_mean_iou'], label=\"val_mean iou\")\n",
    "ax.plot(hist['val_edge_tversky'], label=\"val_tversky\")\n",
    "ax.plot(hist['val_edge_acc'], label=\"val_accuracy\")\n",
    "ax.legend()"
   ]
  },
  {
   "cell_type": "markdown",
   "metadata": {},
   "source": [
    "## For Debugging\n",
    "- show in between layers output"
   ]
  },
  {
   "cell_type": "code",
   "execution_count": 17,
   "metadata": {},
   "outputs": [
    {
     "ename": "NameError",
     "evalue": "name 'pool1' is not defined",
     "output_type": "error",
     "traceback": [
      "\u001b[0;31m---------------------------------------------------------------------------\u001b[0m",
      "\u001b[0;31mNameError\u001b[0m                                 Traceback (most recent call last)",
      "\u001b[1;32m/home/zaxo7/WorkSpace/DEEP LEARNING/MY-U-NET/test.ipynb Cell 22'\u001b[0m in \u001b[0;36m<cell line: 3>\u001b[0;34m()\u001b[0m\n\u001b[1;32m      <a href='vscode-notebook-cell:/home/zaxo7/WorkSpace/DEEP%20LEARNING/MY-U-NET/test.ipynb#ch0000022?line=0'>1</a>\u001b[0m ind \u001b[39m=\u001b[39m np\u001b[39m.\u001b[39mrandom\u001b[39m.\u001b[39mrandint(\u001b[39m0\u001b[39m, \u001b[39m32\u001b[39m, \u001b[39m1\u001b[39m)[\u001b[39m0\u001b[39m]\n\u001b[0;32m----> <a href='vscode-notebook-cell:/home/zaxo7/WorkSpace/DEEP%20LEARNING/MY-U-NET/test.ipynb#ch0000022?line=2'>3</a>\u001b[0m _pool1 \u001b[39m=\u001b[39m pool1[:\u001b[39m-\u001b[39m\u001b[39m1\u001b[39m,:\u001b[39m-\u001b[39m\u001b[39m1\u001b[39m,ind]\n\u001b[1;32m      <a href='vscode-notebook-cell:/home/zaxo7/WorkSpace/DEEP%20LEARNING/MY-U-NET/test.ipynb#ch0000022?line=3'>4</a>\u001b[0m _pool2 \u001b[39m=\u001b[39m pool2[:\u001b[39m-\u001b[39m\u001b[39m1\u001b[39m,:\u001b[39m-\u001b[39m\u001b[39m1\u001b[39m,ind]\n\u001b[1;32m      <a href='vscode-notebook-cell:/home/zaxo7/WorkSpace/DEEP%20LEARNING/MY-U-NET/test.ipynb#ch0000022?line=4'>5</a>\u001b[0m _pool3 \u001b[39m=\u001b[39m pool3[:\u001b[39m-\u001b[39m\u001b[39m1\u001b[39m,:\u001b[39m-\u001b[39m\u001b[39m1\u001b[39m,ind]\n",
      "\u001b[0;31mNameError\u001b[0m: name 'pool1' is not defined"
     ]
    }
   ],
   "source": [
    "ind = np.random.randint(0, 32, 1)[0]\n",
    "\n",
    "_pool1 = pool1[:-1,:-1,ind]\n",
    "_pool2 = pool2[:-1,:-1,ind]\n",
    "_pool3 = pool3[:-1,:-1,ind]\n",
    "_down4 = down4[:-1,:-1,ind]\n",
    "_up1 = up1[:-1,:-1,ind]\n",
    "_up2 = up2[:-1,:-1,ind]\n",
    "_up3 = up3[:-1,:-1,ind]\n",
    "\n",
    "fig = plt.figure(figsize=(15, 10), dpi=80)\n",
    "fig.subplots_adjust(hspace=0.3, wspace=0.3)\n",
    "fig_num = 1\n",
    "ax = fig.add_subplot(3, 3, fig_num)\n",
    "ax.set_title(\"out_mask\")\n",
    "ax.imshow(out_mask)\n",
    "fig_num = fig_num + 1\n",
    "ax = fig.add_subplot(3, 3, fig_num)\n",
    "ax.set_title(\"out_edge\")\n",
    "ax.imshow(out_edge)\n",
    "fig_num = fig_num + 1\n",
    "ax = fig.add_subplot(3, 3, fig_num)\n",
    "ax.set_title(\"pool1\")\n",
    "ax.imshow(_pool1)\n",
    "fig_num = fig_num + 1\n",
    "ax = fig.add_subplot(3, 3, fig_num)\n",
    "ax.set_title(\"pool2\")\n",
    "ax.imshow(_pool2)\n",
    "fig_num = fig_num + 1\n",
    "ax = fig.add_subplot(3, 3, fig_num)\n",
    "ax.set_title(\"pool3\")\n",
    "ax.imshow(_pool3)\n",
    "fig_num = fig_num + 1\n",
    "ax = fig.add_subplot(3, 3, fig_num)\n",
    "ax.set_title(\"down4\")\n",
    "ax.imshow(_down4)\n",
    "fig_num = fig_num + 1\n",
    "ax = fig.add_subplot(3, 3, fig_num)\n",
    "ax.set_title(\"up1\")\n",
    "ax.imshow(_up1)\n",
    "fig_num = fig_num + 1\n",
    "ax = fig.add_subplot(3, 3, fig_num)\n",
    "ax.set_title(\"up2\")\n",
    "ax.imshow(_up2)\n",
    "fig_num = fig_num + 1\n",
    "ax = fig.add_subplot(3, 3, fig_num)\n",
    "ax.set_title(\"up3\")\n",
    "ax.imshow(_up3)"
   ]
  },
  {
   "cell_type": "markdown",
   "metadata": {},
   "source": [
    "- function to plot and array of images of shape (width, height, n_images)"
   ]
  },
  {
   "cell_type": "code",
   "execution_count": null,
   "metadata": {},
   "outputs": [],
   "source": [
    "def picshow(img, title):\n",
    "    num = img.shape[2]\n",
    "    imgs_per_line = 4\n",
    "    ax = num//imgs_per_line + 1\n",
    "    ay = imgs_per_line\n",
    "    fig =plt.figure(figsize=(30, num//imgs_per_line * 10))\n",
    "    fig.subplots_adjust(hspace=0.1, wspace=0.1)\n",
    "    for i in range(1,num + 1):\n",
    "        sub = fig.add_subplot(ax,ay,i)\n",
    "        sub.set_title(f\"{title} {i}\")\n",
    "        sub.imshow(img[:-1,:-1,i - 1])\n",
    "    plt.show()\n",
    "    \n",
    "\n"
   ]
  },
  {
   "cell_type": "code",
   "execution_count": null,
   "metadata": {},
   "outputs": [],
   "source": [
    "picshow(pool1, 'pool1 ')\n",
    "picshow(pool2, 'pool2 ')\n",
    "picshow(pool3, 'pool3 ')\n",
    "picshow(down4, 'down4 ')\n",
    "picshow(up1, 'up1 ')\n",
    "picshow(up2, 'up2 ')\n",
    "picshow(up3, 'up3 ')"
   ]
  }
 ],
 "metadata": {
  "interpreter": {
   "hash": "31f2aee4e71d21fbe5cf8b01ff0e069b9275f58929596ceb00d14d90e3e16cd6"
  },
  "kernelspec": {
   "display_name": "Python 3 (ipykernel)",
   "language": "python",
   "name": "python3"
  },
  "language_info": {
   "codemirror_mode": {
    "name": "ipython",
    "version": 3
   },
   "file_extension": ".py",
   "mimetype": "text/x-python",
   "name": "python",
   "nbconvert_exporter": "python",
   "pygments_lexer": "ipython3",
   "version": "3.8.10"
  }
 },
 "nbformat": 4,
 "nbformat_minor": 4
}
