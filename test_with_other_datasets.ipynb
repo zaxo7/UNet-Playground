{
 "cells": [
  {
   "cell_type": "code",
   "execution_count": null,
   "metadata": {},
   "outputs": [],
   "source": [
    "from PIL import Image\n",
    "import matplotlib.pyplot as plt\n",
    " \n",
    "\n",
    "im = Image.open(r\"test.jpg\")\n",
    "\n",
    "left = 50\n",
    "top = 50\n",
    "\n",
    "im1 = im.crop((left, top, left + 188, top + 188))\n",
    "\n",
    "data = np.asarray(im1)\n",
    "\n",
    "img_array = np.array(data)\n",
    "\n",
    "normalized_input = (img_array - np.amin(img_array)) / (np.amax(img_array) - np.amin(img_array))\n",
    "\n",
    "normalized_input = np.array([normalized_input])\n",
    "\n",
    "normalized_input = normalized_input * 2 - 1\n",
    "\n",
    "prediction = DOU_NET.model.predict(normalized_input)\n",
    "\n",
    "prediction = np.squeeze(prediction)\n",
    "\n",
    "\n",
    "fig = plt.figure(figsize=(15, 10), dpi=80)\n",
    "fig.subplots_adjust(hspace=0.1, wspace=0.1)\n",
    "ax = fig.add_subplot(2, 3, 1)\n",
    "ax.imshow(normalized_input[0])\n",
    "ax = fig.add_subplot(2, 3, 2)\n",
    "ax.imshow(prediction[0])\n",
    "ax = fig.add_subplot(2, 3, 3)\n",
    "ax.imshow(prediction[1])\n",
    "\n",
    "\n",
    "picshow(pool1, 'pool1 ')\n",
    "picshow(pool2, 'pool2 ')\n",
    "picshow(pool3, 'pool3 ')\n",
    "picshow(down4, 'down4 ')\n",
    "picshow(up1, 'up1 ')\n",
    "picshow(up2, 'up2 ')\n",
    "picshow(up3, 'up3 ')\n"
   ]
  }
 ],
 "metadata": {
  "interpreter": {
   "hash": "c475343c90b37f20c02fd3a18d45f7c3e275848f34e4c07d7554fbf081374c3b"
  },
  "kernelspec": {
   "display_name": "Python 3.8.10 ('tensorflow')",
   "language": "python",
   "name": "python3"
  },
  "language_info": {
   "codemirror_mode": {
    "name": "ipython",
    "version": 3
   },
   "file_extension": ".py",
   "mimetype": "text/x-python",
   "name": "python",
   "nbconvert_exporter": "python",
   "pygments_lexer": "ipython3",
   "version": "3.8.10"
  },
  "orig_nbformat": 4
 },
 "nbformat": 4,
 "nbformat_minor": 2
}
