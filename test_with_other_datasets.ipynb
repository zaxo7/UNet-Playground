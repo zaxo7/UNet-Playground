{
 "cells": [
  {
   "cell_type": "code",
   "execution_count": null,
   "metadata": {},
   "outputs": [],
   "source": [
    "%load_ext autoreload\n",
    "%autoreload 2\n",
    "\n",
    "import sys,os\n",
    "sys.path.append(os.getcwd() + '/scripts')"
   ]
  },
  {
   "cell_type": "code",
   "execution_count": null,
   "metadata": {},
   "outputs": [],
   "source": [
    "from scripts import model, data\n",
    "import glob\n",
    "\n",
    "unet = model.get_do_unet()\n",
    "_model_name = 'B'\n",
    "unet.load_weights(f\"models/{_model_name}_best.h5\")"
   ]
  },
  {
   "cell_type": "code",
   "execution_count": null,
   "metadata": {},
   "outputs": [],
   "source": [
    "\n",
    "\n",
    "image_files = glob.glob(\"img*.jpg\")\n",
    "\n",
    "images = data.load_data_na(image_files)\n",
    "\n",
    "images , masks, edges = model.predictFullImage(unet, images)\n",
    "\n",
    "data.plot_ime(images,\n",
    "              masks,\n",
    "              edges,\n",
    "              figSize=(25,15))\n"
   ]
  }
 ],
 "metadata": {
  "interpreter": {
   "hash": "c475343c90b37f20c02fd3a18d45f7c3e275848f34e4c07d7554fbf081374c3b"
  },
  "kernelspec": {
   "display_name": "Python 3.8.10 ('tensorflow')",
   "language": "python",
   "name": "python3"
  },
  "language_info": {
   "codemirror_mode": {
    "name": "ipython",
    "version": 3
   },
   "file_extension": ".py",
   "mimetype": "text/x-python",
   "name": "python",
   "nbconvert_exporter": "python",
   "pygments_lexer": "ipython3",
   "version": "3.8.10"
  },
  "orig_nbformat": 4
 },
 "nbformat": 4,
 "nbformat_minor": 2
}
