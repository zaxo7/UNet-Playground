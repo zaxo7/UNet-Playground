{
 "cells": [
  {
   "cell_type": "code",
   "execution_count": 2,
   "metadata": {},
   "outputs": [
    {
     "ename": "FileNotFoundError",
     "evalue": "[Errno 2] No such file or directory: 'test.jpg'",
     "output_type": "error",
     "traceback": [
      "\u001b[0;31m---------------------------------------------------------------------------\u001b[0m",
      "\u001b[0;31mFileNotFoundError\u001b[0m                         Traceback (most recent call last)",
      "\u001b[1;32m/home/zaxo7/WorkSpace/DEEP LEARNING/MY-U-NET/test_with_other_datasets.ipynb Cell 1'\u001b[0m in \u001b[0;36m<cell line: 5>\u001b[0;34m()\u001b[0m\n\u001b[1;32m      <a href='vscode-notebook-cell:/home/zaxo7/WorkSpace/DEEP%20LEARNING/MY-U-NET/test_with_other_datasets.ipynb#ch0000000?line=0'>1</a>\u001b[0m \u001b[39mfrom\u001b[39;00m \u001b[39mPIL\u001b[39;00m \u001b[39mimport\u001b[39;00m Image\n\u001b[1;32m      <a href='vscode-notebook-cell:/home/zaxo7/WorkSpace/DEEP%20LEARNING/MY-U-NET/test_with_other_datasets.ipynb#ch0000000?line=1'>2</a>\u001b[0m \u001b[39mimport\u001b[39;00m \u001b[39mmatplotlib\u001b[39;00m\u001b[39m.\u001b[39;00m\u001b[39mpyplot\u001b[39;00m \u001b[39mas\u001b[39;00m \u001b[39mplt\u001b[39;00m\n\u001b[0;32m----> <a href='vscode-notebook-cell:/home/zaxo7/WorkSpace/DEEP%20LEARNING/MY-U-NET/test_with_other_datasets.ipynb#ch0000000?line=4'>5</a>\u001b[0m im \u001b[39m=\u001b[39m Image\u001b[39m.\u001b[39;49mopen(\u001b[39mr\u001b[39;49m\u001b[39m\"\u001b[39;49m\u001b[39mtest.jpg\u001b[39;49m\u001b[39m\"\u001b[39;49m)\n\u001b[1;32m      <a href='vscode-notebook-cell:/home/zaxo7/WorkSpace/DEEP%20LEARNING/MY-U-NET/test_with_other_datasets.ipynb#ch0000000?line=6'>7</a>\u001b[0m left \u001b[39m=\u001b[39m \u001b[39m50\u001b[39m\n\u001b[1;32m      <a href='vscode-notebook-cell:/home/zaxo7/WorkSpace/DEEP%20LEARNING/MY-U-NET/test_with_other_datasets.ipynb#ch0000000?line=7'>8</a>\u001b[0m top \u001b[39m=\u001b[39m \u001b[39m50\u001b[39m\n",
      "File \u001b[0;32m/usr/lib/python3/dist-packages/PIL/Image.py:2809\u001b[0m, in \u001b[0;36mopen\u001b[0;34m(fp, mode)\u001b[0m\n\u001b[1;32m   <a href='file:///usr/lib/python3/dist-packages/PIL/Image.py?line=2805'>2806</a>\u001b[0m     filename \u001b[39m=\u001b[39m fp\n\u001b[1;32m   <a href='file:///usr/lib/python3/dist-packages/PIL/Image.py?line=2807'>2808</a>\u001b[0m \u001b[39mif\u001b[39;00m filename:\n\u001b[0;32m-> <a href='file:///usr/lib/python3/dist-packages/PIL/Image.py?line=2808'>2809</a>\u001b[0m     fp \u001b[39m=\u001b[39m builtins\u001b[39m.\u001b[39;49mopen(filename, \u001b[39m\"\u001b[39;49m\u001b[39mrb\u001b[39;49m\u001b[39m\"\u001b[39;49m)\n\u001b[1;32m   <a href='file:///usr/lib/python3/dist-packages/PIL/Image.py?line=2809'>2810</a>\u001b[0m     exclusive_fp \u001b[39m=\u001b[39m \u001b[39mTrue\u001b[39;00m\n\u001b[1;32m   <a href='file:///usr/lib/python3/dist-packages/PIL/Image.py?line=2811'>2812</a>\u001b[0m \u001b[39mtry\u001b[39;00m:\n",
      "\u001b[0;31mFileNotFoundError\u001b[0m: [Errno 2] No such file or directory: 'test.jpg'"
     ]
    }
   ],
   "source": [
    "from PIL import Image\n",
    "import matplotlib.pyplot as plt\n",
    " \n",
    "\n",
    "im = Image.open(r\"test.jpg\")\n",
    "\n",
    "left = 50\n",
    "top = 50\n",
    "\n",
    "im1 = im.crop((left, top, left + 188, top + 188))\n",
    "\n",
    "data = np.asarray(im1)\n",
    "\n",
    "img_array = np.array(data)\n",
    "\n",
    "normalized_input = (img_array - np.amin(img_array)) / (np.amax(img_array) - np.amin(img_array))\n",
    "\n",
    "normalized_input = np.array([normalized_input])\n",
    "\n",
    "prediction = DOU_NET.model.predict(normalized_input)\n",
    "\n",
    "prediction = np.squeeze(prediction)\n",
    "\n",
    "\n",
    "fig = plt.figure(figsize=(15, 10), dpi=80)\n",
    "fig.subplots_adjust(hspace=0.1, wspace=0.1)\n",
    "ax = fig.add_subplot(2, 3, 1)\n",
    "ax.imshow(normalized_input[0])\n",
    "ax = fig.add_subplot(2, 3, 2)\n",
    "ax.imshow(prediction[0])\n",
    "ax = fig.add_subplot(2, 3, 3)\n",
    "ax.imshow(prediction[1])\n"
   ]
  }
 ],
 "metadata": {
  "interpreter": {
   "hash": "c475343c90b37f20c02fd3a18d45f7c3e275848f34e4c07d7554fbf081374c3b"
  },
  "kernelspec": {
   "display_name": "Python 3.8.10 ('tensorflow')",
   "language": "python",
   "name": "python3"
  },
  "language_info": {
   "codemirror_mode": {
    "name": "ipython",
    "version": 3
   },
   "file_extension": ".py",
   "mimetype": "text/x-python",
   "name": "python",
   "nbconvert_exporter": "python",
   "pygments_lexer": "ipython3",
   "version": "3.8.10"
  },
  "orig_nbformat": 4
 },
 "nbformat": 4,
 "nbformat_minor": 2
}
