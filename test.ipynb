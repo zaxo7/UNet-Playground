{
 "cells": [
  {
   "cell_type": "markdown",
   "metadata": {},
   "source": [
    "- Check for Colab Env\n",
    "> if we are in colab env we need to get the data + scripts from github or somewhere"
   ]
  },
  {
   "cell_type": "code",
   "execution_count": 139,
   "metadata": {},
   "outputs": [],
   "source": [
    "import os\n",
    "if \"COLAB_GPU\" in os.environ:\n",
    "    _useMultiProcessing = False\n",
    "else:\n",
    "    _useMultiProcessing = True"
   ]
  },
  {
   "cell_type": "markdown",
   "metadata": {},
   "source": [
    "- enable module autoreload and fix an import bug"
   ]
  },
  {
   "cell_type": "code",
   "execution_count": 134,
   "metadata": {},
   "outputs": [
    {
     "name": "stdout",
     "output_type": "stream",
     "text": [
      "The autoreload extension is already loaded. To reload it, use:\n",
      "  %reload_ext autoreload\n"
     ]
    }
   ],
   "source": [
    "%load_ext autoreload\n",
    "%autoreload 2\n",
    "\n",
    "import sys,os\n",
    "sys.path.append(os.getcwd() + '/scripts')"
   ]
  },
  {
   "cell_type": "markdown",
   "metadata": {},
   "source": [
    "- import the scripts and data"
   ]
  },
  {
   "cell_type": "code",
   "execution_count": 141,
   "metadata": {},
   "outputs": [],
   "source": [
    "from scripts import data, model\n",
    "import glob\n",
    "import matplotlib.pyplot as plt\n",
    "import tensorflow as tf\n",
    "import numpy as np"
   ]
  },
  {
   "cell_type": "markdown",
   "metadata": {},
   "source": [
    "- create the model and compile it"
   ]
  },
  {
   "cell_type": "code",
   "execution_count": 211,
   "metadata": {},
   "outputs": [
    {
     "name": "stdout",
     "output_type": "stream",
     "text": [
      "Model: \"model_2\"\n",
      "__________________________________________________________________________________________________\n",
      " Layer (type)                   Output Shape         Param #     Connected to                     \n",
      "==================================================================================================\n",
      " input_3 (InputLayer)           [(None, 188, 188, 3  0           []                               \n",
      "                                )]                                                                \n",
      "                                                                                                  \n",
      " conv2d_30 (Conv2D)             (None, 186, 186, 96  2688        ['input_3[0][0]']                \n",
      "                                )                                                                 \n",
      "                                                                                                  \n",
      " batch_normalization_36 (BatchN  (None, 186, 186, 96  384        ['conv2d_30[0][0]']              \n",
      " ormalization)                  )                                                                 \n",
      "                                                                                                  \n",
      " activation_36 (Activation)     (None, 186, 186, 96  0           ['batch_normalization_36[0][0]'] \n",
      "                                )                                                                 \n",
      "                                                                                                  \n",
      " conv2d_31 (Conv2D)             (None, 186, 186, 32  3104        ['activation_36[0][0]']          \n",
      "                                )                                                                 \n",
      "                                                                                                  \n",
      " batch_normalization_37 (BatchN  (None, 186, 186, 32  128        ['conv2d_31[0][0]']              \n",
      " ormalization)                  )                                                                 \n",
      "                                                                                                  \n",
      " activation_37 (Activation)     (None, 186, 186, 32  0           ['batch_normalization_37[0][0]'] \n",
      "                                )                                                                 \n",
      "                                                                                                  \n",
      " conv2d_32 (Conv2D)             (None, 184, 184, 32  9248        ['activation_37[0][0]']          \n",
      "                                )                                                                 \n",
      "                                                                                                  \n",
      " batch_normalization_38 (BatchN  (None, 184, 184, 32  128        ['conv2d_32[0][0]']              \n",
      " ormalization)                  )                                                                 \n",
      "                                                                                                  \n",
      " activation_38 (Activation)     (None, 184, 184, 32  0           ['batch_normalization_38[0][0]'] \n",
      "                                )                                                                 \n",
      "                                                                                                  \n",
      " max_pooling2d_6 (MaxPooling2D)  (None, 92, 92, 32)  0           ['activation_38[0][0]']          \n",
      "                                                                                                  \n",
      " conv2d_33 (Conv2D)             (None, 90, 90, 64)   18496       ['max_pooling2d_6[0][0]']        \n",
      "                                                                                                  \n",
      " batch_normalization_39 (BatchN  (None, 90, 90, 64)  256         ['conv2d_33[0][0]']              \n",
      " ormalization)                                                                                    \n",
      "                                                                                                  \n",
      " activation_39 (Activation)     (None, 90, 90, 64)   0           ['batch_normalization_39[0][0]'] \n",
      "                                                                                                  \n",
      " conv2d_34 (Conv2D)             (None, 88, 88, 64)   36928       ['activation_39[0][0]']          \n",
      "                                                                                                  \n",
      " batch_normalization_40 (BatchN  (None, 88, 88, 64)  256         ['conv2d_34[0][0]']              \n",
      " ormalization)                                                                                    \n",
      "                                                                                                  \n",
      " activation_40 (Activation)     (None, 88, 88, 64)   0           ['batch_normalization_40[0][0]'] \n",
      "                                                                                                  \n",
      " max_pooling2d_7 (MaxPooling2D)  (None, 44, 44, 64)  0           ['activation_40[0][0]']          \n",
      "                                                                                                  \n",
      " conv2d_35 (Conv2D)             (None, 42, 42, 128)  73856       ['max_pooling2d_7[0][0]']        \n",
      "                                                                                                  \n",
      " batch_normalization_41 (BatchN  (None, 42, 42, 128)  512        ['conv2d_35[0][0]']              \n",
      " ormalization)                                                                                    \n",
      "                                                                                                  \n",
      " activation_41 (Activation)     (None, 42, 42, 128)  0           ['batch_normalization_41[0][0]'] \n",
      "                                                                                                  \n",
      " conv2d_36 (Conv2D)             (None, 40, 40, 128)  147584      ['activation_41[0][0]']          \n",
      "                                                                                                  \n",
      " batch_normalization_42 (BatchN  (None, 40, 40, 128)  512        ['conv2d_36[0][0]']              \n",
      " ormalization)                                                                                    \n",
      "                                                                                                  \n",
      " activation_42 (Activation)     (None, 40, 40, 128)  0           ['batch_normalization_42[0][0]'] \n",
      "                                                                                                  \n",
      " max_pooling2d_8 (MaxPooling2D)  (None, 20, 20, 128)  0          ['activation_42[0][0]']          \n",
      "                                                                                                  \n",
      " conv2d_37 (Conv2D)             (None, 18, 18, 256)  295168      ['max_pooling2d_8[0][0]']        \n",
      "                                                                                                  \n",
      " batch_normalization_43 (BatchN  (None, 18, 18, 256)  1024       ['conv2d_37[0][0]']              \n",
      " ormalization)                                                                                    \n",
      "                                                                                                  \n",
      " activation_43 (Activation)     (None, 18, 18, 256)  0           ['batch_normalization_43[0][0]'] \n",
      "                                                                                                  \n",
      " conv2d_38 (Conv2D)             (None, 16, 16, 256)  590080      ['activation_43[0][0]']          \n",
      "                                                                                                  \n",
      " batch_normalization_44 (BatchN  (None, 16, 16, 256)  1024       ['conv2d_38[0][0]']              \n",
      " ormalization)                                                                                    \n",
      "                                                                                                  \n",
      " activation_44 (Activation)     (None, 16, 16, 256)  0           ['batch_normalization_44[0][0]'] \n",
      "                                                                                                  \n",
      " conv2d_transpose_6 (Conv2DTran  (None, 32, 32, 128)  131200     ['activation_44[0][0]']          \n",
      " spose)                                                                                           \n",
      "                                                                                                  \n",
      " batch_normalization_45 (BatchN  (None, 32, 32, 128)  512        ['conv2d_transpose_6[0][0]']     \n",
      " ormalization)                                                                                    \n",
      "                                                                                                  \n",
      " cropping2d_6 (Cropping2D)      (None, 32, 32, 128)  0           ['activation_42[0][0]']          \n",
      "                                                                                                  \n",
      " activation_45 (Activation)     (None, 32, 32, 128)  0           ['batch_normalization_45[0][0]'] \n",
      "                                                                                                  \n",
      " concatenate_6 (Concatenate)    (None, 32, 32, 256)  0           ['cropping2d_6[0][0]',           \n",
      "                                                                  'activation_45[0][0]']          \n",
      "                                                                                                  \n",
      " conv2d_39 (Conv2D)             (None, 30, 30, 128)  295040      ['concatenate_6[0][0]']          \n",
      "                                                                                                  \n",
      " batch_normalization_46 (BatchN  (None, 30, 30, 128)  512        ['conv2d_39[0][0]']              \n",
      " ormalization)                                                                                    \n",
      "                                                                                                  \n",
      " activation_46 (Activation)     (None, 30, 30, 128)  0           ['batch_normalization_46[0][0]'] \n",
      "                                                                                                  \n",
      " conv2d_40 (Conv2D)             (None, 28, 28, 128)  147584      ['activation_46[0][0]']          \n",
      "                                                                                                  \n",
      " batch_normalization_47 (BatchN  (None, 28, 28, 128)  512        ['conv2d_40[0][0]']              \n",
      " ormalization)                                                                                    \n",
      "                                                                                                  \n",
      " activation_47 (Activation)     (None, 28, 28, 128)  0           ['batch_normalization_47[0][0]'] \n",
      "                                                                                                  \n",
      " conv2d_transpose_7 (Conv2DTran  (None, 56, 56, 64)  32832       ['activation_47[0][0]']          \n",
      " spose)                                                                                           \n",
      "                                                                                                  \n",
      " batch_normalization_48 (BatchN  (None, 56, 56, 64)  256         ['conv2d_transpose_7[0][0]']     \n",
      " ormalization)                                                                                    \n",
      "                                                                                                  \n",
      " cropping2d_7 (Cropping2D)      (None, 56, 56, 64)   0           ['activation_40[0][0]']          \n",
      "                                                                                                  \n",
      " activation_48 (Activation)     (None, 56, 56, 64)   0           ['batch_normalization_48[0][0]'] \n",
      "                                                                                                  \n",
      " concatenate_7 (Concatenate)    (None, 56, 56, 128)  0           ['cropping2d_7[0][0]',           \n",
      "                                                                  'activation_48[0][0]']          \n",
      "                                                                                                  \n",
      " conv2d_41 (Conv2D)             (None, 54, 54, 64)   73792       ['concatenate_7[0][0]']          \n",
      "                                                                                                  \n",
      " batch_normalization_49 (BatchN  (None, 54, 54, 64)  256         ['conv2d_41[0][0]']              \n",
      " ormalization)                                                                                    \n",
      "                                                                                                  \n",
      " activation_49 (Activation)     (None, 54, 54, 64)   0           ['batch_normalization_49[0][0]'] \n",
      "                                                                                                  \n",
      " conv2d_42 (Conv2D)             (None, 52, 52, 64)   36928       ['activation_49[0][0]']          \n",
      "                                                                                                  \n",
      " batch_normalization_50 (BatchN  (None, 52, 52, 64)  256         ['conv2d_42[0][0]']              \n",
      " ormalization)                                                                                    \n",
      "                                                                                                  \n",
      " activation_50 (Activation)     (None, 52, 52, 64)   0           ['batch_normalization_50[0][0]'] \n",
      "                                                                                                  \n",
      " conv2d_transpose_8 (Conv2DTran  (None, 104, 104, 32  8224       ['activation_50[0][0]']          \n",
      " spose)                         )                                                                 \n",
      "                                                                                                  \n",
      " batch_normalization_51 (BatchN  (None, 104, 104, 32  128        ['conv2d_transpose_8[0][0]']     \n",
      " ormalization)                  )                                                                 \n",
      "                                                                                                  \n",
      " cropping2d_8 (Cropping2D)      (None, 104, 104, 32  0           ['activation_38[0][0]']          \n",
      "                                )                                                                 \n",
      "                                                                                                  \n",
      " activation_51 (Activation)     (None, 104, 104, 32  0           ['batch_normalization_51[0][0]'] \n",
      "                                )                                                                 \n",
      "                                                                                                  \n",
      " concatenate_8 (Concatenate)    (None, 104, 104, 64  0           ['cropping2d_8[0][0]',           \n",
      "                                )                                 'activation_51[0][0]']          \n",
      "                                                                                                  \n",
      " conv2d_43 (Conv2D)             (None, 102, 102, 32  18464       ['concatenate_8[0][0]']          \n",
      "                                )                                                                 \n",
      "                                                                                                  \n",
      " batch_normalization_52 (BatchN  (None, 102, 102, 32  128        ['conv2d_43[0][0]']              \n",
      " ormalization)                  )                                                                 \n",
      "                                                                                                  \n",
      " activation_52 (Activation)     (None, 102, 102, 32  0           ['batch_normalization_52[0][0]'] \n",
      "                                )                                                                 \n",
      "                                                                                                  \n",
      " conv2d_44 (Conv2D)             (None, 100, 100, 32  9248        ['activation_52[0][0]']          \n",
      "                                )                                                                 \n",
      "                                                                                                  \n",
      " batch_normalization_53 (BatchN  (None, 100, 100, 32  128        ['conv2d_44[0][0]']              \n",
      " ormalization)                  )                                                                 \n",
      "                                                                                                  \n",
      " activation_53 (Activation)     (None, 100, 100, 32  0           ['batch_normalization_53[0][0]'] \n",
      "                                )                                                                 \n",
      "                                                                                                  \n",
      " mask (Conv2D)                  (None, 100, 100, 1)  33          ['activation_53[0][0]']          \n",
      "                                                                                                  \n",
      " edge (Conv2D)                  (None, 100, 100, 1)  33          ['activation_53[0][0]']          \n",
      "                                                                                                  \n",
      "==================================================================================================\n",
      "Total params: 1,937,442\n",
      "Trainable params: 1,933,986\n",
      "Non-trainable params: 3,456\n",
      "__________________________________________________________________________________________________\n"
     ]
    }
   ],
   "source": [
    "unet = model.get_do_unet()\n",
    "\n",
    "unet.compile(optimizer=\"adam\",\n",
    "             loss=\"binary_crossentropy\",\n",
    "             loss_weights=[0.3, 0.7],\n",
    "             metrics=[\"acc\"])\n",
    "\n",
    "unet.summary()"
   ]
  },
  {
   "cell_type": "markdown",
   "metadata": {},
   "source": [
    "- load the dataset"
   ]
  },
  {
   "cell_type": "code",
   "execution_count": 137,
   "metadata": {},
   "outputs": [
    {
     "name": "stderr",
     "output_type": "stream",
     "text": [
      "2022-04-24 18:40:47.431671: W tensorflow/core/framework/cpu_allocator_impl.cc:82] Allocation of 552214656 exceeds 10% of free system memory.\n"
     ]
    }
   ],
   "source": [
    "train_img_files = glob.glob('data/train/*.jpg')\n",
    "test_img_files = glob.glob('data/test/*.jpg')\n",
    "\n",
    "train = model.generate_train_dataset(train_img_files)\n",
    "\n",
    "train_generator = model.generate_train_dataset(train_img_files)\n",
    "\n",
    "train_set = model.generate_train_dataset_tf(train_img_files)\n",
    "\n",
    "test_img_chips, test_mask_chips, test_edge_chips = model.generate_test_dataset(test_img_files)\n",
    "\n",
    "test_set = tf.data.Dataset.from_tensor_slices((test_img_chips, (test_mask_chips, test_edge_chips)))\n"
   ]
  },
  {
   "cell_type": "markdown",
   "metadata": {},
   "source": [
    "- slice each image to small samples of size 188*188\n",
    "- imgs -> rgb image\n",
    "- mask -> mask\n",
    "- edge -> edge_mask"
   ]
  },
  {
   "cell_type": "code",
   "execution_count": null,
   "metadata": {},
   "outputs": [],
   "source": [
    "train_img_chips, (train_mask_chips, train_edge_chips) =  next(train_generator)\n",
    "\n",
    "ind = 200\n",
    "fig = plt.figure(figsize=(15, 10), dpi=80)\n",
    "fig.subplots_adjust(hspace=0.1, wspace=0.1)\n",
    "ax = fig.add_subplot(2, 3, 1)\n",
    "ax.imshow(train_img_chips)\n",
    "ax = fig.add_subplot(2, 3, 2)\n",
    "ax.imshow(train_mask_chips)\n",
    "ax = fig.add_subplot(2, 3, 3)\n",
    "ax.imshow(train_edge_chips)"
   ]
  },
  {
   "cell_type": "markdown",
   "metadata": {},
   "source": [
    "- Train the model"
   ]
  },
  {
   "cell_type": "code",
   "execution_count": 210,
   "metadata": {},
   "outputs": [
    {
     "name": "stdout",
     "output_type": "stream",
     "text": [
      "Epoch 1/4\n",
      "1/1 [==============================] - 35s 35s/step - loss: 1.0810 - mask_loss: 0.5070 - edge_loss: 0.5739 - mask_acc: 0.4307 - edge_acc: 0.0598 - val_loss: 1.3528 - val_mask_loss: 0.6716 - val_edge_loss: 0.6812 - val_mask_acc: 0.4401 - val_edge_acc: 0.0725\n",
      "Epoch 2/4\n",
      "1/1 [==============================] - 35s 35s/step - loss: 1.0026 - mask_loss: 0.4514 - edge_loss: 0.5512 - mask_acc: 0.3538 - edge_acc: 0.0551 - val_loss: 1.3437 - val_mask_loss: 0.6661 - val_edge_loss: 0.6776 - val_mask_acc: 0.4401 - val_edge_acc: 0.0725\n",
      "Epoch 3/4\n",
      "1/1 [==============================] - 34s 34s/step - loss: 0.9466 - mask_loss: 0.4106 - edge_loss: 0.5360 - mask_acc: 0.2153 - edge_acc: 0.0437 - val_loss: 1.3360 - val_mask_loss: 0.6617 - val_edge_loss: 0.6743 - val_mask_acc: 0.4401 - val_edge_acc: 0.0725\n",
      "Epoch 4/4\n",
      "1/1 [==============================] - 39s 39s/step - loss: 0.8919 - mask_loss: 0.3583 - edge_loss: 0.5336 - mask_acc: 0.4324 - edge_acc: 0.0703 - val_loss: 1.3262 - val_mask_loss: 0.6556 - val_edge_loss: 0.6706 - val_mask_acc: 0.4401 - val_edge_acc: 0.0725\n"
     ]
    },
    {
     "data": {
      "text/plain": [
       "<keras.callbacks.History at 0x7f6177c5cac0>"
      ]
     },
     "execution_count": 210,
     "metadata": {},
     "output_type": "execute_result"
    }
   ],
   "source": [
    "_batch_size = 8\n",
    "_epochs = 4\n",
    "_workers = 8\n",
    "_model_name = 'A'\n",
    "\n",
    "train_steps = len(train_img_files)//_batch_size\n",
    "validation_steps = len(test_img_files)//_batch_size\n",
    "\n",
    "unet.fit(train_set.batch(_batch_size), \n",
    "         epochs=_epochs, \n",
    "         validation_data=test_set.batch(_batch_size), \n",
    "         steps_per_epoch=train_steps,\n",
    "         max_queue_size=2*_workers,\n",
    "         use_multiprocessing=_useMultiProcessing,\n",
    "         workers=_workers,\n",
    "         verbose=1,\n",
    "         callbacks=model.get_callbacks(_model_name))"
   ]
  },
  {
   "cell_type": "code",
   "execution_count": 209,
   "metadata": {},
   "outputs": [
    {
     "data": {
      "text/plain": [
       "1.0"
      ]
     },
     "execution_count": 209,
     "metadata": {},
     "output_type": "execute_result"
    }
   ],
   "source": [
    "img = test_img_chips[np.random.randint(0, len(test_img_chips), 1)[0]]\n",
    "\n",
    "img = np.array([np.squeeze(img)])\n",
    "\n",
    "\n",
    "prediction = unet.predict(img)\n",
    "\n",
    "np.array(prediction).min()\n"
   ]
  },
  {
   "cell_type": "code",
   "execution_count": 168,
   "metadata": {},
   "outputs": [
    {
     "data": {
      "text/plain": [
       "1"
      ]
     },
     "execution_count": 168,
     "metadata": {},
     "output_type": "execute_result"
    }
   ],
   "source": [
    "np.random.randint(0, 5, 1)[0]"
   ]
  }
 ],
 "metadata": {
  "interpreter": {
   "hash": "c475343c90b37f20c02fd3a18d45f7c3e275848f34e4c07d7554fbf081374c3b"
  },
  "kernelspec": {
   "display_name": "Python 3.8.10 ('tensorflow')",
   "language": "python",
   "name": "python3"
  },
  "language_info": {
   "codemirror_mode": {
    "name": "ipython",
    "version": 3
   },
   "file_extension": ".py",
   "mimetype": "text/x-python",
   "name": "python",
   "nbconvert_exporter": "python",
   "pygments_lexer": "ipython3",
   "version": "3.8.10"
  },
  "orig_nbformat": 4
 },
 "nbformat": 4,
 "nbformat_minor": 2
}
