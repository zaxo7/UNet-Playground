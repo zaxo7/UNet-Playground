{
 "cells": [
  {
   "cell_type": "markdown",
   "metadata": {},
   "source": [
    "- Check for Colab Env\n",
    "> if we are in colab env we need to get the data + scripts from github or somewhere"
   ]
  },
  {
   "cell_type": "code",
   "execution_count": null,
   "metadata": {},
   "outputs": [],
   "source": [
    "import os\n",
    "if \"COLAB_GPU\" in os.environ:\n",
    "    _useMultiProcessing = False\n",
    "    os.system(\"git clone https://github.com/zaxo7/UNet-Playground.git\")\n",
    "    os.chdir(\"/content/UNet-Playground/\")\n",
    "else:\n",
    "    _useMultiProcessing = True\n"
   ]
  },
  {
   "cell_type": "markdown",
   "metadata": {},
   "source": [
    "- enable module autoreload and fix an import bug"
   ]
  },
  {
   "cell_type": "code",
   "execution_count": 11,
   "metadata": {},
   "outputs": [
    {
     "name": "stdout",
     "output_type": "stream",
     "text": [
      "The autoreload extension is already loaded. To reload it, use:\n",
      "  %reload_ext autoreload\n"
     ]
    }
   ],
   "source": [
    "%load_ext autoreload\n",
    "%autoreload 2\n",
    "\n",
    "import sys,os\n",
    "sys.path.append(os.getcwd() + '/scripts')"
   ]
  },
  {
   "cell_type": "markdown",
   "metadata": {},
   "source": [
    "- import the scripts and data"
   ]
  },
  {
   "cell_type": "code",
   "execution_count": 12,
   "metadata": {},
   "outputs": [],
   "source": [
    "from scripts import data, model\n",
    "import glob\n",
    "import matplotlib.pyplot as plt\n",
    "import tensorflow as tf\n",
    "import numpy as np"
   ]
  },
  {
   "cell_type": "markdown",
   "metadata": {},
   "source": [
    "- load the dataset"
   ]
  },
  {
   "cell_type": "markdown",
   "metadata": {},
   "source": [
    "- slice each image to small samples of size 188*188\n",
    "- imgs -> rgb image\n",
    "- mask -> mask\n",
    "- edge -> edge_mask"
   ]
  },
  {
   "cell_type": "code",
   "execution_count": null,
   "metadata": {},
   "outputs": [],
   "source": [
    "train_img_files = glob.glob('data/train/*.jpg')\n",
    "test_img_files = glob.glob('data/test/*.jpg')\n",
    "\n",
    "train = model.generate_train_dataset(train_img_files)\n",
    "\n",
    "train_generator = model.generate_train_dataset(train_img_files)\n",
    "\n",
    "train_set = model.generate_train_dataset_tf(train_img_files)\n",
    "\n",
    "test_img_chips, test_mask_chips, test_edge_chips = model.generate_test_dataset(test_img_files)\n",
    "\n",
    "test_set = tf.data.Dataset.from_tensor_slices((test_img_chips, (test_mask_chips, test_edge_chips)))\n"
   ]
  },
  {
   "cell_type": "code",
   "execution_count": null,
   "metadata": {},
   "outputs": [],
   "source": [
    "train_img_chips, (train_mask_chips, train_edge_chips) =  next(train_generator)\n",
    "\n",
    "ind = 200\n",
    "fig = plt.figure(figsize=(15, 10), dpi=80)\n",
    "fig.subplots_adjust(hspace=0.1, wspace=0.1)\n",
    "ax = fig.add_subplot(2, 3, 1)\n",
    "ax.imshow(train_img_chips)\n",
    "ax = fig.add_subplot(2, 3, 2)\n",
    "ax.imshow(train_mask_chips)\n",
    "ax = fig.add_subplot(2, 3, 3)\n",
    "ax.imshow(train_edge_chips)"
   ]
  },
  {
   "cell_type": "markdown",
   "metadata": {},
   "source": [
    "- create the model and compile it"
   ]
  },
  {
   "cell_type": "code",
   "execution_count": 16,
   "metadata": {},
   "outputs": [
    {
     "name": "stdout",
     "output_type": "stream",
     "text": [
      "Model: \"model_3\"\n",
      "__________________________________________________________________________________________________\n",
      " Layer (type)                   Output Shape         Param #     Connected to                     \n",
      "==================================================================================================\n",
      " input_4 (InputLayer)           [(None, 188, 188, 3  0           []                               \n",
      "                                )]                                                                \n",
      "                                                                                                  \n",
      " conv2d_45 (Conv2D)             (None, 186, 186, 96  2688        ['input_4[0][0]']                \n",
      "                                )                                                                 \n",
      "                                                                                                  \n",
      " batch_normalization_54 (BatchN  (None, 186, 186, 96  384        ['conv2d_45[0][0]']              \n",
      " ormalization)                  )                                                                 \n",
      "                                                                                                  \n",
      " activation_54 (Activation)     (None, 186, 186, 96  0           ['batch_normalization_54[0][0]'] \n",
      "                                )                                                                 \n",
      "                                                                                                  \n",
      " conv2d_46 (Conv2D)             (None, 186, 186, 32  3104        ['activation_54[0][0]']          \n",
      "                                )                                                                 \n",
      "                                                                                                  \n",
      " batch_normalization_55 (BatchN  (None, 186, 186, 32  128        ['conv2d_46[0][0]']              \n",
      " ormalization)                  )                                                                 \n",
      "                                                                                                  \n",
      " activation_55 (Activation)     (None, 186, 186, 32  0           ['batch_normalization_55[0][0]'] \n",
      "                                )                                                                 \n",
      "                                                                                                  \n",
      " conv2d_47 (Conv2D)             (None, 184, 184, 32  9248        ['activation_55[0][0]']          \n",
      "                                )                                                                 \n",
      "                                                                                                  \n",
      " batch_normalization_56 (BatchN  (None, 184, 184, 32  128        ['conv2d_47[0][0]']              \n",
      " ormalization)                  )                                                                 \n",
      "                                                                                                  \n",
      " activation_56 (Activation)     (None, 184, 184, 32  0           ['batch_normalization_56[0][0]'] \n",
      "                                )                                                                 \n",
      "                                                                                                  \n",
      " max_pooling2d_9 (MaxPooling2D)  (None, 92, 92, 32)  0           ['activation_56[0][0]']          \n",
      "                                                                                                  \n",
      " conv2d_48 (Conv2D)             (None, 90, 90, 64)   18496       ['max_pooling2d_9[0][0]']        \n",
      "                                                                                                  \n",
      " batch_normalization_57 (BatchN  (None, 90, 90, 64)  256         ['conv2d_48[0][0]']              \n",
      " ormalization)                                                                                    \n",
      "                                                                                                  \n",
      " activation_57 (Activation)     (None, 90, 90, 64)   0           ['batch_normalization_57[0][0]'] \n",
      "                                                                                                  \n",
      " conv2d_49 (Conv2D)             (None, 88, 88, 64)   36928       ['activation_57[0][0]']          \n",
      "                                                                                                  \n",
      " batch_normalization_58 (BatchN  (None, 88, 88, 64)  256         ['conv2d_49[0][0]']              \n",
      " ormalization)                                                                                    \n",
      "                                                                                                  \n",
      " activation_58 (Activation)     (None, 88, 88, 64)   0           ['batch_normalization_58[0][0]'] \n",
      "                                                                                                  \n",
      " max_pooling2d_10 (MaxPooling2D  (None, 44, 44, 64)  0           ['activation_58[0][0]']          \n",
      " )                                                                                                \n",
      "                                                                                                  \n",
      " conv2d_50 (Conv2D)             (None, 42, 42, 128)  73856       ['max_pooling2d_10[0][0]']       \n",
      "                                                                                                  \n",
      " batch_normalization_59 (BatchN  (None, 42, 42, 128)  512        ['conv2d_50[0][0]']              \n",
      " ormalization)                                                                                    \n",
      "                                                                                                  \n",
      " activation_59 (Activation)     (None, 42, 42, 128)  0           ['batch_normalization_59[0][0]'] \n",
      "                                                                                                  \n",
      " conv2d_51 (Conv2D)             (None, 40, 40, 128)  147584      ['activation_59[0][0]']          \n",
      "                                                                                                  \n",
      " batch_normalization_60 (BatchN  (None, 40, 40, 128)  512        ['conv2d_51[0][0]']              \n",
      " ormalization)                                                                                    \n",
      "                                                                                                  \n",
      " activation_60 (Activation)     (None, 40, 40, 128)  0           ['batch_normalization_60[0][0]'] \n",
      "                                                                                                  \n",
      " max_pooling2d_11 (MaxPooling2D  (None, 20, 20, 128)  0          ['activation_60[0][0]']          \n",
      " )                                                                                                \n",
      "                                                                                                  \n",
      " conv2d_52 (Conv2D)             (None, 18, 18, 256)  295168      ['max_pooling2d_11[0][0]']       \n",
      "                                                                                                  \n",
      " batch_normalization_61 (BatchN  (None, 18, 18, 256)  1024       ['conv2d_52[0][0]']              \n",
      " ormalization)                                                                                    \n",
      "                                                                                                  \n",
      " activation_61 (Activation)     (None, 18, 18, 256)  0           ['batch_normalization_61[0][0]'] \n",
      "                                                                                                  \n",
      " conv2d_53 (Conv2D)             (None, 16, 16, 256)  590080      ['activation_61[0][0]']          \n",
      "                                                                                                  \n",
      " batch_normalization_62 (BatchN  (None, 16, 16, 256)  1024       ['conv2d_53[0][0]']              \n",
      " ormalization)                                                                                    \n",
      "                                                                                                  \n",
      " activation_62 (Activation)     (None, 16, 16, 256)  0           ['batch_normalization_62[0][0]'] \n",
      "                                                                                                  \n",
      " conv2d_transpose_9 (Conv2DTran  (None, 32, 32, 128)  131200     ['activation_62[0][0]']          \n",
      " spose)                                                                                           \n",
      "                                                                                                  \n",
      " batch_normalization_63 (BatchN  (None, 32, 32, 128)  512        ['conv2d_transpose_9[0][0]']     \n",
      " ormalization)                                                                                    \n",
      "                                                                                                  \n",
      " cropping2d_9 (Cropping2D)      (None, 32, 32, 128)  0           ['activation_60[0][0]']          \n",
      "                                                                                                  \n",
      " activation_63 (Activation)     (None, 32, 32, 128)  0           ['batch_normalization_63[0][0]'] \n",
      "                                                                                                  \n",
      " concatenate_9 (Concatenate)    (None, 32, 32, 256)  0           ['cropping2d_9[0][0]',           \n",
      "                                                                  'activation_63[0][0]']          \n",
      "                                                                                                  \n",
      " conv2d_54 (Conv2D)             (None, 30, 30, 128)  295040      ['concatenate_9[0][0]']          \n",
      "                                                                                                  \n",
      " batch_normalization_64 (BatchN  (None, 30, 30, 128)  512        ['conv2d_54[0][0]']              \n",
      " ormalization)                                                                                    \n",
      "                                                                                                  \n",
      " activation_64 (Activation)     (None, 30, 30, 128)  0           ['batch_normalization_64[0][0]'] \n",
      "                                                                                                  \n",
      " conv2d_55 (Conv2D)             (None, 28, 28, 128)  147584      ['activation_64[0][0]']          \n",
      "                                                                                                  \n",
      " batch_normalization_65 (BatchN  (None, 28, 28, 128)  512        ['conv2d_55[0][0]']              \n",
      " ormalization)                                                                                    \n",
      "                                                                                                  \n",
      " activation_65 (Activation)     (None, 28, 28, 128)  0           ['batch_normalization_65[0][0]'] \n",
      "                                                                                                  \n",
      " conv2d_transpose_10 (Conv2DTra  (None, 56, 56, 64)  32832       ['activation_65[0][0]']          \n",
      " nspose)                                                                                          \n",
      "                                                                                                  \n",
      " batch_normalization_66 (BatchN  (None, 56, 56, 64)  256         ['conv2d_transpose_10[0][0]']    \n",
      " ormalization)                                                                                    \n",
      "                                                                                                  \n",
      " cropping2d_10 (Cropping2D)     (None, 56, 56, 64)   0           ['activation_58[0][0]']          \n",
      "                                                                                                  \n",
      " activation_66 (Activation)     (None, 56, 56, 64)   0           ['batch_normalization_66[0][0]'] \n",
      "                                                                                                  \n",
      " concatenate_10 (Concatenate)   (None, 56, 56, 128)  0           ['cropping2d_10[0][0]',          \n",
      "                                                                  'activation_66[0][0]']          \n",
      "                                                                                                  \n",
      " conv2d_56 (Conv2D)             (None, 54, 54, 64)   73792       ['concatenate_10[0][0]']         \n",
      "                                                                                                  \n",
      " batch_normalization_67 (BatchN  (None, 54, 54, 64)  256         ['conv2d_56[0][0]']              \n",
      " ormalization)                                                                                    \n",
      "                                                                                                  \n",
      " activation_67 (Activation)     (None, 54, 54, 64)   0           ['batch_normalization_67[0][0]'] \n",
      "                                                                                                  \n",
      " conv2d_57 (Conv2D)             (None, 52, 52, 64)   36928       ['activation_67[0][0]']          \n",
      "                                                                                                  \n",
      " batch_normalization_68 (BatchN  (None, 52, 52, 64)  256         ['conv2d_57[0][0]']              \n",
      " ormalization)                                                                                    \n",
      "                                                                                                  \n",
      " activation_68 (Activation)     (None, 52, 52, 64)   0           ['batch_normalization_68[0][0]'] \n",
      "                                                                                                  \n",
      " conv2d_transpose_11 (Conv2DTra  (None, 104, 104, 32  8224       ['activation_68[0][0]']          \n",
      " nspose)                        )                                                                 \n",
      "                                                                                                  \n",
      " batch_normalization_69 (BatchN  (None, 104, 104, 32  128        ['conv2d_transpose_11[0][0]']    \n",
      " ormalization)                  )                                                                 \n",
      "                                                                                                  \n",
      " cropping2d_11 (Cropping2D)     (None, 104, 104, 32  0           ['activation_56[0][0]']          \n",
      "                                )                                                                 \n",
      "                                                                                                  \n",
      " activation_69 (Activation)     (None, 104, 104, 32  0           ['batch_normalization_69[0][0]'] \n",
      "                                )                                                                 \n",
      "                                                                                                  \n",
      " concatenate_11 (Concatenate)   (None, 104, 104, 64  0           ['cropping2d_11[0][0]',          \n",
      "                                )                                 'activation_69[0][0]']          \n",
      "                                                                                                  \n",
      " conv2d_58 (Conv2D)             (None, 102, 102, 32  18464       ['concatenate_11[0][0]']         \n",
      "                                )                                                                 \n",
      "                                                                                                  \n",
      " batch_normalization_70 (BatchN  (None, 102, 102, 32  128        ['conv2d_58[0][0]']              \n",
      " ormalization)                  )                                                                 \n",
      "                                                                                                  \n",
      " activation_70 (Activation)     (None, 102, 102, 32  0           ['batch_normalization_70[0][0]'] \n",
      "                                )                                                                 \n",
      "                                                                                                  \n",
      " conv2d_59 (Conv2D)             (None, 100, 100, 32  9248        ['activation_70[0][0]']          \n",
      "                                )                                                                 \n",
      "                                                                                                  \n",
      " batch_normalization_71 (BatchN  (None, 100, 100, 32  128        ['conv2d_59[0][0]']              \n",
      " ormalization)                  )                                                                 \n",
      "                                                                                                  \n",
      " activation_71 (Activation)     (None, 100, 100, 32  0           ['batch_normalization_71[0][0]'] \n",
      "                                )                                                                 \n",
      "                                                                                                  \n",
      " mask (Conv2D)                  (None, 100, 100, 1)  33          ['activation_71[0][0]']          \n",
      "                                                                                                  \n",
      " edge (Conv2D)                  (None, 100, 100, 1)  33          ['activation_71[0][0]']          \n",
      "                                                                                                  \n",
      "==================================================================================================\n",
      "Total params: 1,937,442\n",
      "Trainable params: 1,933,986\n",
      "Non-trainable params: 3,456\n",
      "__________________________________________________________________________________________________\n"
     ]
    }
   ],
   "source": [
    "unet = model.get_do_unet()\n",
    "\n",
    "unet.compile(optimizer=\"adam\",\n",
    "             loss=model.focal_loss,\n",
    "             loss_weights=[0.3, 0.7],\n",
    "             metrics=[\"acc\"])\n",
    "\n",
    "unet.summary()"
   ]
  },
  {
   "cell_type": "markdown",
   "metadata": {},
   "source": [
    "- Train the model"
   ]
  },
  {
   "cell_type": "code",
   "execution_count": 17,
   "metadata": {},
   "outputs": [
    {
     "name": "stdout",
     "output_type": "stream",
     "text": [
      "Epoch 1/4\n",
      "125/125 [==============================] - ETA: 0s - loss: 0.4406 - mask_loss: 0.3153 - edge_loss: 0.4943 - mask_acc: 0.4055 - edge_acc: 0.0617"
     ]
    }
   ],
   "source": [
    "_batch_size = 8\n",
    "_epochs = 4\n",
    "_workers = 8\n",
    "_model_name = 'focal_loss'\n",
    "images_per_epoch = 1000\n",
    "train_steps = images_per_epoch//_batch_size\n",
    "validation_steps = len(test_img_files)//_batch_size\n",
    "\n",
    "unet.fit(train_set.batch(_batch_size), \n",
    "         epochs=_epochs, \n",
    "         validation_data=test_set.batch(_batch_size), \n",
    "         steps_per_epoch=train_steps,\n",
    "         max_queue_size=2*_workers,\n",
    "         use_multiprocessing=_useMultiProcessing,\n",
    "         workers=_workers,\n",
    "         verbose=1,\n",
    "         callbacks=model.get_callbacks(_model_name))"
   ]
  },
  {
   "cell_type": "code",
   "execution_count": null,
   "metadata": {},
   "outputs": [],
   "source": [
    "img = test_img_chips[np.random.randint(0, len(test_img_chips), 1)[0]]\n",
    "\n",
    "img = np.array([np.squeeze(img)])\n",
    "\n",
    "\n",
    "prediction = unet.predict(img)\n",
    "\n",
    "np.array(prediction).min()\n"
   ]
  },
  {
   "cell_type": "code",
   "execution_count": null,
   "metadata": {},
   "outputs": [],
   "source": [
    "np.random.randint(0, 5, 1)[0]"
   ]
  }
 ],
 "metadata": {
  "interpreter": {
   "hash": "c475343c90b37f20c02fd3a18d45f7c3e275848f34e4c07d7554fbf081374c3b"
  },
  "kernelspec": {
   "display_name": "Python 3.8.10 ('tensorflow')",
   "language": "python",
   "name": "python3"
  },
  "language_info": {
   "codemirror_mode": {
    "name": "ipython",
    "version": 3
   },
   "file_extension": ".py",
   "mimetype": "text/x-python",
   "name": "python",
   "nbconvert_exporter": "python",
   "pygments_lexer": "ipython3",
   "version": "3.8.10"
  },
  "orig_nbformat": 4
 },
 "nbformat": 4,
 "nbformat_minor": 2
}
